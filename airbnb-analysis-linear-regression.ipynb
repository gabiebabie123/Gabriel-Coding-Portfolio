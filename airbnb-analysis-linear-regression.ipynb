{
 "cells": [
  {
   "cell_type": "code",
   "execution_count": 1,
   "id": "27744f30",
   "metadata": {
    "execution": {
     "iopub.execute_input": "2023-03-19T17:04:20.139712Z",
     "iopub.status.busy": "2023-03-19T17:04:20.137063Z",
     "iopub.status.idle": "2023-03-19T17:04:21.312937Z",
     "shell.execute_reply": "2023-03-19T17:04:21.311023Z"
    },
    "papermill": {
     "duration": 1.185199,
     "end_time": "2023-03-19T17:04:21.315383",
     "exception": false,
     "start_time": "2023-03-19T17:04:20.130184",
     "status": "completed"
    },
    "tags": []
   },
   "outputs": [
    {
     "name": "stderr",
     "output_type": "stream",
     "text": [
      "── \u001b[1mAttaching core tidyverse packages\u001b[22m ──────────────────────── tidyverse 2.0.0 ──\n",
      "\u001b[32m✔\u001b[39m \u001b[34mdplyr    \u001b[39m 1.1.0     \u001b[32m✔\u001b[39m \u001b[34mreadr    \u001b[39m 2.1.4\n",
      "\u001b[32m✔\u001b[39m \u001b[34mforcats  \u001b[39m 1.0.0     \u001b[32m✔\u001b[39m \u001b[34mstringr  \u001b[39m 1.5.0\n",
      "\u001b[32m✔\u001b[39m \u001b[34mggplot2  \u001b[39m 3.4.1     \u001b[32m✔\u001b[39m \u001b[34mtibble   \u001b[39m 3.1.8\n",
      "\u001b[32m✔\u001b[39m \u001b[34mlubridate\u001b[39m 1.9.2     \u001b[32m✔\u001b[39m \u001b[34mtidyr    \u001b[39m 1.3.0\n",
      "\u001b[32m✔\u001b[39m \u001b[34mpurrr    \u001b[39m 1.0.1     \n",
      "── \u001b[1mConflicts\u001b[22m ────────────────────────────────────────── tidyverse_conflicts() ──\n",
      "\u001b[31m✖\u001b[39m \u001b[34mdplyr\u001b[39m::\u001b[32mfilter()\u001b[39m masks \u001b[34mstats\u001b[39m::filter()\n",
      "\u001b[31m✖\u001b[39m \u001b[34mdplyr\u001b[39m::\u001b[32mlag()\u001b[39m    masks \u001b[34mstats\u001b[39m::lag()\n",
      "\u001b[36mℹ\u001b[39m Use the conflicted package (\u001b[3m\u001b[34m<http://conflicted.r-lib.org/>\u001b[39m\u001b[23m) to force all conflicts to become errors\n",
      "\n",
      "Please cite as: \n",
      "\n",
      "\n",
      " Hlavac, Marek (2022). stargazer: Well-Formatted Regression and Summary Statistics Tables.\n",
      "\n",
      " R package version 5.2.3. https://CRAN.R-project.org/package=stargazer \n",
      "\n",
      "\n"
     ]
    }
   ],
   "source": [
    "#Loading Packages\n",
    "library(tidyverse)\n",
    "library(ggplot2)\n",
    "library(stargazer)\n",
    "library(corrr)"
   ]
  },
  {
   "cell_type": "code",
   "execution_count": 2,
   "id": "274e2426",
   "metadata": {
    "execution": {
     "iopub.execute_input": "2023-03-19T17:04:21.353708Z",
     "iopub.status.busy": "2023-03-19T17:04:21.324567Z",
     "iopub.status.idle": "2023-03-19T17:04:21.363807Z",
     "shell.execute_reply": "2023-03-19T17:04:21.362190Z"
    },
    "papermill": {
     "duration": 0.046857,
     "end_time": "2023-03-19T17:04:21.366107",
     "exception": false,
     "start_time": "2023-03-19T17:04:21.319250",
     "status": "completed"
    },
    "tags": []
   },
   "outputs": [],
   "source": [
    "#This project was completed for my M.S. Business Analytics at Georgetown University in Programming. This\n",
    "#project was a group project that I contributed to analyzing Airbnb prices across different neighborhoods\n",
    "#with different parameters across the DC area."
   ]
  },
  {
   "cell_type": "code",
   "execution_count": 3,
   "id": "7033ff91",
   "metadata": {
    "execution": {
     "iopub.execute_input": "2023-03-19T17:04:21.376399Z",
     "iopub.status.busy": "2023-03-19T17:04:21.374946Z",
     "iopub.status.idle": "2023-03-19T17:04:21.420465Z",
     "shell.execute_reply": "2023-03-19T17:04:21.418718Z"
    },
    "papermill": {
     "duration": 0.061244,
     "end_time": "2023-03-19T17:04:21.430991",
     "exception": false,
     "start_time": "2023-03-19T17:04:21.369747",
     "status": "completed"
    },
    "tags": []
   },
   "outputs": [],
   "source": [
    "#Loading data, please use the listings and reviews datasets that are attached to this notebook\n",
    "Listing=read.csv(\"/kaggle/input/listings/Listings.csv\")\n",
    "Review=read.csv(\"/kaggle/input/reviews/Reviews.csv\")"
   ]
  },
  {
   "cell_type": "code",
   "execution_count": 4,
   "id": "bc60a179",
   "metadata": {
    "execution": {
     "iopub.execute_input": "2023-03-19T17:04:21.441557Z",
     "iopub.status.busy": "2023-03-19T17:04:21.440154Z",
     "iopub.status.idle": "2023-03-19T17:04:21.465239Z",
     "shell.execute_reply": "2023-03-19T17:04:21.463682Z"
    },
    "papermill": {
     "duration": 0.033532,
     "end_time": "2023-03-19T17:04:21.468140",
     "exception": false,
     "start_time": "2023-03-19T17:04:21.434608",
     "status": "completed"
    },
    "tags": []
   },
   "outputs": [],
   "source": [
    "#We used left join to join the datasets and combined them using the \"listing_id\" column as the one both had in common.\n",
    "ABBData= left_join(Listing,Review,by=\"listing_id\")"
   ]
  },
  {
   "cell_type": "code",
   "execution_count": 5,
   "id": "5c5fb19a",
   "metadata": {
    "execution": {
     "iopub.execute_input": "2023-03-19T17:04:21.478249Z",
     "iopub.status.busy": "2023-03-19T17:04:21.476921Z",
     "iopub.status.idle": "2023-03-19T17:04:21.561402Z",
     "shell.execute_reply": "2023-03-19T17:04:21.559804Z"
    },
    "papermill": {
     "duration": 0.092418,
     "end_time": "2023-03-19T17:04:21.564129",
     "exception": false,
     "start_time": "2023-03-19T17:04:21.471711",
     "status": "completed"
    },
    "tags": []
   },
   "outputs": [
    {
     "data": {
      "text/html": [
       "TRUE"
      ],
      "text/latex": [
       "TRUE"
      ],
      "text/markdown": [
       "TRUE"
      ],
      "text/plain": [
       "[1] TRUE"
      ]
     },
     "metadata": {},
     "output_type": "display_data"
    },
    {
     "data": {
      "text/html": [
       "<style>\n",
       ".dl-inline {width: auto; margin:0; padding: 0}\n",
       ".dl-inline>dt, .dl-inline>dd {float: none; width: auto; display: inline-block}\n",
       ".dl-inline>dt::after {content: \":\\0020\"; padding-right: .5ex}\n",
       ".dl-inline>dt:not(:first-of-type) {padding-left: .5ex}\n",
       "</style><dl class=dl-inline><dt>listing_id</dt><dd>FALSE</dd><dt>host_since</dt><dd>FALSE</dd><dt>host_acceptance_rate</dt><dd>TRUE</dd><dt>superhost</dt><dd>FALSE</dd><dt>host_total_listings</dt><dd>FALSE</dd><dt>neighborhood</dt><dd>FALSE</dd><dt>room_type</dt><dd>TRUE</dd><dt>accommodates</dt><dd>FALSE</dd><dt>beds</dt><dd>FALSE</dd><dt>min_nights</dt><dd>FALSE</dd><dt>price</dt><dd>FALSE</dd></dl>\n"
      ],
      "text/latex": [
       "\\begin{description*}\n",
       "\\item[listing\\textbackslash{}\\_id] FALSE\n",
       "\\item[host\\textbackslash{}\\_since] FALSE\n",
       "\\item[host\\textbackslash{}\\_acceptance\\textbackslash{}\\_rate] TRUE\n",
       "\\item[superhost] FALSE\n",
       "\\item[host\\textbackslash{}\\_total\\textbackslash{}\\_listings] FALSE\n",
       "\\item[neighborhood] FALSE\n",
       "\\item[room\\textbackslash{}\\_type] TRUE\n",
       "\\item[accommodates] FALSE\n",
       "\\item[beds] FALSE\n",
       "\\item[min\\textbackslash{}\\_nights] FALSE\n",
       "\\item[price] FALSE\n",
       "\\end{description*}\n"
      ],
      "text/markdown": [
       "listing_id\n",
       ":   FALSEhost_since\n",
       ":   FALSEhost_acceptance_rate\n",
       ":   TRUEsuperhost\n",
       ":   FALSEhost_total_listings\n",
       ":   FALSEneighborhood\n",
       ":   FALSEroom_type\n",
       ":   TRUEaccommodates\n",
       ":   FALSEbeds\n",
       ":   FALSEmin_nights\n",
       ":   FALSEprice\n",
       ":   FALSE\n",
       "\n"
      ],
      "text/plain": [
       "          listing_id           host_since host_acceptance_rate \n",
       "               FALSE                FALSE                 TRUE \n",
       "           superhost  host_total_listings         neighborhood \n",
       "               FALSE                FALSE                FALSE \n",
       "           room_type         accommodates                 beds \n",
       "                TRUE                FALSE                FALSE \n",
       "          min_nights                price \n",
       "               FALSE                FALSE "
      ]
     },
     "metadata": {},
     "output_type": "display_data"
    },
    {
     "data": {
      "text/html": [
       "187"
      ],
      "text/latex": [
       "187"
      ],
      "text/markdown": [
       "187"
      ],
      "text/plain": [
       "[1] 187"
      ]
     },
     "metadata": {},
     "output_type": "display_data"
    },
    {
     "data": {
      "text/html": [
       "20"
      ],
      "text/latex": [
       "20"
      ],
      "text/markdown": [
       "20"
      ],
      "text/plain": [
       "[1] 20"
      ]
     },
     "metadata": {},
     "output_type": "display_data"
    },
    {
     "data": {
      "text/html": [
       "17"
      ],
      "text/latex": [
       "17"
      ],
      "text/markdown": [
       "17"
      ],
      "text/plain": [
       "[1] 17"
      ]
     },
     "metadata": {},
     "output_type": "display_data"
    },
    {
     "data": {
      "text/html": [
       "17"
      ],
      "text/latex": [
       "17"
      ],
      "text/markdown": [
       "17"
      ],
      "text/plain": [
       "[1] 17"
      ]
     },
     "metadata": {},
     "output_type": "display_data"
    },
    {
     "data": {
      "text/html": [
       "<style>\n",
       ".list-inline {list-style: none; margin:0; padding: 0}\n",
       ".list-inline>li {display: inline-block}\n",
       ".list-inline>li:not(:last-child)::after {content: \"\\00b7\"; padding: 0 .5ex}\n",
       "</style>\n",
       "<ol class=list-inline><li>1</li><li>26</li><li>49</li><li>52</li><li>56</li><li>96</li><li>114</li><li>130</li><li>144</li><li>145</li><li>149</li><li>150</li><li>161</li><li>162</li><li>164</li><li>172</li><li>193</li><li>195</li><li>199</li><li>205</li><li>219</li><li>221</li><li>231</li><li>241</li><li>263</li><li>267</li><li>277</li><li>280</li><li>288</li><li>289</li><li>294</li><li>295</li><li>302</li><li>307</li><li>310</li><li>312</li><li>315</li><li>317</li><li>318</li><li>321</li><li>322</li><li>331</li><li>334</li><li>336</li><li>338</li><li>343</li><li>347</li><li>357</li><li>359</li><li>360</li><li>371</li><li>376</li><li>380</li><li>387</li><li>391</li><li>393</li><li>398</li><li>399</li><li>400</li><li>407</li><li>408</li><li>409</li><li>414</li><li>418</li><li>419</li><li>424</li><li>425</li><li>427</li><li>436</li><li>437</li><li>440</li><li>445</li><li>460</li><li>464</li><li>466</li><li>472</li><li>473</li><li>475</li><li>480</li><li>485</li><li>490</li><li>492</li><li>494</li><li>514</li><li>516</li><li>517</li><li>525</li><li>527</li><li>532</li><li>536</li><li>537</li><li>542</li><li>552</li><li>556</li><li>557</li><li>560</li><li>562</li><li>575</li><li>578</li><li>579</li><li>584</li><li>605</li><li>606</li><li>615</li><li>622</li><li>626</li><li>636</li><li>638</li><li>640</li><li>662</li><li>678</li><li>679</li><li>683</li><li>686</li><li>690</li><li>699</li><li>702</li><li>703</li><li>704</li><li>706</li><li>711</li><li>725</li><li>731</li><li>732</li><li>733</li><li>739</li><li>746</li><li>748</li><li>759</li><li>785</li><li>795</li><li>796</li><li>798</li><li>802</li><li>816</li><li>834</li><li>836</li><li>864</li><li>867</li><li>871</li><li>877</li><li>890</li><li>891</li><li>919</li><li>922</li><li>927</li><li>928</li><li>944</li><li>948</li><li>949</li><li>954</li><li>967</li><li>970</li><li>973</li><li>976</li><li>981</li><li>982</li><li>1022</li><li>1033</li><li>1036</li><li>1040</li><li>1072</li><li>1085</li><li>1170</li><li>1197</li><li>1203</li><li>1219</li><li>1296</li><li>1320</li><li>1328</li><li>1351</li><li>1372</li><li>1387</li><li>1456</li><li>1459</li><li>1503</li><li>1536</li><li>1537</li><li>1544</li><li>1550</li><li>1552</li><li>1586</li><li>1592</li><li>1598</li><li>1599</li><li>1630</li><li>1631</li></ol>\n"
      ],
      "text/latex": [
       "\\begin{enumerate*}\n",
       "\\item 1\n",
       "\\item 26\n",
       "\\item 49\n",
       "\\item 52\n",
       "\\item 56\n",
       "\\item 96\n",
       "\\item 114\n",
       "\\item 130\n",
       "\\item 144\n",
       "\\item 145\n",
       "\\item 149\n",
       "\\item 150\n",
       "\\item 161\n",
       "\\item 162\n",
       "\\item 164\n",
       "\\item 172\n",
       "\\item 193\n",
       "\\item 195\n",
       "\\item 199\n",
       "\\item 205\n",
       "\\item 219\n",
       "\\item 221\n",
       "\\item 231\n",
       "\\item 241\n",
       "\\item 263\n",
       "\\item 267\n",
       "\\item 277\n",
       "\\item 280\n",
       "\\item 288\n",
       "\\item 289\n",
       "\\item 294\n",
       "\\item 295\n",
       "\\item 302\n",
       "\\item 307\n",
       "\\item 310\n",
       "\\item 312\n",
       "\\item 315\n",
       "\\item 317\n",
       "\\item 318\n",
       "\\item 321\n",
       "\\item 322\n",
       "\\item 331\n",
       "\\item 334\n",
       "\\item 336\n",
       "\\item 338\n",
       "\\item 343\n",
       "\\item 347\n",
       "\\item 357\n",
       "\\item 359\n",
       "\\item 360\n",
       "\\item 371\n",
       "\\item 376\n",
       "\\item 380\n",
       "\\item 387\n",
       "\\item 391\n",
       "\\item 393\n",
       "\\item 398\n",
       "\\item 399\n",
       "\\item 400\n",
       "\\item 407\n",
       "\\item 408\n",
       "\\item 409\n",
       "\\item 414\n",
       "\\item 418\n",
       "\\item 419\n",
       "\\item 424\n",
       "\\item 425\n",
       "\\item 427\n",
       "\\item 436\n",
       "\\item 437\n",
       "\\item 440\n",
       "\\item 445\n",
       "\\item 460\n",
       "\\item 464\n",
       "\\item 466\n",
       "\\item 472\n",
       "\\item 473\n",
       "\\item 475\n",
       "\\item 480\n",
       "\\item 485\n",
       "\\item 490\n",
       "\\item 492\n",
       "\\item 494\n",
       "\\item 514\n",
       "\\item 516\n",
       "\\item 517\n",
       "\\item 525\n",
       "\\item 527\n",
       "\\item 532\n",
       "\\item 536\n",
       "\\item 537\n",
       "\\item 542\n",
       "\\item 552\n",
       "\\item 556\n",
       "\\item 557\n",
       "\\item 560\n",
       "\\item 562\n",
       "\\item 575\n",
       "\\item 578\n",
       "\\item 579\n",
       "\\item 584\n",
       "\\item 605\n",
       "\\item 606\n",
       "\\item 615\n",
       "\\item 622\n",
       "\\item 626\n",
       "\\item 636\n",
       "\\item 638\n",
       "\\item 640\n",
       "\\item 662\n",
       "\\item 678\n",
       "\\item 679\n",
       "\\item 683\n",
       "\\item 686\n",
       "\\item 690\n",
       "\\item 699\n",
       "\\item 702\n",
       "\\item 703\n",
       "\\item 704\n",
       "\\item 706\n",
       "\\item 711\n",
       "\\item 725\n",
       "\\item 731\n",
       "\\item 732\n",
       "\\item 733\n",
       "\\item 739\n",
       "\\item 746\n",
       "\\item 748\n",
       "\\item 759\n",
       "\\item 785\n",
       "\\item 795\n",
       "\\item 796\n",
       "\\item 798\n",
       "\\item 802\n",
       "\\item 816\n",
       "\\item 834\n",
       "\\item 836\n",
       "\\item 864\n",
       "\\item 867\n",
       "\\item 871\n",
       "\\item 877\n",
       "\\item 890\n",
       "\\item 891\n",
       "\\item 919\n",
       "\\item 922\n",
       "\\item 927\n",
       "\\item 928\n",
       "\\item 944\n",
       "\\item 948\n",
       "\\item 949\n",
       "\\item 954\n",
       "\\item 967\n",
       "\\item 970\n",
       "\\item 973\n",
       "\\item 976\n",
       "\\item 981\n",
       "\\item 982\n",
       "\\item 1022\n",
       "\\item 1033\n",
       "\\item 1036\n",
       "\\item 1040\n",
       "\\item 1072\n",
       "\\item 1085\n",
       "\\item 1170\n",
       "\\item 1197\n",
       "\\item 1203\n",
       "\\item 1219\n",
       "\\item 1296\n",
       "\\item 1320\n",
       "\\item 1328\n",
       "\\item 1351\n",
       "\\item 1372\n",
       "\\item 1387\n",
       "\\item 1456\n",
       "\\item 1459\n",
       "\\item 1503\n",
       "\\item 1536\n",
       "\\item 1537\n",
       "\\item 1544\n",
       "\\item 1550\n",
       "\\item 1552\n",
       "\\item 1586\n",
       "\\item 1592\n",
       "\\item 1598\n",
       "\\item 1599\n",
       "\\item 1630\n",
       "\\item 1631\n",
       "\\end{enumerate*}\n"
      ],
      "text/markdown": [
       "1. 1\n",
       "2. 26\n",
       "3. 49\n",
       "4. 52\n",
       "5. 56\n",
       "6. 96\n",
       "7. 114\n",
       "8. 130\n",
       "9. 144\n",
       "10. 145\n",
       "11. 149\n",
       "12. 150\n",
       "13. 161\n",
       "14. 162\n",
       "15. 164\n",
       "16. 172\n",
       "17. 193\n",
       "18. 195\n",
       "19. 199\n",
       "20. 205\n",
       "21. 219\n",
       "22. 221\n",
       "23. 231\n",
       "24. 241\n",
       "25. 263\n",
       "26. 267\n",
       "27. 277\n",
       "28. 280\n",
       "29. 288\n",
       "30. 289\n",
       "31. 294\n",
       "32. 295\n",
       "33. 302\n",
       "34. 307\n",
       "35. 310\n",
       "36. 312\n",
       "37. 315\n",
       "38. 317\n",
       "39. 318\n",
       "40. 321\n",
       "41. 322\n",
       "42. 331\n",
       "43. 334\n",
       "44. 336\n",
       "45. 338\n",
       "46. 343\n",
       "47. 347\n",
       "48. 357\n",
       "49. 359\n",
       "50. 360\n",
       "51. 371\n",
       "52. 376\n",
       "53. 380\n",
       "54. 387\n",
       "55. 391\n",
       "56. 393\n",
       "57. 398\n",
       "58. 399\n",
       "59. 400\n",
       "60. 407\n",
       "61. 408\n",
       "62. 409\n",
       "63. 414\n",
       "64. 418\n",
       "65. 419\n",
       "66. 424\n",
       "67. 425\n",
       "68. 427\n",
       "69. 436\n",
       "70. 437\n",
       "71. 440\n",
       "72. 445\n",
       "73. 460\n",
       "74. 464\n",
       "75. 466\n",
       "76. 472\n",
       "77. 473\n",
       "78. 475\n",
       "79. 480\n",
       "80. 485\n",
       "81. 490\n",
       "82. 492\n",
       "83. 494\n",
       "84. 514\n",
       "85. 516\n",
       "86. 517\n",
       "87. 525\n",
       "88. 527\n",
       "89. 532\n",
       "90. 536\n",
       "91. 537\n",
       "92. 542\n",
       "93. 552\n",
       "94. 556\n",
       "95. 557\n",
       "96. 560\n",
       "97. 562\n",
       "98. 575\n",
       "99. 578\n",
       "100. 579\n",
       "101. 584\n",
       "102. 605\n",
       "103. 606\n",
       "104. 615\n",
       "105. 622\n",
       "106. 626\n",
       "107. 636\n",
       "108. 638\n",
       "109. 640\n",
       "110. 662\n",
       "111. 678\n",
       "112. 679\n",
       "113. 683\n",
       "114. 686\n",
       "115. 690\n",
       "116. 699\n",
       "117. 702\n",
       "118. 703\n",
       "119. 704\n",
       "120. 706\n",
       "121. 711\n",
       "122. 725\n",
       "123. 731\n",
       "124. 732\n",
       "125. 733\n",
       "126. 739\n",
       "127. 746\n",
       "128. 748\n",
       "129. 759\n",
       "130. 785\n",
       "131. 795\n",
       "132. 796\n",
       "133. 798\n",
       "134. 802\n",
       "135. 816\n",
       "136. 834\n",
       "137. 836\n",
       "138. 864\n",
       "139. 867\n",
       "140. 871\n",
       "141. 877\n",
       "142. 890\n",
       "143. 891\n",
       "144. 919\n",
       "145. 922\n",
       "146. 927\n",
       "147. 928\n",
       "148. 944\n",
       "149. 948\n",
       "150. 949\n",
       "151. 954\n",
       "152. 967\n",
       "153. 970\n",
       "154. 973\n",
       "155. 976\n",
       "156. 981\n",
       "157. 982\n",
       "158. 1022\n",
       "159. 1033\n",
       "160. 1036\n",
       "161. 1040\n",
       "162. 1072\n",
       "163. 1085\n",
       "164. 1170\n",
       "165. 1197\n",
       "166. 1203\n",
       "167. 1219\n",
       "168. 1296\n",
       "169. 1320\n",
       "170. 1328\n",
       "171. 1351\n",
       "172. 1372\n",
       "173. 1387\n",
       "174. 1456\n",
       "175. 1459\n",
       "176. 1503\n",
       "177. 1536\n",
       "178. 1537\n",
       "179. 1544\n",
       "180. 1550\n",
       "181. 1552\n",
       "182. 1586\n",
       "183. 1592\n",
       "184. 1598\n",
       "185. 1599\n",
       "186. 1630\n",
       "187. 1631\n",
       "\n",
       "\n"
      ],
      "text/plain": [
       "  [1]    1   26   49   52   56   96  114  130  144  145  149  150  161  162  164\n",
       " [16]  172  193  195  199  205  219  221  231  241  263  267  277  280  288  289\n",
       " [31]  294  295  302  307  310  312  315  317  318  321  322  331  334  336  338\n",
       " [46]  343  347  357  359  360  371  376  380  387  391  393  398  399  400  407\n",
       " [61]  408  409  414  418  419  424  425  427  436  437  440  445  460  464  466\n",
       " [76]  472  473  475  480  485  490  492  494  514  516  517  525  527  532  536\n",
       " [91]  537  542  552  556  557  560  562  575  578  579  584  605  606  615  622\n",
       "[106]  626  636  638  640  662  678  679  683  686  690  699  702  703  704  706\n",
       "[121]  711  725  731  732  733  739  746  748  759  785  795  796  798  802  816\n",
       "[136]  834  836  864  867  871  877  890  891  919  922  927  928  944  948  949\n",
       "[151]  954  967  970  973  976  981  982 1022 1033 1036 1040 1072 1085 1170 1197\n",
       "[166] 1203 1219 1296 1320 1328 1351 1372 1387 1456 1459 1503 1536 1537 1544 1550\n",
       "[181] 1552 1586 1592 1598 1599 1630 1631"
      ]
     },
     "metadata": {},
     "output_type": "display_data"
    },
    {
     "data": {
      "text/html": [
       "20"
      ],
      "text/latex": [
       "20"
      ],
      "text/markdown": [
       "20"
      ],
      "text/plain": [
       "[1] 20"
      ]
     },
     "metadata": {},
     "output_type": "display_data"
    },
    {
     "data": {
      "text/html": [
       "<style>\n",
       ".list-inline {list-style: none; margin:0; padding: 0}\n",
       ".list-inline>li {display: inline-block}\n",
       ".list-inline>li:not(:last-child)::after {content: \"\\00b7\"; padding: 0 .5ex}\n",
       "</style>\n",
       "<ol class=list-inline><li>1</li><li>26</li><li>64</li><li>94</li><li>132</li><li>172</li><li>190</li><li>222</li><li>264</li><li>315</li><li>342</li><li>405</li><li>449</li><li>578</li><li>579</li><li>584</li><li>631</li><li>720</li><li>767</li><li>802</li></ol>\n"
      ],
      "text/latex": [
       "\\begin{enumerate*}\n",
       "\\item 1\n",
       "\\item 26\n",
       "\\item 64\n",
       "\\item 94\n",
       "\\item 132\n",
       "\\item 172\n",
       "\\item 190\n",
       "\\item 222\n",
       "\\item 264\n",
       "\\item 315\n",
       "\\item 342\n",
       "\\item 405\n",
       "\\item 449\n",
       "\\item 578\n",
       "\\item 579\n",
       "\\item 584\n",
       "\\item 631\n",
       "\\item 720\n",
       "\\item 767\n",
       "\\item 802\n",
       "\\end{enumerate*}\n"
      ],
      "text/markdown": [
       "1. 1\n",
       "2. 26\n",
       "3. 64\n",
       "4. 94\n",
       "5. 132\n",
       "6. 172\n",
       "7. 190\n",
       "8. 222\n",
       "9. 264\n",
       "10. 315\n",
       "11. 342\n",
       "12. 405\n",
       "13. 449\n",
       "14. 578\n",
       "15. 579\n",
       "16. 584\n",
       "17. 631\n",
       "18. 720\n",
       "19. 767\n",
       "20. 802\n",
       "\n",
       "\n"
      ],
      "text/plain": [
       " [1]   1  26  64  94 132 172 190 222 264 315 342 405 449 578 579 584 631 720 767\n",
       "[20] 802"
      ]
     },
     "metadata": {},
     "output_type": "display_data"
    }
   ],
   "source": [
    "#We ran several pieces of code to identify and replace any missing values. Here we found that there \n",
    "#were missing values in \"host_acceptance\" \"room_type\" \"total_reviews\" and \"avg_rating\" columns. We then \n",
    "#went on to identify and replace all null values with the average for their respective columns to get the \n",
    "#most accurate dataset to work with - this new clean dataset is titled \"ABBV2\"\n",
    "anyNA(ABBData)\n",
    "apply(Listing,2,anyNA) #Missing values in host_acceptance_rate & room_type\n",
    "\n",
    "sum(is.na(ABBData$host_acceptance_rate))# 187 missing values\n",
    "sum(is.na(ABBData$room_type))# 20 missing values\n",
    "sum(is.na(ABBData$total_reviews))# 17 missing values\n",
    "sum(is.na(ABBData$avg_rating))#17 missing values\n",
    "\n",
    "#The code below was used to replace null values in the \"Acceptance Rate\" column with the average for that\n",
    "#column\n",
    "\n",
    "MisArate= which(is.na(ABBData$host_acceptance_rate)) #which rows are missing accept rates\n",
    "MisArate\n",
    "\n",
    "AvgArate = mean(ABBData$host_acceptance_rate,na.rm = T) #avg acceptance rate for entire data minus missing values\n",
    "\n",
    "ABBData$host_acceptance_rate[MisArate] = AvgArate #replace missing accept rate with avg \n",
    "\n",
    "#Since \"Room Type\" is a categorical variable we have decided to remove all null values and rename the \n",
    "#dataset \"ABBV2\" \n",
    "\n",
    "sum(is.na(ABBData$room_type)) # of Missing room types\n",
    "MisRoomType= which(is.na(ABBData$room_type)) #which rows missing rooms\n",
    "MisRoomType\n",
    "\n",
    "#remove rows with missing room type\n",
    "ABBV2= ABBData[-MisRoomType, ]"
   ]
  },
  {
   "cell_type": "code",
   "execution_count": 6,
   "id": "e01d5384",
   "metadata": {
    "execution": {
     "iopub.execute_input": "2023-03-19T17:04:21.577447Z",
     "iopub.status.busy": "2023-03-19T17:04:21.576071Z",
     "iopub.status.idle": "2023-03-19T17:04:21.645683Z",
     "shell.execute_reply": "2023-03-19T17:04:21.643894Z"
    },
    "papermill": {
     "duration": 0.079091,
     "end_time": "2023-03-19T17:04:21.648433",
     "exception": false,
     "start_time": "2023-03-19T17:04:21.569342",
     "status": "completed"
    },
    "tags": []
   },
   "outputs": [
    {
     "data": {
      "text/html": [
       "TRUE"
      ],
      "text/latex": [
       "TRUE"
      ],
      "text/markdown": [
       "TRUE"
      ],
      "text/plain": [
       "[1] TRUE"
      ]
     },
     "metadata": {},
     "output_type": "display_data"
    },
    {
     "data": {
      "text/html": [
       "<style>\n",
       ".dl-inline {width: auto; margin:0; padding: 0}\n",
       ".dl-inline>dt, .dl-inline>dd {float: none; width: auto; display: inline-block}\n",
       ".dl-inline>dt::after {content: \":\\0020\"; padding-right: .5ex}\n",
       ".dl-inline>dt:not(:first-of-type) {padding-left: .5ex}\n",
       "</style><dl class=dl-inline><dt>listing_id</dt><dd>FALSE</dd><dt>host_since</dt><dd>FALSE</dd><dt>host_acceptance_rate</dt><dd>FALSE</dd><dt>superhost</dt><dd>FALSE</dd><dt>host_total_listings</dt><dd>FALSE</dd><dt>neighborhood</dt><dd>FALSE</dd><dt>room_type</dt><dd>FALSE</dd><dt>accommodates</dt><dd>FALSE</dd><dt>beds</dt><dd>FALSE</dd><dt>min_nights</dt><dd>FALSE</dd><dt>price</dt><dd>FALSE</dd><dt>total_reviews</dt><dd>TRUE</dd><dt>avg_rating</dt><dd>TRUE</dd></dl>\n"
      ],
      "text/latex": [
       "\\begin{description*}\n",
       "\\item[listing\\textbackslash{}\\_id] FALSE\n",
       "\\item[host\\textbackslash{}\\_since] FALSE\n",
       "\\item[host\\textbackslash{}\\_acceptance\\textbackslash{}\\_rate] FALSE\n",
       "\\item[superhost] FALSE\n",
       "\\item[host\\textbackslash{}\\_total\\textbackslash{}\\_listings] FALSE\n",
       "\\item[neighborhood] FALSE\n",
       "\\item[room\\textbackslash{}\\_type] FALSE\n",
       "\\item[accommodates] FALSE\n",
       "\\item[beds] FALSE\n",
       "\\item[min\\textbackslash{}\\_nights] FALSE\n",
       "\\item[price] FALSE\n",
       "\\item[total\\textbackslash{}\\_reviews] TRUE\n",
       "\\item[avg\\textbackslash{}\\_rating] TRUE\n",
       "\\end{description*}\n"
      ],
      "text/markdown": [
       "listing_id\n",
       ":   FALSEhost_since\n",
       ":   FALSEhost_acceptance_rate\n",
       ":   FALSEsuperhost\n",
       ":   FALSEhost_total_listings\n",
       ":   FALSEneighborhood\n",
       ":   FALSEroom_type\n",
       ":   FALSEaccommodates\n",
       ":   FALSEbeds\n",
       ":   FALSEmin_nights\n",
       ":   FALSEprice\n",
       ":   FALSEtotal_reviews\n",
       ":   TRUEavg_rating\n",
       ":   TRUE\n",
       "\n"
      ],
      "text/plain": [
       "          listing_id           host_since host_acceptance_rate \n",
       "               FALSE                FALSE                FALSE \n",
       "           superhost  host_total_listings         neighborhood \n",
       "               FALSE                FALSE                FALSE \n",
       "           room_type         accommodates                 beds \n",
       "               FALSE                FALSE                FALSE \n",
       "          min_nights                price        total_reviews \n",
       "               FALSE                FALSE                 TRUE \n",
       "          avg_rating \n",
       "                TRUE "
      ]
     },
     "metadata": {},
     "output_type": "display_data"
    },
    {
     "data": {
      "text/html": [
       "17"
      ],
      "text/latex": [
       "17"
      ],
      "text/markdown": [
       "17"
      ],
      "text/plain": [
       "[1] 17"
      ]
     },
     "metadata": {},
     "output_type": "display_data"
    },
    {
     "data": {
      "text/html": [
       "17"
      ],
      "text/latex": [
       "17"
      ],
      "text/markdown": [
       "17"
      ],
      "text/plain": [
       "[1] 17"
      ]
     },
     "metadata": {},
     "output_type": "display_data"
    },
    {
     "data": {
      "text/html": [
       "<style>\n",
       ".list-inline {list-style: none; margin:0; padding: 0}\n",
       ".list-inline>li {display: inline-block}\n",
       ".list-inline>li:not(:last-child)::after {content: \"\\00b7\"; padding: 0 .5ex}\n",
       "</style>\n",
       "<ol class=list-inline><li>6</li><li>15</li><li>36</li><li>49</li><li>50</li><li>79</li><li>111</li><li>112</li><li>162</li><li>190</li><li>236</li><li>339</li><li>340</li><li>422</li><li>437</li><li>454</li><li>483</li></ol>\n"
      ],
      "text/latex": [
       "\\begin{enumerate*}\n",
       "\\item 6\n",
       "\\item 15\n",
       "\\item 36\n",
       "\\item 49\n",
       "\\item 50\n",
       "\\item 79\n",
       "\\item 111\n",
       "\\item 112\n",
       "\\item 162\n",
       "\\item 190\n",
       "\\item 236\n",
       "\\item 339\n",
       "\\item 340\n",
       "\\item 422\n",
       "\\item 437\n",
       "\\item 454\n",
       "\\item 483\n",
       "\\end{enumerate*}\n"
      ],
      "text/markdown": [
       "1. 6\n",
       "2. 15\n",
       "3. 36\n",
       "4. 49\n",
       "5. 50\n",
       "6. 79\n",
       "7. 111\n",
       "8. 112\n",
       "9. 162\n",
       "10. 190\n",
       "11. 236\n",
       "12. 339\n",
       "13. 340\n",
       "14. 422\n",
       "15. 437\n",
       "16. 454\n",
       "17. 483\n",
       "\n",
       "\n"
      ],
      "text/plain": [
       " [1]   6  15  36  49  50  79 111 112 162 190 236 339 340 422 437 454 483"
      ]
     },
     "metadata": {},
     "output_type": "display_data"
    },
    {
     "data": {
      "text/html": [
       "<style>\n",
       ".list-inline {list-style: none; margin:0; padding: 0}\n",
       ".list-inline>li {display: inline-block}\n",
       ".list-inline>li:not(:last-child)::after {content: \"\\00b7\"; padding: 0 .5ex}\n",
       "</style>\n",
       "<ol class=list-inline><li>6</li><li>15</li><li>36</li><li>49</li><li>50</li><li>79</li><li>111</li><li>112</li><li>162</li><li>190</li><li>236</li><li>339</li><li>340</li><li>422</li><li>437</li><li>454</li><li>483</li></ol>\n"
      ],
      "text/latex": [
       "\\begin{enumerate*}\n",
       "\\item 6\n",
       "\\item 15\n",
       "\\item 36\n",
       "\\item 49\n",
       "\\item 50\n",
       "\\item 79\n",
       "\\item 111\n",
       "\\item 112\n",
       "\\item 162\n",
       "\\item 190\n",
       "\\item 236\n",
       "\\item 339\n",
       "\\item 340\n",
       "\\item 422\n",
       "\\item 437\n",
       "\\item 454\n",
       "\\item 483\n",
       "\\end{enumerate*}\n"
      ],
      "text/markdown": [
       "1. 6\n",
       "2. 15\n",
       "3. 36\n",
       "4. 49\n",
       "5. 50\n",
       "6. 79\n",
       "7. 111\n",
       "8. 112\n",
       "9. 162\n",
       "10. 190\n",
       "11. 236\n",
       "12. 339\n",
       "13. 340\n",
       "14. 422\n",
       "15. 437\n",
       "16. 454\n",
       "17. 483\n",
       "\n",
       "\n"
      ],
      "text/plain": [
       " [1]   6  15  36  49  50  79 111 112 162 190 236 339 340 422 437 454 483"
      ]
     },
     "metadata": {},
     "output_type": "display_data"
    },
    {
     "data": {
      "text/html": [
       "FALSE"
      ],
      "text/latex": [
       "FALSE"
      ],
      "text/markdown": [
       "FALSE"
      ],
      "text/plain": [
       "[1] FALSE"
      ]
     },
     "metadata": {},
     "output_type": "display_data"
    }
   ],
   "source": [
    "#We then checked the \"ABBV2\" dataset for null values and found that there were still missing data points\n",
    "#in the \"Total Reviews\" and \"Average Rating\" columns. We used the code chunk below to remove the 17 null\n",
    "#values and renamed this clean dataset \"ABBV3\"\n",
    "anyNA(ABBV2)\n",
    "apply(ABBV2,2,anyNA)#missing data in Total_reviews & Avg_rating\n",
    "sum(is.na(ABBV2$total_reviews))#17\n",
    "sum(is.na(ABBV2$avg_rating)) #17 Missing avg rating\n",
    "MisAvgRating = which(is.na(ABBV2$avg_rating))\n",
    "Misreview= which(is.na(ABBV2$total_reviews))\n",
    "Misreview\n",
    "MisAvgRating\n",
    "ABBV3= ABBV2[-Misreview,]# removed 17 rows of missing reviews\n",
    "anyNA(ABBV3)"
   ]
  },
  {
   "cell_type": "code",
   "execution_count": 7,
   "id": "8841e9da",
   "metadata": {
    "execution": {
     "iopub.execute_input": "2023-03-19T17:04:21.664409Z",
     "iopub.status.busy": "2023-03-19T17:04:21.662976Z",
     "iopub.status.idle": "2023-03-19T17:04:21.961189Z",
     "shell.execute_reply": "2023-03-19T17:04:21.959562Z"
    },
    "papermill": {
     "duration": 0.308822,
     "end_time": "2023-03-19T17:04:21.963410",
     "exception": false,
     "start_time": "2023-03-19T17:04:21.654588",
     "status": "completed"
    },
    "tags": []
   },
   "outputs": [
    {
     "data": {
      "text/html": [
       "<table class=\"dataframe\">\n",
       "<caption>A tibble: 3 × 2</caption>\n",
       "<thead>\n",
       "\t<tr><th scope=col>room_type</th><th scope=col>AvgPriceofRoom</th></tr>\n",
       "\t<tr><th scope=col>&lt;chr&gt;</th><th scope=col>&lt;dbl&gt;</th></tr>\n",
       "</thead>\n",
       "<tbody>\n",
       "\t<tr><td>Entire home/apt</td><td>183.57078</td></tr>\n",
       "\t<tr><td>Private room   </td><td>124.80851</td></tr>\n",
       "\t<tr><td>Shared room    </td><td> 36.52941</td></tr>\n",
       "</tbody>\n",
       "</table>\n"
      ],
      "text/latex": [
       "A tibble: 3 × 2\n",
       "\\begin{tabular}{ll}\n",
       " room\\_type & AvgPriceofRoom\\\\\n",
       " <chr> & <dbl>\\\\\n",
       "\\hline\n",
       "\t Entire home/apt & 183.57078\\\\\n",
       "\t Private room    & 124.80851\\\\\n",
       "\t Shared room     &  36.52941\\\\\n",
       "\\end{tabular}\n"
      ],
      "text/markdown": [
       "\n",
       "A tibble: 3 × 2\n",
       "\n",
       "| room_type &lt;chr&gt; | AvgPriceofRoom &lt;dbl&gt; |\n",
       "|---|---|\n",
       "| Entire home/apt | 183.57078 |\n",
       "| Private room    | 124.80851 |\n",
       "| Shared room     |  36.52941 |\n",
       "\n"
      ],
      "text/plain": [
       "  room_type       AvgPriceofRoom\n",
       "1 Entire home/apt 183.57078     \n",
       "2 Private room    124.80851     \n",
       "3 Shared room      36.52941     "
      ]
     },
     "metadata": {},
     "output_type": "display_data"
    },
    {
     "data": {
      "image/png": "[encoded data removed]"
     },
     "metadata": {
      "image/png": {
       "height": 420,
       "width": 420
      }
     },
     "output_type": "display_data"
    }
   ],
   "source": [
    "#With a clean dataset we decided to first look into what type of room was the most expensive\n",
    "ABBV3 %>% \n",
    "  group_by(room_type) %>% \n",
    "  summarize(AvgPriceofRoom = mean(price))\n",
    "\n",
    "##Unsurprisingly, the most expensive room type is entire home/apt, followed by private room then shared room. \n",
    "\n",
    "##Next we looked at what type of room was rented the mot frequently. As shown in the histogram below, entire homes/apartments were rented at a much higher rate than any other room type.\n",
    "RoomType_Freq = table(ABBV3$room_type)\n",
    "barplot(RoomType_Freq, col = c(\"palegreen2\", \"palegreen3\", \"palegreen4\"))"
   ]
  },
  {
   "cell_type": "code",
   "execution_count": 8,
   "id": "e8571d05",
   "metadata": {
    "execution": {
     "iopub.execute_input": "2023-03-19T17:04:21.980265Z",
     "iopub.status.busy": "2023-03-19T17:04:21.978821Z",
     "iopub.status.idle": "2023-03-19T17:04:22.397351Z",
     "shell.execute_reply": "2023-03-19T17:04:22.395690Z"
    },
    "papermill": {
     "duration": 0.429836,
     "end_time": "2023-03-19T17:04:22.400042",
     "exception": false,
     "start_time": "2023-03-19T17:04:21.970206",
     "status": "completed"
    },
    "tags": []
   },
   "outputs": [
    {
     "name": "stderr",
     "output_type": "stream",
     "text": [
      "\u001b[1m\u001b[22mScale for \u001b[32mx\u001b[39m is already present.\n",
      "Adding another scale for \u001b[32mx\u001b[39m, which will replace the existing scale.\n"
     ]
    },
    {
     "data": {
      "image/png": "[encoded data removed]"
     },
     "metadata": {
      "image/png": {
       "height": 420,
       "width": 420
      }
     },
     "output_type": "display_data"
    }
   ],
   "source": [
    "#Next we decided to plot price against average rating\n",
    "ggplot(ABBV3,aes(avg_rating,price)) +\n",
    "  geom_point(color=\"palegreen4\",size=1,shape=15) +\n",
    "  labs(x=\"Avg. Rating\",\n",
    "       y=\"Price\",\n",
    "       title=\"Price Distribution Based on Avg. Rating\") +\n",
    "  xlim(0,6)+\n",
    "  scale_x_continuous()\n",
    "\n",
    "##As you can see, the majority of listings have high ratings despite price variance. It is evident here \n",
    "#that rentals with ratings between 4.9 and 5 stars command higher prices than those with lower ratings.\n",
    "#Additionally, this shows that Air BnB has very high standards and does not allow low rated properties to\n",
    "#remain on the site for long*.\n",
    "#SOURCE: https://www.thornpoint.net/blog/Airbnb-Review-Etiquette#:~:text=In%20fact%2C%20if%20a%20host's,below%20a%204.3%2Dstar%20rating!"
   ]
  },
  {
   "cell_type": "code",
   "execution_count": 9,
   "id": "5ec31c4d",
   "metadata": {
    "execution": {
     "iopub.execute_input": "2023-03-19T17:04:22.419804Z",
     "iopub.status.busy": "2023-03-19T17:04:22.418358Z",
     "iopub.status.idle": "2023-03-19T17:04:22.490837Z",
     "shell.execute_reply": "2023-03-19T17:04:22.489242Z"
    },
    "papermill": {
     "duration": 0.084722,
     "end_time": "2023-03-19T17:04:22.493105",
     "exception": false,
     "start_time": "2023-03-19T17:04:22.408383",
     "status": "completed"
    },
    "tags": []
   },
   "outputs": [
    {
     "data": {
      "text/plain": [
       "\n",
       "Call:\n",
       "lm(formula = price ~ accommodates, data = ABBV3)\n",
       "\n",
       "Residuals:\n",
       "    Min      1Q  Median      3Q     Max \n",
       "-362.18  -59.92  -25.97   30.44  795.85 \n",
       "\n",
       "Coefficients:\n",
       "             Estimate Std. Error t value Pr(>|t|)    \n",
       "(Intercept)    51.128      5.386   9.493   <2e-16 ***\n",
       "accommodates   33.837      1.332  25.409   <2e-16 ***\n",
       "---\n",
       "Signif. codes:  0 ‘***’ 0.001 ‘**’ 0.01 ‘*’ 0.05 ‘.’ 0.1 ‘ ’ 1\n",
       "\n",
       "Residual standard error: 107.7 on 1672 degrees of freedom\n",
       "Multiple R-squared:  0.2786,\tAdjusted R-squared:  0.2781 \n",
       "F-statistic: 645.6 on 1 and 1672 DF,  p-value: < 2.2e-16\n"
      ]
     },
     "metadata": {},
     "output_type": "display_data"
    },
    {
     "data": {
      "text/html": [
       "107.65453099178"
      ],
      "text/latex": [
       "107.65453099178"
      ],
      "text/markdown": [
       "107.65453099178"
      ],
      "text/plain": [
       "[1] 107.6545"
      ]
     },
     "metadata": {},
     "output_type": "display_data"
    },
    {
     "data": {
      "text/html": [
       "0.278572262938746"
      ],
      "text/latex": [
       "0.278572262938746"
      ],
      "text/markdown": [
       "0.278572262938746"
      ],
      "text/plain": [
       "[1] 0.2785723"
      ]
     },
     "metadata": {},
     "output_type": "display_data"
    },
    {
     "data": {
      "text/plain": [
       "\n",
       "Call:\n",
       "lm(formula = price ~ neighborhood, data = ABBV3)\n",
       "\n",
       "Residuals:\n",
       "    Min      1Q  Median      3Q     Max \n",
       "-176.80  -70.75  -29.37   33.63  928.70 \n",
       "\n",
       "Coefficients:\n",
       "                          Estimate Std. Error t value Pr(>|t|)    \n",
       "(Intercept)                 101.32      12.26   8.268 2.76e-16 ***\n",
       "neighborhoodCapitol Hill     69.85      13.60   5.138 3.11e-07 ***\n",
       "neighborhoodDowntown        134.48      15.75   8.540  < 2e-16 ***\n",
       "neighborhoodDupont Circle    97.98      13.95   7.021 3.19e-12 ***\n",
       "neighborhoodFort McNair     119.30      19.82   6.018 2.17e-09 ***\n",
       "neighborhoodGeorgetown       87.26      14.64   5.960 3.08e-09 ***\n",
       "neighborhoodPetworth         18.05      14.38   1.256    0.209    \n",
       "neighborhoodTakoma           20.72      16.04   1.292    0.197    \n",
       "---\n",
       "Signif. codes:  0 ‘***’ 0.001 ‘**’ 0.01 ‘*’ 0.05 ‘.’ 0.1 ‘ ’ 1\n",
       "\n",
       "Residual standard error: 120.7 on 1666 degrees of freedom\n",
       "Multiple R-squared:  0.09641,\tAdjusted R-squared:  0.09262 \n",
       "F-statistic:  25.4 on 7 and 1666 DF,  p-value: < 2.2e-16\n"
      ]
     },
     "metadata": {},
     "output_type": "display_data"
    },
    {
     "data": {
      "text/html": [
       "120.698306667739"
      ],
      "text/latex": [
       "120.698306667739"
      ],
      "text/markdown": [
       "120.698306667739"
      ],
      "text/plain": [
       "[1] 120.6983"
      ]
     },
     "metadata": {},
     "output_type": "display_data"
    },
    {
     "data": {
      "text/html": [
       "0.0964144279160004"
      ],
      "text/latex": [
       "0.0964144279160004"
      ],
      "text/markdown": [
       "0.0964144279160004"
      ],
      "text/plain": [
       "[1] 0.09641443"
      ]
     },
     "metadata": {},
     "output_type": "display_data"
    }
   ],
   "source": [
    "#Next we ran a two linear regression models - one to compare the impact capacity has on price, and another\n",
    "#to compare the impact neighborhood had on price.\n",
    "\n",
    "#Linear regression model of capacity and price:\n",
    "PricevsCapacity = summary(lm(price~accommodates, ABBV3))\n",
    "PricevsCapacity\n",
    "\n",
    "PricevsCapacity$sigma\n",
    "PricevsCapacity$r.squared\n",
    "\n",
    "##This shows that 27.85% of the variance in price can be attributed to the capacity of the rental.\n",
    "#This R squared value is not high enough to lead us to believe that capacity is the main determinant of\n",
    "#price in this dataset.\n",
    "\n",
    "##Linear regression model of neighborhood and price:\n",
    "PricevsNeighborhood = summary(lm(price~neighborhood, ABBV3))\n",
    "PricevsNeighborhood\n",
    "\n",
    "PricevsNeighborhood$sigma\n",
    "PricevsNeighborhood$r.squared\n",
    "\n",
    "#This shows that only 9.64% of variance in price can be attributed to neighborhood. This R squared value\n",
    "#is not high enough to lead us to believe that capacity is the main determinant of price in this dataset."
   ]
  },
  {
   "cell_type": "code",
   "execution_count": 10,
   "id": "35cad938",
   "metadata": {
    "execution": {
     "iopub.execute_input": "2023-03-19T17:04:22.514110Z",
     "iopub.status.busy": "2023-03-19T17:04:22.512627Z",
     "iopub.status.idle": "2023-03-19T17:04:22.550173Z",
     "shell.execute_reply": "2023-03-19T17:04:22.547912Z"
    },
    "papermill": {
     "duration": 0.051166,
     "end_time": "2023-03-19T17:04:22.553058",
     "exception": false,
     "start_time": "2023-03-19T17:04:22.501892",
     "status": "completed"
    },
    "tags": []
   },
   "outputs": [
    {
     "data": {
      "text/html": [
       "<table class=\"dataframe\">\n",
       "<caption>A data.frame: 2 × 3</caption>\n",
       "<thead>\n",
       "\t<tr><th scope=col>ModelComparison</th><th scope=col>Residuals</th><th scope=col>Rsquared</th></tr>\n",
       "\t<tr><th scope=col>&lt;chr&gt;</th><th scope=col>&lt;dbl&gt;</th><th scope=col>&lt;dbl&gt;</th></tr>\n",
       "</thead>\n",
       "<tbody>\n",
       "\t<tr><td>Capacity Regression    </td><td>107.6545</td><td>0.27857226</td></tr>\n",
       "\t<tr><td>Neighborhood Regression</td><td>120.6983</td><td>0.09641443</td></tr>\n",
       "</tbody>\n",
       "</table>\n"
      ],
      "text/latex": [
       "A data.frame: 2 × 3\n",
       "\\begin{tabular}{lll}\n",
       " ModelComparison & Residuals & Rsquared\\\\\n",
       " <chr> & <dbl> & <dbl>\\\\\n",
       "\\hline\n",
       "\t Capacity Regression     & 107.6545 & 0.27857226\\\\\n",
       "\t Neighborhood Regression & 120.6983 & 0.09641443\\\\\n",
       "\\end{tabular}\n"
      ],
      "text/markdown": [
       "\n",
       "A data.frame: 2 × 3\n",
       "\n",
       "| ModelComparison &lt;chr&gt; | Residuals &lt;dbl&gt; | Rsquared &lt;dbl&gt; |\n",
       "|---|---|---|\n",
       "| Capacity Regression     | 107.6545 | 0.27857226 |\n",
       "| Neighborhood Regression | 120.6983 | 0.09641443 |\n",
       "\n"
      ],
      "text/plain": [
       "  ModelComparison         Residuals Rsquared  \n",
       "1 Capacity Regression     107.6545  0.27857226\n",
       "2 Neighborhood Regression 120.6983  0.09641443"
      ]
     },
     "metadata": {},
     "output_type": "display_data"
    }
   ],
   "source": [
    "#Developed a table through base R \n",
    "ModelComparison = c(\"Capacity Regression\", \"Neighborhood Regression\")\n",
    "\n",
    "Residuals = c(PricevsCapacity$sigma, PricevsNeighborhood$sigma)\n",
    "Rsquared = c(PricevsCapacity$r.squared, PricevsNeighborhood$r.squared)\n",
    "ComparisonTable = data.frame(ModelComparison, Residuals, Rsquared)\n",
    "ComparisonTable"
   ]
  },
  {
   "cell_type": "code",
   "execution_count": 11,
   "id": "e5dfc106",
   "metadata": {
    "execution": {
     "iopub.execute_input": "2023-03-19T17:04:22.575696Z",
     "iopub.status.busy": "2023-03-19T17:04:22.574179Z",
     "iopub.status.idle": "2023-03-19T17:04:22.627869Z",
     "shell.execute_reply": "2023-03-19T17:04:22.625614Z"
    },
    "papermill": {
     "duration": 0.067208,
     "end_time": "2023-03-19T17:04:22.630743",
     "exception": false,
     "start_time": "2023-03-19T17:04:22.563535",
     "status": "completed"
    },
    "tags": []
   },
   "outputs": [
    {
     "data": {
      "text/html": [
       "<table class=\"dataframe\">\n",
       "<caption>A data.frame: 1 × 1</caption>\n",
       "<thead>\n",
       "\t<tr><th scope=col>avgPrice</th></tr>\n",
       "\t<tr><th scope=col>&lt;dbl&gt;</th></tr>\n",
       "</thead>\n",
       "<tbody>\n",
       "\t<tr><td>119.3682</td></tr>\n",
       "</tbody>\n",
       "</table>\n"
      ],
      "text/latex": [
       "A data.frame: 1 × 1\n",
       "\\begin{tabular}{l}\n",
       " avgPrice\\\\\n",
       " <dbl>\\\\\n",
       "\\hline\n",
       "\t 119.3682\\\\\n",
       "\\end{tabular}\n"
      ],
      "text/markdown": [
       "\n",
       "A data.frame: 1 × 1\n",
       "\n",
       "| avgPrice &lt;dbl&gt; |\n",
       "|---|\n",
       "| 119.3682 |\n",
       "\n"
      ],
      "text/plain": [
       "  avgPrice\n",
       "1 119.3682"
      ]
     },
     "metadata": {},
     "output_type": "display_data"
    }
   ],
   "source": [
    "#Next we developed a function to determine the average price of a rental based on neighborhood. Here we\n",
    "#show the average price of a rental in the Petworth neighborhood of DC.\n",
    "meanPriceNeighborhood = function(x){\n",
    " ABBV3 %>%\n",
    " filter(neighborhood == x) %>%\n",
    " summarize(avgPrice = mean(price, na.rm = TRUE))\n",
    "}\n",
    "meanPriceNeighborhood(\"Petworth\")"
   ]
  },
  {
   "cell_type": "code",
   "execution_count": 12,
   "id": "6c8d18f6",
   "metadata": {
    "execution": {
     "iopub.execute_input": "2023-03-19T17:04:22.652124Z",
     "iopub.status.busy": "2023-03-19T17:04:22.650673Z",
     "iopub.status.idle": "2023-03-19T17:04:22.700494Z",
     "shell.execute_reply": "2023-03-19T17:04:22.698833Z"
    },
    "papermill": {
     "duration": 0.063629,
     "end_time": "2023-03-19T17:04:22.703284",
     "exception": false,
     "start_time": "2023-03-19T17:04:22.639655",
     "status": "completed"
    },
    "tags": []
   },
   "outputs": [
    {
     "data": {
      "text/html": [
       "<table class=\"dataframe\">\n",
       "<caption>A data.frame: 1 × 1</caption>\n",
       "<thead>\n",
       "\t<tr><th scope=col>avgPrice</th></tr>\n",
       "\t<tr><th scope=col>&lt;dbl&gt;</th></tr>\n",
       "</thead>\n",
       "<tbody>\n",
       "\t<tr><td>148.7246</td></tr>\n",
       "</tbody>\n",
       "</table>\n"
      ],
      "text/latex": [
       "A data.frame: 1 × 1\n",
       "\\begin{tabular}{l}\n",
       " avgPrice\\\\\n",
       " <dbl>\\\\\n",
       "\\hline\n",
       "\t 148.7246\\\\\n",
       "\\end{tabular}\n"
      ],
      "text/markdown": [
       "\n",
       "A data.frame: 1 × 1\n",
       "\n",
       "| avgPrice &lt;dbl&gt; |\n",
       "|---|\n",
       "| 148.7246 |\n",
       "\n"
      ],
      "text/plain": [
       "  avgPrice\n",
       "1 148.7246"
      ]
     },
     "metadata": {},
     "output_type": "display_data"
    },
    {
     "name": "stderr",
     "output_type": "stream",
     "text": [
      "Non-numeric variables removed from input: `host_since`, `superhost`, `neighborhood`, and `room_type`\n",
      "Correlation computed with\n",
      "\u001b[36m•\u001b[39m Method: 'pearson'\n",
      "\u001b[36m•\u001b[39m Missing treated using: 'pairwise.complete.obs'\n"
     ]
    }
   ],
   "source": [
    "#Finally we developed a function to determine the average price of a rental based on how many individuals\n",
    "#the rental accomodates. Here we show the average price for a rental that accomodates 3 people.\n",
    "meanPriceCapacity = function(x){\n",
    "  ABBV3 %>%\n",
    " filter(accommodates == x) %>%\n",
    " summarize(avgPrice = mean(price, na.rm = TRUE))\n",
    "}\n",
    "meanPriceCapacity(\"3\")\n",
    "\n",
    "\n",
    "corABBData = correlate(ABBData)"
   ]
  }
 ],
 "metadata": {
  "kernelspec": {
   "display_name": "R",
   "language": "R",
   "name": "ir"
  },
  "language_info": {
   "codemirror_mode": "r",
   "file_extension": ".r",
   "mimetype": "text/x-r-source",
   "name": "R",
   "pygments_lexer": "r",
   "version": "4.0.5"
  },
  "papermill": {
   "default_parameters": {},
   "duration": 5.979946,
   "end_time": "2023-03-19T17:04:22.834200",
   "environment_variables": {},
   "exception": null,
   "input_path": "__notebook__.ipynb",
   "output_path": "__notebook__.ipynb",
   "parameters": {},
   "start_time": "2023-03-19T17:04:16.854254",
   "version": "2.4.0"
  }
 },
 "nbformat": 4,
 "nbformat_minor": 5
}
