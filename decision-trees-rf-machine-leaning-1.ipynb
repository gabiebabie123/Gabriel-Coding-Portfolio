{
 "cells": [
  {
   "cell_type": "code",
   "execution_count": 1,
   "id": "f8b6ee2d",
   "metadata": {
    "execution": {
     "iopub.execute_input": "2023-08-21T23:03:27.385019Z",
     "iopub.status.busy": "2023-08-21T23:03:27.382166Z",
     "iopub.status.idle": "2023-08-21T23:03:27.501304Z",
     "shell.execute_reply": "2023-08-21T23:03:27.499343Z"
    },
    "papermill": {
     "duration": 0.139046,
     "end_time": "2023-08-21T23:03:27.504555",
     "exception": false,
     "start_time": "2023-08-21T23:03:27.365509",
     "status": "completed"
    },
    "tags": []
   },
   "outputs": [],
   "source": [
    "#This was a group final project for my Machine Learning 1 class I did while completing my Masters at\n",
    "#Georgetown University. The project builds on the regression models in previous projects and dives into\n",
    "#Decision Trees and Random Forest Models. A written report also goes deep into the analysis of this project.\n",
    "#the project goes in detail about the consequences of employee turnover and how to predict employee turnover\n",
    "#given certain parameters. I left the original comments to help you understand the thought process in that\n",
    "#moment for what we were trying to accomplish."
   ]
  },
  {
   "cell_type": "code",
   "execution_count": 2,
   "id": "d6e4d355",
   "metadata": {
    "execution": {
     "iopub.execute_input": "2023-08-21T23:03:27.567690Z",
     "iopub.status.busy": "2023-08-21T23:03:27.528325Z",
     "iopub.status.idle": "2023-08-21T23:03:27.579321Z",
     "shell.execute_reply": "2023-08-21T23:03:27.577545Z"
    },
    "papermill": {
     "duration": 0.067526,
     "end_time": "2023-08-21T23:03:27.582740",
     "exception": false,
     "start_time": "2023-08-21T23:03:27.515214",
     "status": "completed"
    },
    "tags": []
   },
   "outputs": [],
   "source": [
    "#Some packages are no longer supported by R or Kaggle/githubinstall such as Hmisc and car. However,\n",
    "#I have commented out those lines of code and replaced them with comments so you understand the train of\n",
    "#thought. "
   ]
  },
  {
   "cell_type": "code",
   "execution_count": 3,
   "id": "7f1e155c",
   "metadata": {
    "execution": {
     "iopub.execute_input": "2023-08-21T23:03:27.610016Z",
     "iopub.status.busy": "2023-08-21T23:03:27.608355Z",
     "iopub.status.idle": "2023-08-21T23:03:27.820271Z",
     "shell.execute_reply": "2023-08-21T23:03:27.818245Z"
    },
    "papermill": {
     "duration": 0.227493,
     "end_time": "2023-08-21T23:03:27.823028",
     "exception": false,
     "start_time": "2023-08-21T23:03:27.595535",
     "status": "completed"
    },
    "tags": []
   },
   "outputs": [],
   "source": [
    "library(readxl)\n",
    "HR_Data = read_excel(\"/kaggle/input/employee-data/Employee_Data_Project.xlsx\")"
   ]
  },
  {
   "cell_type": "code",
   "execution_count": 4,
   "id": "533e4db5",
   "metadata": {
    "execution": {
     "iopub.execute_input": "2023-08-21T23:03:27.848618Z",
     "iopub.status.busy": "2023-08-21T23:03:27.846856Z",
     "iopub.status.idle": "2023-08-21T23:03:31.329688Z",
     "shell.execute_reply": "2023-08-21T23:03:31.327803Z"
    },
    "papermill": {
     "duration": 3.49843,
     "end_time": "2023-08-21T23:03:31.332523",
     "exception": false,
     "start_time": "2023-08-21T23:03:27.834093",
     "status": "completed"
    },
    "tags": []
   },
   "outputs": [
    {
     "name": "stderr",
     "output_type": "stream",
     "text": [
      "── \u001b[1mAttaching core tidyverse packages\u001b[22m ──────────────────────── tidyverse 2.0.0 ──\n",
      "\u001b[32m✔\u001b[39m \u001b[34mdplyr    \u001b[39m 1.1.2     \u001b[32m✔\u001b[39m \u001b[34mreadr    \u001b[39m 2.1.4\n",
      "\u001b[32m✔\u001b[39m \u001b[34mforcats  \u001b[39m 1.0.0     \u001b[32m✔\u001b[39m \u001b[34mstringr  \u001b[39m 1.5.0\n",
      "\u001b[32m✔\u001b[39m \u001b[34mggplot2  \u001b[39m 3.4.2     \u001b[32m✔\u001b[39m \u001b[34mtibble   \u001b[39m 3.2.1\n",
      "\u001b[32m✔\u001b[39m \u001b[34mlubridate\u001b[39m 1.9.2     \u001b[32m✔\u001b[39m \u001b[34mtidyr    \u001b[39m 1.3.0\n",
      "\u001b[32m✔\u001b[39m \u001b[34mpurrr    \u001b[39m 1.0.1     \n",
      "── \u001b[1mConflicts\u001b[22m ────────────────────────────────────────── tidyverse_conflicts() ──\n",
      "\u001b[31m✖\u001b[39m \u001b[34mdplyr\u001b[39m::\u001b[32mfilter()\u001b[39m masks \u001b[34mstats\u001b[39m::filter()\n",
      "\u001b[31m✖\u001b[39m \u001b[34mdplyr\u001b[39m::\u001b[32mlag()\u001b[39m    masks \u001b[34mstats\u001b[39m::lag()\n",
      "\u001b[36mℹ\u001b[39m Use the conflicted package (\u001b[3m\u001b[34m<http://conflicted.r-lib.org/>\u001b[39m\u001b[23m) to force all conflicts to become errors\n",
      "Loading required package: lattice\n",
      "\n",
      "\n",
      "Attaching package: ‘caret’\n",
      "\n",
      "\n",
      "The following object is masked from ‘package:purrr’:\n",
      "\n",
      "    lift\n",
      "\n",
      "\n",
      "The following object is masked from ‘package:httr’:\n",
      "\n",
      "    progress\n",
      "\n",
      "\n",
      "\n",
      "Attaching package: ‘data.table’\n",
      "\n",
      "\n",
      "The following objects are masked from ‘package:lubridate’:\n",
      "\n",
      "    hour, isoweek, mday, minute, month, quarter, second, wday, week,\n",
      "    yday, year\n",
      "\n",
      "\n",
      "The following objects are masked from ‘package:dplyr’:\n",
      "\n",
      "    between, first, last\n",
      "\n",
      "\n",
      "The following object is masked from ‘package:purrr’:\n",
      "\n",
      "    transpose\n",
      "\n",
      "\n",
      "Loaded ROSE 0.0-4\n",
      "\n",
      "\n"
     ]
    }
   ],
   "source": [
    "library(tidyverse)\n",
    "library(dplyr)\n",
    "library(ggplot2)\n",
    "library(class)\n",
    "library(caret)\n",
    "library(data.table)\n",
    "library(ROCR)\n",
    "library(ROSE) #sampling over and under, ROC and AUC curve \n",
    "#library(car)\n",
    "library(rpart)\n",
    "#library(ranger)"
   ]
  },
  {
   "cell_type": "code",
   "execution_count": 5,
   "id": "cbcb8b30",
   "metadata": {
    "execution": {
     "iopub.execute_input": "2023-08-21T23:03:31.360848Z",
     "iopub.status.busy": "2023-08-21T23:03:31.358548Z",
     "iopub.status.idle": "2023-08-21T23:03:31.372129Z",
     "shell.execute_reply": "2023-08-21T23:03:31.370227Z"
    },
    "papermill": {
     "duration": 0.029988,
     "end_time": "2023-08-21T23:03:31.374609",
     "exception": false,
     "start_time": "2023-08-21T23:03:31.344621",
     "status": "completed"
    },
    "tags": []
   },
   "outputs": [],
   "source": [
    "#The Ranger and Car package are not supported in Kaggle's cache. I still complete a Random Forest using\n",
    "#the randomforest package. I have included the code still for the ranger package to be reviewed if \n",
    "#necessary."
   ]
  },
  {
   "cell_type": "code",
   "execution_count": 6,
   "id": "f62a1c40",
   "metadata": {
    "execution": {
     "iopub.execute_input": "2023-08-21T23:03:31.402173Z",
     "iopub.status.busy": "2023-08-21T23:03:31.400571Z",
     "iopub.status.idle": "2023-08-21T23:03:31.525804Z",
     "shell.execute_reply": "2023-08-21T23:03:31.523915Z"
    },
    "papermill": {
     "duration": 0.141409,
     "end_time": "2023-08-21T23:03:31.528310",
     "exception": false,
     "start_time": "2023-08-21T23:03:31.386901",
     "status": "completed"
    },
    "tags": []
   },
   "outputs": [
    {
     "data": {
      "text/html": [
       "<style>\n",
       ".list-inline {list-style: none; margin:0; padding: 0}\n",
       ".list-inline>li {display: inline-block}\n",
       ".list-inline>li:not(:last-child)::after {content: \"\\00b7\"; padding: 0 .5ex}\n",
       "</style>\n",
       "<ol class=list-inline><li>4410</li><li>18</li></ol>\n"
      ],
      "text/latex": [
       "\\begin{enumerate*}\n",
       "\\item 4410\n",
       "\\item 18\n",
       "\\end{enumerate*}\n"
      ],
      "text/markdown": [
       "1. 4410\n",
       "2. 18\n",
       "\n",
       "\n"
      ],
      "text/plain": [
       "[1] 4410   18"
      ]
     },
     "metadata": {},
     "output_type": "display_data"
    },
    {
     "data": {
      "text/html": [
       "<style>\n",
       ".list-inline {list-style: none; margin:0; padding: 0}\n",
       ".list-inline>li {display: inline-block}\n",
       ".list-inline>li:not(:last-child)::after {content: \"\\00b7\"; padding: 0 .5ex}\n",
       "</style>\n",
       "<ol class=list-inline><li>'Age'</li><li>'Attrition'</li><li>'BusinessTravel'</li><li>'DistanceFromHome'</li><li>'Education'</li><li>'EmployeeID'</li><li>'Gender'</li><li>'JobLevel'</li><li>'MaritalStatus'</li><li>'Income'</li><li>'NumCompaniesWorked'</li><li>'StandardHours'</li><li>'TotalWorkingYears'</li><li>'TrainingTimesLastYear'</li><li>'YearsAtCompany'</li><li>'YearsWithCurrManager'</li><li>'EnvironmentSatisfaction'</li><li>'JobSatisfaction'</li></ol>\n"
      ],
      "text/latex": [
       "\\begin{enumerate*}\n",
       "\\item 'Age'\n",
       "\\item 'Attrition'\n",
       "\\item 'BusinessTravel'\n",
       "\\item 'DistanceFromHome'\n",
       "\\item 'Education'\n",
       "\\item 'EmployeeID'\n",
       "\\item 'Gender'\n",
       "\\item 'JobLevel'\n",
       "\\item 'MaritalStatus'\n",
       "\\item 'Income'\n",
       "\\item 'NumCompaniesWorked'\n",
       "\\item 'StandardHours'\n",
       "\\item 'TotalWorkingYears'\n",
       "\\item 'TrainingTimesLastYear'\n",
       "\\item 'YearsAtCompany'\n",
       "\\item 'YearsWithCurrManager'\n",
       "\\item 'EnvironmentSatisfaction'\n",
       "\\item 'JobSatisfaction'\n",
       "\\end{enumerate*}\n"
      ],
      "text/markdown": [
       "1. 'Age'\n",
       "2. 'Attrition'\n",
       "3. 'BusinessTravel'\n",
       "4. 'DistanceFromHome'\n",
       "5. 'Education'\n",
       "6. 'EmployeeID'\n",
       "7. 'Gender'\n",
       "8. 'JobLevel'\n",
       "9. 'MaritalStatus'\n",
       "10. 'Income'\n",
       "11. 'NumCompaniesWorked'\n",
       "12. 'StandardHours'\n",
       "13. 'TotalWorkingYears'\n",
       "14. 'TrainingTimesLastYear'\n",
       "15. 'YearsAtCompany'\n",
       "16. 'YearsWithCurrManager'\n",
       "17. 'EnvironmentSatisfaction'\n",
       "18. 'JobSatisfaction'\n",
       "\n",
       "\n"
      ],
      "text/plain": [
       " [1] \"Age\"                     \"Attrition\"              \n",
       " [3] \"BusinessTravel\"          \"DistanceFromHome\"       \n",
       " [5] \"Education\"               \"EmployeeID\"             \n",
       " [7] \"Gender\"                  \"JobLevel\"               \n",
       " [9] \"MaritalStatus\"           \"Income\"                 \n",
       "[11] \"NumCompaniesWorked\"      \"StandardHours\"          \n",
       "[13] \"TotalWorkingYears\"       \"TrainingTimesLastYear\"  \n",
       "[15] \"YearsAtCompany\"          \"YearsWithCurrManager\"   \n",
       "[17] \"EnvironmentSatisfaction\" \"JobSatisfaction\"        "
      ]
     },
     "metadata": {},
     "output_type": "display_data"
    },
    {
     "name": "stdout",
     "output_type": "stream",
     "text": [
      "tibble [4,410 × 18] (S3: tbl_df/tbl/data.frame)\n",
      " $ Age                    : num [1:4410] 51 31 32 38 32 46 28 29 31 25 ...\n",
      " $ Attrition              : chr [1:4410] \"No\" \"Yes\" \"No\" \"No\" ...\n",
      " $ BusinessTravel         : chr [1:4410] \"Travel_Rarely\" \"Travel_Frequently\" \"Travel_Frequently\" \"Non-Travel\" ...\n",
      " $ DistanceFromHome       : num [1:4410] 6 10 17 2 10 8 11 18 1 7 ...\n",
      " $ Education              : num [1:4410] 2 1 4 5 1 3 2 3 3 4 ...\n",
      " $ EmployeeID             : num [1:4410] 1 2 3 4 5 6 7 8 9 10 ...\n",
      " $ Gender                 : chr [1:4410] \"Female\" \"Female\" \"Male\" \"Male\" ...\n",
      " $ JobLevel               : num [1:4410] 1 1 4 3 1 4 2 2 3 4 ...\n",
      " $ MaritalStatus          : chr [1:4410] \"Married\" \"Single\" \"Married\" \"Married\" ...\n",
      " $ Income                 : num [1:4410] 131160 41890 193280 83210 23420 ...\n",
      " $ NumCompaniesWorked     : chr [1:4410] \"1\" \"0\" \"1\" \"3\" ...\n",
      " $ StandardHours          : num [1:4410] 8 8 8 8 8 8 8 8 8 8 ...\n",
      " $ TotalWorkingYears      : chr [1:4410] \"1\" \"6\" \"5\" \"13\" ...\n",
      " $ TrainingTimesLastYear  : num [1:4410] 6 3 2 5 2 5 2 2 2 2 ...\n",
      " $ YearsAtCompany         : num [1:4410] 1 5 5 8 6 7 0 0 9 6 ...\n",
      " $ YearsWithCurrManager   : num [1:4410] 0 4 3 5 4 7 0 0 8 5 ...\n",
      " $ EnvironmentSatisfaction: chr [1:4410] \"3\" \"3\" \"2\" \"4\" ...\n",
      " $ JobSatisfaction        : chr [1:4410] \"4\" \"2\" \"2\" \"4\" ...\n"
     ]
    },
    {
     "data": {
      "text/html": [
       "FALSE"
      ],
      "text/latex": [
       "FALSE"
      ],
      "text/markdown": [
       "FALSE"
      ],
      "text/plain": [
       "[1] FALSE"
      ]
     },
     "metadata": {},
     "output_type": "display_data"
    },
    {
     "data": {
      "text/html": [
       "0"
      ],
      "text/latex": [
       "0"
      ],
      "text/markdown": [
       "0"
      ],
      "text/plain": [
       "[1] 0"
      ]
     },
     "metadata": {},
     "output_type": "display_data"
    }
   ],
   "source": [
    "dim(HR_Data) #understanding dimensions\n",
    "names(HR_Data) #naming convention of HRDATA\n",
    "str(HR_Data) #classifications of BikeData\n",
    "anyNA(HR_Data)  #Checking for any NA\n",
    "sum(apply(HR_Data, 1, anyNA)) #checkings data to understand anyNA double check\n",
    "##NOTES: WE DO HAVE SOME NAS THAT WILL NEED TO TREATED BEFORE CONTINUING"
   ]
  },
  {
   "cell_type": "code",
   "execution_count": 7,
   "id": "c5f5fb94",
   "metadata": {
    "execution": {
     "iopub.execute_input": "2023-08-21T23:03:31.557802Z",
     "iopub.status.busy": "2023-08-21T23:03:31.556205Z",
     "iopub.status.idle": "2023-08-21T23:03:31.618629Z",
     "shell.execute_reply": "2023-08-21T23:03:31.616838Z"
    },
    "papermill": {
     "duration": 0.080007,
     "end_time": "2023-08-21T23:03:31.621180",
     "exception": false,
     "start_time": "2023-08-21T23:03:31.541173",
     "status": "completed"
    },
    "tags": []
   },
   "outputs": [
    {
     "data": {
      "text/plain": [
       "\n",
       "  No  Yes \n",
       "3699  711 "
      ]
     },
     "metadata": {},
     "output_type": "display_data"
    },
    {
     "data": {
      "text/plain": [
       "\n",
       "       No       Yes \n",
       "0.8387755 0.1612245 "
      ]
     },
     "metadata": {},
     "output_type": "display_data"
    },
    {
     "data": {
      "text/plain": [
       "      Age         Attrition         BusinessTravel     DistanceFromHome\n",
       " Min.   :18.00   Length:4410        Length:4410        Min.   : 1.000  \n",
       " 1st Qu.:30.00   Class :character   Class :character   1st Qu.: 2.000  \n",
       " Median :36.00   Mode  :character   Mode  :character   Median : 7.000  \n",
       " Mean   :36.92                                         Mean   : 9.193  \n",
       " 3rd Qu.:43.00                                         3rd Qu.:14.000  \n",
       " Max.   :60.00                                         Max.   :29.000  \n",
       "   Education       EmployeeID      Gender             JobLevel    \n",
       " Min.   :1.000   Min.   :   1   Length:4410        Min.   :1.000  \n",
       " 1st Qu.:2.000   1st Qu.:1103   Class :character   1st Qu.:1.000  \n",
       " Median :3.000   Median :2206   Mode  :character   Median :2.000  \n",
       " Mean   :2.913   Mean   :2206                      Mean   :2.064  \n",
       " 3rd Qu.:4.000   3rd Qu.:3308                      3rd Qu.:3.000  \n",
       " Max.   :5.000   Max.   :4410                      Max.   :5.000  \n",
       " MaritalStatus          Income       NumCompaniesWorked StandardHours\n",
       " Length:4410        Min.   : 10090   Length:4410        Min.   :8    \n",
       " Class :character   1st Qu.: 29110   Class :character   1st Qu.:8    \n",
       " Mode  :character   Median : 49190   Mode  :character   Median :8    \n",
       "                    Mean   : 65029                      Mean   :8    \n",
       "                    3rd Qu.: 83800                      3rd Qu.:8    \n",
       "                    Max.   :199990                      Max.   :8    \n",
       " TotalWorkingYears  TrainingTimesLastYear YearsAtCompany   YearsWithCurrManager\n",
       " Length:4410        Min.   :0.000         Min.   : 0.000   Min.   : 0.000      \n",
       " Class :character   1st Qu.:2.000         1st Qu.: 3.000   1st Qu.: 2.000      \n",
       " Mode  :character   Median :3.000         Median : 5.000   Median : 3.000      \n",
       "                    Mean   :2.799         Mean   : 7.008   Mean   : 4.123      \n",
       "                    3rd Qu.:3.000         3rd Qu.: 9.000   3rd Qu.: 7.000      \n",
       "                    Max.   :6.000         Max.   :40.000   Max.   :17.000      \n",
       " EnvironmentSatisfaction JobSatisfaction   \n",
       " Length:4410             Length:4410       \n",
       " Class :character        Class :character  \n",
       " Mode  :character        Mode  :character  \n",
       "                                           \n",
       "                                           \n",
       "                                           "
      ]
     },
     "metadata": {},
     "output_type": "display_data"
    }
   ],
   "source": [
    "table(HR_Data$Attrition)\n",
    "prop.table(table(HR_Data$Attrition))\n",
    "summary(HR_Data)\n",
    "##Only 16.1% of our Y variable is in the data, may need to under sample"
   ]
  },
  {
   "cell_type": "code",
   "execution_count": 8,
   "id": "e1ba7283",
   "metadata": {
    "execution": {
     "iopub.execute_input": "2023-08-21T23:03:31.651535Z",
     "iopub.status.busy": "2023-08-21T23:03:31.649953Z",
     "iopub.status.idle": "2023-08-21T23:03:31.695727Z",
     "shell.execute_reply": "2023-08-21T23:03:31.693793Z"
    },
    "papermill": {
     "duration": 0.063608,
     "end_time": "2023-08-21T23:03:31.698221",
     "exception": false,
     "start_time": "2023-08-21T23:03:31.634613",
     "status": "completed"
    },
    "tags": []
   },
   "outputs": [
    {
     "data": {
      "text/plain": [
       "\n",
       "  No  Yes \n",
       "1108  215 "
      ]
     },
     "metadata": {},
     "output_type": "display_data"
    },
    {
     "data": {
      "text/plain": [
       "\n",
       "       No       Yes \n",
       "0.8374906 0.1625094 "
      ]
     },
     "metadata": {},
     "output_type": "display_data"
    },
    {
     "data": {
      "text/plain": [
       "\n",
       "  No  Yes \n",
       "2591  496 "
      ]
     },
     "metadata": {},
     "output_type": "display_data"
    },
    {
     "data": {
      "text/plain": [
       "\n",
       "       No       Yes \n",
       "0.8393262 0.1606738 "
      ]
     },
     "metadata": {},
     "output_type": "display_data"
    }
   ],
   "source": [
    "set.seed(123) #setting to be reproducible\n",
    "index <- sample(1:nrow(HR_Data),round(nrow(HR_Data)*0.7)) #setting up to split the data\n",
    "train<- HR_Data[index,] #training data\n",
    "test<- HR_Data[-index,] #test data\n",
    "\n",
    "#Ensure proportionality of test and training is same\n",
    "table(test$Attrition)\n",
    "prop.table(table(test$Attrition))\n",
    "table(train$Attrition)\n",
    "prop.table(table(train$Attrition))\n",
    "\n",
    "#since both are roughly the same proportions, we can proceed"
   ]
  },
  {
   "cell_type": "code",
   "execution_count": 9,
   "id": "eeb03402",
   "metadata": {
    "execution": {
     "iopub.execute_input": "2023-08-21T23:03:31.729365Z",
     "iopub.status.busy": "2023-08-21T23:03:31.727607Z",
     "iopub.status.idle": "2023-08-21T23:03:32.123128Z",
     "shell.execute_reply": "2023-08-21T23:03:32.121197Z"
    },
    "papermill": {
     "duration": 0.413741,
     "end_time": "2023-08-21T23:03:32.125638",
     "exception": false,
     "start_time": "2023-08-21T23:03:31.711897",
     "status": "completed"
    },
    "tags": []
   },
   "outputs": [
    {
     "name": "stderr",
     "output_type": "stream",
     "text": [
      "\n",
      "Attaching package: ‘hablar’\n",
      "\n",
      "\n",
      "The following object is masked from ‘package:forcats’:\n",
      "\n",
      "    fct\n",
      "\n",
      "\n",
      "The following object is masked from ‘package:dplyr’:\n",
      "\n",
      "    na_if\n",
      "\n",
      "\n",
      "The following object is masked from ‘package:tibble’:\n",
      "\n",
      "    num\n",
      "\n",
      "\n",
      "Warning message:\n",
      "“\u001b[1m\u001b[22mThere were 3 warnings in `mutate()`.\n",
      "The first warning was:\n",
      "\u001b[1m\u001b[22m\u001b[36mℹ\u001b[39m In argument: `TotalWorkingYears = (structure(function (..., .x = ..1, .y =\n",
      "  ..2, . = ..1) ...`.\n",
      "Caused by warning in `as_reliable_num()`:\n",
      "\u001b[33m!\u001b[39m NAs introduced by coercion\n",
      "\u001b[1m\u001b[22m\u001b[36mℹ\u001b[39m Run `dplyr::last_dplyr_warnings()` to see the 2 remaining warnings.”\n",
      "Warning message:\n",
      "“\u001b[1m\u001b[22mThere were 3 warnings in `mutate()`.\n",
      "The first warning was:\n",
      "\u001b[1m\u001b[22m\u001b[36mℹ\u001b[39m In argument: `TotalWorkingYears = (structure(function (..., .x = ..1, .y =\n",
      "  ..2, . = ..1) ...`.\n",
      "Caused by warning in `as_reliable_num()`:\n",
      "\u001b[33m!\u001b[39m NAs introduced by coercion\n",
      "\u001b[1m\u001b[22m\u001b[36mℹ\u001b[39m Run `dplyr::last_dplyr_warnings()` to see the 2 remaining warnings.”\n"
     ]
    }
   ],
   "source": [
    "library(hablar)\n",
    "\n",
    "train_factor = train %>%\n",
    "  convert(fct(Attrition, BusinessTravel, Gender, MaritalStatus, JobLevel, Education))\n",
    "\n",
    "#the following variables should be converted to numeric as some are charcaters: total working years, numcompaniesworked, education, environmentsatisfaction, job satisfaction; when we did a missing data check, the missing data was not detected because the original data structure was different i.e. total working years - was a character, num companies worked was a charcter.\n",
    "train_numeric = train_factor %>% \n",
    "  convert(num(TotalWorkingYears, NumCompaniesWorked, JobSatisfaction))\n",
    "\n",
    "train = train_numeric\n",
    "\n",
    "#convert test data from character to factor; \n",
    "test_factor = test %>%\n",
    "  convert(fct(BusinessTravel, Gender, MaritalStatus, Attrition, JobLevel, Education))\n",
    "\n",
    "#convert test data from charcter to numeric, this way we would be able to detect missing data \n",
    "test_numeric = test_factor%>% \n",
    "  convert(num(TotalWorkingYears, NumCompaniesWorked, JobSatisfaction))\n",
    "\n",
    "test = test_numeric"
   ]
  },
  {
   "cell_type": "code",
   "execution_count": 10,
   "id": "857a1057",
   "metadata": {
    "execution": {
     "iopub.execute_input": "2023-08-21T23:03:32.158204Z",
     "iopub.status.busy": "2023-08-21T23:03:32.156502Z",
     "iopub.status.idle": "2023-08-21T23:03:32.226291Z",
     "shell.execute_reply": "2023-08-21T23:03:32.224426Z"
    },
    "papermill": {
     "duration": 0.088683,
     "end_time": "2023-08-21T23:03:32.228737",
     "exception": false,
     "start_time": "2023-08-21T23:03:32.140054",
     "status": "completed"
    },
    "tags": []
   },
   "outputs": [
    {
     "data": {
      "text/html": [
       "<style>\n",
       ".dl-inline {width: auto; margin:0; padding: 0}\n",
       ".dl-inline>dt, .dl-inline>dd {float: none; width: auto; display: inline-block}\n",
       ".dl-inline>dt::after {content: \":\\0020\"; padding-right: .5ex}\n",
       ".dl-inline>dt:not(:first-of-type) {padding-left: .5ex}\n",
       "</style><dl class=dl-inline><dt>Age</dt><dd>0</dd><dt>Attrition</dt><dd>0</dd><dt>BusinessTravel</dt><dd>0</dd><dt>DistanceFromHome</dt><dd>0</dd><dt>Education</dt><dd>0</dd><dt>EmployeeID</dt><dd>0</dd><dt>Gender</dt><dd>0</dd><dt>JobLevel</dt><dd>0</dd><dt>MaritalStatus</dt><dd>0</dd><dt>Income</dt><dd>0</dd><dt>NumCompaniesWorked</dt><dd>14</dd><dt>StandardHours</dt><dd>0</dd><dt>TotalWorkingYears</dt><dd>4</dd><dt>TrainingTimesLastYear</dt><dd>0</dd><dt>YearsAtCompany</dt><dd>0</dd><dt>YearsWithCurrManager</dt><dd>0</dd><dt>EnvironmentSatisfaction</dt><dd>0</dd><dt>JobSatisfaction</dt><dd>18</dd></dl>\n"
      ],
      "text/latex": [
       "\\begin{description*}\n",
       "\\item[Age] 0\n",
       "\\item[Attrition] 0\n",
       "\\item[BusinessTravel] 0\n",
       "\\item[DistanceFromHome] 0\n",
       "\\item[Education] 0\n",
       "\\item[EmployeeID] 0\n",
       "\\item[Gender] 0\n",
       "\\item[JobLevel] 0\n",
       "\\item[MaritalStatus] 0\n",
       "\\item[Income] 0\n",
       "\\item[NumCompaniesWorked] 14\n",
       "\\item[StandardHours] 0\n",
       "\\item[TotalWorkingYears] 4\n",
       "\\item[TrainingTimesLastYear] 0\n",
       "\\item[YearsAtCompany] 0\n",
       "\\item[YearsWithCurrManager] 0\n",
       "\\item[EnvironmentSatisfaction] 0\n",
       "\\item[JobSatisfaction] 18\n",
       "\\end{description*}\n"
      ],
      "text/markdown": [
       "Age\n",
       ":   0Attrition\n",
       ":   0BusinessTravel\n",
       ":   0DistanceFromHome\n",
       ":   0Education\n",
       ":   0EmployeeID\n",
       ":   0Gender\n",
       ":   0JobLevel\n",
       ":   0MaritalStatus\n",
       ":   0Income\n",
       ":   0NumCompaniesWorked\n",
       ":   14StandardHours\n",
       ":   0TotalWorkingYears\n",
       ":   4TrainingTimesLastYear\n",
       ":   0YearsAtCompany\n",
       ":   0YearsWithCurrManager\n",
       ":   0EnvironmentSatisfaction\n",
       ":   0JobSatisfaction\n",
       ":   18\n",
       "\n"
      ],
      "text/plain": [
       "                    Age               Attrition          BusinessTravel \n",
       "                      0                       0                       0 \n",
       "       DistanceFromHome               Education              EmployeeID \n",
       "                      0                       0                       0 \n",
       "                 Gender                JobLevel           MaritalStatus \n",
       "                      0                       0                       0 \n",
       "                 Income      NumCompaniesWorked           StandardHours \n",
       "                      0                      14                       0 \n",
       "      TotalWorkingYears   TrainingTimesLastYear          YearsAtCompany \n",
       "                      4                       0                       0 \n",
       "   YearsWithCurrManager EnvironmentSatisfaction         JobSatisfaction \n",
       "                      0                       0                      18 "
      ]
     },
     "metadata": {},
     "output_type": "display_data"
    },
    {
     "data": {
      "text/html": [
       "<style>\n",
       ".dl-inline {width: auto; margin:0; padding: 0}\n",
       ".dl-inline>dt, .dl-inline>dd {float: none; width: auto; display: inline-block}\n",
       ".dl-inline>dt::after {content: \":\\0020\"; padding-right: .5ex}\n",
       ".dl-inline>dt:not(:first-of-type) {padding-left: .5ex}\n",
       "</style><dl class=dl-inline><dt>Age</dt><dd>0</dd><dt>Attrition</dt><dd>0</dd><dt>BusinessTravel</dt><dd>0</dd><dt>DistanceFromHome</dt><dd>0</dd><dt>Education</dt><dd>0</dd><dt>EmployeeID</dt><dd>0</dd><dt>Gender</dt><dd>0</dd><dt>JobLevel</dt><dd>0</dd><dt>MaritalStatus</dt><dd>0</dd><dt>Income</dt><dd>0</dd><dt>NumCompaniesWorked</dt><dd>5</dd><dt>StandardHours</dt><dd>0</dd><dt>TotalWorkingYears</dt><dd>5</dd><dt>TrainingTimesLastYear</dt><dd>0</dd><dt>YearsAtCompany</dt><dd>0</dd><dt>YearsWithCurrManager</dt><dd>0</dd><dt>EnvironmentSatisfaction</dt><dd>0</dd><dt>JobSatisfaction</dt><dd>2</dd></dl>\n"
      ],
      "text/latex": [
       "\\begin{description*}\n",
       "\\item[Age] 0\n",
       "\\item[Attrition] 0\n",
       "\\item[BusinessTravel] 0\n",
       "\\item[DistanceFromHome] 0\n",
       "\\item[Education] 0\n",
       "\\item[EmployeeID] 0\n",
       "\\item[Gender] 0\n",
       "\\item[JobLevel] 0\n",
       "\\item[MaritalStatus] 0\n",
       "\\item[Income] 0\n",
       "\\item[NumCompaniesWorked] 5\n",
       "\\item[StandardHours] 0\n",
       "\\item[TotalWorkingYears] 5\n",
       "\\item[TrainingTimesLastYear] 0\n",
       "\\item[YearsAtCompany] 0\n",
       "\\item[YearsWithCurrManager] 0\n",
       "\\item[EnvironmentSatisfaction] 0\n",
       "\\item[JobSatisfaction] 2\n",
       "\\end{description*}\n"
      ],
      "text/markdown": [
       "Age\n",
       ":   0Attrition\n",
       ":   0BusinessTravel\n",
       ":   0DistanceFromHome\n",
       ":   0Education\n",
       ":   0EmployeeID\n",
       ":   0Gender\n",
       ":   0JobLevel\n",
       ":   0MaritalStatus\n",
       ":   0Income\n",
       ":   0NumCompaniesWorked\n",
       ":   5StandardHours\n",
       ":   0TotalWorkingYears\n",
       ":   5TrainingTimesLastYear\n",
       ":   0YearsAtCompany\n",
       ":   0YearsWithCurrManager\n",
       ":   0EnvironmentSatisfaction\n",
       ":   0JobSatisfaction\n",
       ":   2\n",
       "\n"
      ],
      "text/plain": [
       "                    Age               Attrition          BusinessTravel \n",
       "                      0                       0                       0 \n",
       "       DistanceFromHome               Education              EmployeeID \n",
       "                      0                       0                       0 \n",
       "                 Gender                JobLevel           MaritalStatus \n",
       "                      0                       0                       0 \n",
       "                 Income      NumCompaniesWorked           StandardHours \n",
       "                      0                       5                       0 \n",
       "      TotalWorkingYears   TrainingTimesLastYear          YearsAtCompany \n",
       "                      5                       0                       0 \n",
       "   YearsWithCurrManager EnvironmentSatisfaction         JobSatisfaction \n",
       "                      0                       0                       2 "
      ]
     },
     "metadata": {},
     "output_type": "display_data"
    },
    {
     "data": {
      "text/html": [
       "<style>\n",
       ".dl-inline {width: auto; margin:0; padding: 0}\n",
       ".dl-inline>dt, .dl-inline>dd {float: none; width: auto; display: inline-block}\n",
       ".dl-inline>dt::after {content: \":\\0020\"; padding-right: .5ex}\n",
       ".dl-inline>dt:not(:first-of-type) {padding-left: .5ex}\n",
       "</style><dl class=dl-inline><dt>Age</dt><dd>0</dd><dt>Attrition</dt><dd>0</dd><dt>BusinessTravel</dt><dd>0</dd><dt>DistanceFromHome</dt><dd>0</dd><dt>Education</dt><dd>0</dd><dt>EmployeeID</dt><dd>0</dd><dt>Gender</dt><dd>0</dd><dt>JobLevel</dt><dd>0</dd><dt>MaritalStatus</dt><dd>0</dd><dt>Income</dt><dd>0</dd><dt>NumCompaniesWorked</dt><dd>0</dd><dt>StandardHours</dt><dd>0</dd><dt>TotalWorkingYears</dt><dd>0</dd><dt>TrainingTimesLastYear</dt><dd>0</dd><dt>YearsAtCompany</dt><dd>0</dd><dt>YearsWithCurrManager</dt><dd>0</dd><dt>EnvironmentSatisfaction</dt><dd>0</dd><dt>JobSatisfaction</dt><dd>0</dd></dl>\n"
      ],
      "text/latex": [
       "\\begin{description*}\n",
       "\\item[Age] 0\n",
       "\\item[Attrition] 0\n",
       "\\item[BusinessTravel] 0\n",
       "\\item[DistanceFromHome] 0\n",
       "\\item[Education] 0\n",
       "\\item[EmployeeID] 0\n",
       "\\item[Gender] 0\n",
       "\\item[JobLevel] 0\n",
       "\\item[MaritalStatus] 0\n",
       "\\item[Income] 0\n",
       "\\item[NumCompaniesWorked] 0\n",
       "\\item[StandardHours] 0\n",
       "\\item[TotalWorkingYears] 0\n",
       "\\item[TrainingTimesLastYear] 0\n",
       "\\item[YearsAtCompany] 0\n",
       "\\item[YearsWithCurrManager] 0\n",
       "\\item[EnvironmentSatisfaction] 0\n",
       "\\item[JobSatisfaction] 0\n",
       "\\end{description*}\n"
      ],
      "text/markdown": [
       "Age\n",
       ":   0Attrition\n",
       ":   0BusinessTravel\n",
       ":   0DistanceFromHome\n",
       ":   0Education\n",
       ":   0EmployeeID\n",
       ":   0Gender\n",
       ":   0JobLevel\n",
       ":   0MaritalStatus\n",
       ":   0Income\n",
       ":   0NumCompaniesWorked\n",
       ":   0StandardHours\n",
       ":   0TotalWorkingYears\n",
       ":   0TrainingTimesLastYear\n",
       ":   0YearsAtCompany\n",
       ":   0YearsWithCurrManager\n",
       ":   0EnvironmentSatisfaction\n",
       ":   0JobSatisfaction\n",
       ":   0\n",
       "\n"
      ],
      "text/plain": [
       "                    Age               Attrition          BusinessTravel \n",
       "                      0                       0                       0 \n",
       "       DistanceFromHome               Education              EmployeeID \n",
       "                      0                       0                       0 \n",
       "                 Gender                JobLevel           MaritalStatus \n",
       "                      0                       0                       0 \n",
       "                 Income      NumCompaniesWorked           StandardHours \n",
       "                      0                       0                       0 \n",
       "      TotalWorkingYears   TrainingTimesLastYear          YearsAtCompany \n",
       "                      0                       0                       0 \n",
       "   YearsWithCurrManager EnvironmentSatisfaction         JobSatisfaction \n",
       "                      0                       0                       0 "
      ]
     },
     "metadata": {},
     "output_type": "display_data"
    },
    {
     "data": {
      "text/html": [
       "<style>\n",
       ".dl-inline {width: auto; margin:0; padding: 0}\n",
       ".dl-inline>dt, .dl-inline>dd {float: none; width: auto; display: inline-block}\n",
       ".dl-inline>dt::after {content: \":\\0020\"; padding-right: .5ex}\n",
       ".dl-inline>dt:not(:first-of-type) {padding-left: .5ex}\n",
       "</style><dl class=dl-inline><dt>Age</dt><dd>0</dd><dt>Attrition</dt><dd>0</dd><dt>BusinessTravel</dt><dd>0</dd><dt>DistanceFromHome</dt><dd>0</dd><dt>Education</dt><dd>0</dd><dt>EmployeeID</dt><dd>0</dd><dt>Gender</dt><dd>0</dd><dt>JobLevel</dt><dd>0</dd><dt>MaritalStatus</dt><dd>0</dd><dt>Income</dt><dd>0</dd><dt>NumCompaniesWorked</dt><dd>0</dd><dt>StandardHours</dt><dd>0</dd><dt>TotalWorkingYears</dt><dd>0</dd><dt>TrainingTimesLastYear</dt><dd>0</dd><dt>YearsAtCompany</dt><dd>0</dd><dt>YearsWithCurrManager</dt><dd>0</dd><dt>EnvironmentSatisfaction</dt><dd>0</dd><dt>JobSatisfaction</dt><dd>0</dd></dl>\n"
      ],
      "text/latex": [
       "\\begin{description*}\n",
       "\\item[Age] 0\n",
       "\\item[Attrition] 0\n",
       "\\item[BusinessTravel] 0\n",
       "\\item[DistanceFromHome] 0\n",
       "\\item[Education] 0\n",
       "\\item[EmployeeID] 0\n",
       "\\item[Gender] 0\n",
       "\\item[JobLevel] 0\n",
       "\\item[MaritalStatus] 0\n",
       "\\item[Income] 0\n",
       "\\item[NumCompaniesWorked] 0\n",
       "\\item[StandardHours] 0\n",
       "\\item[TotalWorkingYears] 0\n",
       "\\item[TrainingTimesLastYear] 0\n",
       "\\item[YearsAtCompany] 0\n",
       "\\item[YearsWithCurrManager] 0\n",
       "\\item[EnvironmentSatisfaction] 0\n",
       "\\item[JobSatisfaction] 0\n",
       "\\end{description*}\n"
      ],
      "text/markdown": [
       "Age\n",
       ":   0Attrition\n",
       ":   0BusinessTravel\n",
       ":   0DistanceFromHome\n",
       ":   0Education\n",
       ":   0EmployeeID\n",
       ":   0Gender\n",
       ":   0JobLevel\n",
       ":   0MaritalStatus\n",
       ":   0Income\n",
       ":   0NumCompaniesWorked\n",
       ":   0StandardHours\n",
       ":   0TotalWorkingYears\n",
       ":   0TrainingTimesLastYear\n",
       ":   0YearsAtCompany\n",
       ":   0YearsWithCurrManager\n",
       ":   0EnvironmentSatisfaction\n",
       ":   0JobSatisfaction\n",
       ":   0\n",
       "\n"
      ],
      "text/plain": [
       "                    Age               Attrition          BusinessTravel \n",
       "                      0                       0                       0 \n",
       "       DistanceFromHome               Education              EmployeeID \n",
       "                      0                       0                       0 \n",
       "                 Gender                JobLevel           MaritalStatus \n",
       "                      0                       0                       0 \n",
       "                 Income      NumCompaniesWorked           StandardHours \n",
       "                      0                       0                       0 \n",
       "      TotalWorkingYears   TrainingTimesLastYear          YearsAtCompany \n",
       "                      0                       0                       0 \n",
       "   YearsWithCurrManager EnvironmentSatisfaction         JobSatisfaction \n",
       "                      0                       0                       0 "
      ]
     },
     "metadata": {},
     "output_type": "display_data"
    }
   ],
   "source": [
    "#Identify where missing values are\n",
    "sapply(train,function(x)sum(is.na(x))) #NumCompaniesWorked = 14, TotalWorkingYears = 4, Environmentsatisfaction = 14, Jobsatisfaction = 18\n",
    "sapply(test,function(x)sum(is.na(x))) #NumCompaniesWorked = 5, TotalWorkingYears = 5, EnvironmentSatisfaction = 11, JobSatisfaction = 2\n",
    "\n",
    "#Replacing NumCompaniesWorked \n",
    "train$NumCompaniesWorked[is.na(train$NumCompaniesWorked)] = median(train$NumCompaniesWorked,na.rm = TRUE)\n",
    "test$NumCompaniesWorked[is.na(test$NumCompaniesWorked)] = median(test$NumCompaniesWorked,na.rm = TRUE)\n",
    "\n",
    "#Replacing TotalWorkingYears \n",
    "train$TotalWorkingYears[is.na(train$TotalWorkingYears)] = median(train$TotalWorkingYears,na.rm = TRUE)\n",
    "test$TotalWorkingYears[is.na(test$TotalWorkingYears)] = median(test$TotalWorkingYears,na.rm = TRUE)\n",
    "\n",
    "#Replacing EnvironmentSatisfaction\n",
    "train$EnvironmentSatisfaction[is.na(train$EnvironmentSatisfaction)] = median(train$EnvironmentSatisfaction,na.rm = TRUE)\n",
    "test$EnvironmentSatisfaction[is.na(test$EnvironmentSatisfaction)] = median(test$EnvironmentSatisfaction,na.rm = TRUE)\n",
    "\n",
    "#Replacing Jobsatisfaction \n",
    "train$JobSatisfaction[is.na(train$JobSatisfaction)] = median(train$JobSatisfaction,na.rm = TRUE)\n",
    "test$JobSatisfaction[is.na(test$JobSatisfaction)] = median(test$JobSatisfaction,na.rm = TRUE)\n",
    "\n",
    "sapply(train,function(x)sum(is.na(x))) \n",
    "sapply(test,function(x)sum(is.na(x))) \n",
    "#successfully adjusted the NAs"
   ]
  },
  {
   "cell_type": "code",
   "execution_count": 11,
   "id": "035efe4a",
   "metadata": {
    "execution": {
     "iopub.execute_input": "2023-08-21T23:03:32.264363Z",
     "iopub.status.busy": "2023-08-21T23:03:32.262637Z",
     "iopub.status.idle": "2023-08-21T23:03:32.380319Z",
     "shell.execute_reply": "2023-08-21T23:03:32.376067Z"
    },
    "papermill": {
     "duration": 0.140817,
     "end_time": "2023-08-21T23:03:32.385325",
     "exception": false,
     "start_time": "2023-08-21T23:03:32.244508",
     "status": "completed"
    },
    "tags": []
   },
   "outputs": [
    {
     "data": {
      "text/plain": [
       "\n",
       "Call:\n",
       "glm(formula = Attrition ~ ., family = binomial(), data = train)\n",
       "\n",
       "Deviance Residuals: \n",
       "    Min       1Q   Median       3Q      Max  \n",
       "-1.5323  -0.6037  -0.4080  -0.2332   2.7522  \n",
       "\n",
       "Coefficients: (1 not defined because of singularities)\n",
       "                                  Estimate Std. Error z value Pr(>|z|)    \n",
       "(Intercept)                      1.721e-01  4.864e-01   0.354 0.723541    \n",
       "Age                             -2.511e-02  8.372e-03  -3.000 0.002704 ** \n",
       "BusinessTravelTravel_Frequently  1.554e+00  2.542e-01   6.114 9.72e-10 ***\n",
       "BusinessTravelTravel_Rarely      7.794e-01  2.406e-01   3.239 0.001199 ** \n",
       "DistanceFromHome                 5.679e-03  6.705e-03   0.847 0.397012    \n",
       "Education2                       5.576e-02  1.950e-01   0.286 0.774921    \n",
       "Education3                      -9.517e-02  1.782e-01  -0.534 0.593331    \n",
       "Education4                      -3.173e-02  1.879e-01  -0.169 0.865923    \n",
       "Education5                      -6.372e-01  3.775e-01  -1.688 0.091361 .  \n",
       "EmployeeID                       1.065e-05  4.165e-05   0.256 0.798161    \n",
       "GenderMale                      -1.936e-02  1.095e-01  -0.177 0.859648    \n",
       "JobLevel2                        7.592e-02  1.231e-01   0.617 0.537533    \n",
       "JobLevel3                       -2.461e-01  1.753e-01  -1.404 0.160383    \n",
       "JobLevel4                        8.196e-02  2.206e-01   0.372 0.710242    \n",
       "JobLevel5                       -7.384e-01  3.105e-01  -2.378 0.017411 *  \n",
       "MaritalStatusMarried             3.767e-01  1.597e-01   2.360 0.018290 *  \n",
       "MaritalStatusSingle              1.115e+00  1.589e-01   7.017 2.26e-12 ***\n",
       "Income                          -1.118e-06  1.179e-06  -0.948 0.342947    \n",
       "NumCompaniesWorked               1.249e-01  2.250e-02   5.552 2.82e-08 ***\n",
       "StandardHours                           NA         NA      NA       NA    \n",
       "TotalWorkingYears               -7.157e-02  1.509e-02  -4.744 2.10e-06 ***\n",
       "TrainingTimesLastYear           -1.457e-01  4.317e-02  -3.374 0.000741 ***\n",
       "YearsAtCompany                   8.475e-02  2.002e-02   4.232 2.31e-05 ***\n",
       "YearsWithCurrManager            -1.740e-01  2.736e-02  -6.359 2.03e-10 ***\n",
       "EnvironmentSatisfaction2        -6.785e-01  1.586e-01  -4.279 1.88e-05 ***\n",
       "EnvironmentSatisfaction3        -8.841e-01  1.489e-01  -5.936 2.92e-09 ***\n",
       "EnvironmentSatisfaction4        -9.967e-01  1.493e-01  -6.676 2.45e-11 ***\n",
       "EnvironmentSatisfactionNA        3.388e-01  6.505e-01   0.521 0.602487    \n",
       "JobSatisfaction                 -3.106e-01  4.885e-02  -6.357 2.06e-10 ***\n",
       "---\n",
       "Signif. codes:  0 ‘***’ 0.001 ‘**’ 0.01 ‘*’ 0.05 ‘.’ 0.1 ‘ ’ 1\n",
       "\n",
       "(Dispersion parameter for binomial family taken to be 1)\n",
       "\n",
       "    Null deviance: 2721.4  on 3086  degrees of freedom\n",
       "Residual deviance: 2305.7  on 3059  degrees of freedom\n",
       "AIC: 2361.7\n",
       "\n",
       "Number of Fisher Scoring iterations: 5\n"
      ]
     },
     "metadata": {},
     "output_type": "display_data"
    }
   ],
   "source": [
    "#Running the baseline regression model\n",
    "\n",
    "Baseline_Reg = glm(Attrition~., data = train, family = binomial())\n",
    "summary(Baseline_Reg)"
   ]
  },
  {
   "cell_type": "code",
   "execution_count": 12,
   "id": "0383b31b",
   "metadata": {
    "execution": {
     "iopub.execute_input": "2023-08-21T23:03:32.464813Z",
     "iopub.status.busy": "2023-08-21T23:03:32.458813Z",
     "iopub.status.idle": "2023-08-21T23:03:32.526351Z",
     "shell.execute_reply": "2023-08-21T23:03:32.524424Z"
    },
    "papermill": {
     "duration": 0.10941,
     "end_time": "2023-08-21T23:03:32.529426",
     "exception": false,
     "start_time": "2023-08-21T23:03:32.420016",
     "status": "completed"
    },
    "tags": []
   },
   "outputs": [
    {
     "data": {
      "text/plain": [
       "\n",
       " No Yes \n",
       "488 496 "
      ]
     },
     "metadata": {},
     "output_type": "display_data"
    },
    {
     "data": {
      "text/plain": [
       "\n",
       " No Yes \n",
       "202 215 "
      ]
     },
     "metadata": {},
     "output_type": "display_data"
    }
   ],
   "source": [
    "#Undersampling both the test and training data\n",
    "\n",
    "library(ROSE)\n",
    "\n",
    "train_under = ovun.sample(formula = Attrition ~., \n",
    "                          data = train, \n",
    "                          method = \"under\",\n",
    "                          p=0.5, seed = 123)$data\n",
    "table(train_under$Attrition)\n",
    "\n",
    "test_under = ovun.sample(formula = Attrition ~., \n",
    "                          data = test, \n",
    "                          method = \"under\",\n",
    "                          p=0.5, seed = 123)$data\n",
    "table(test_under$Attrition)\n",
    "#proportion is fairly balanced in test data "
   ]
  },
  {
   "cell_type": "code",
   "execution_count": 13,
   "id": "40a9b8e6",
   "metadata": {
    "execution": {
     "iopub.execute_input": "2023-08-21T23:03:32.565839Z",
     "iopub.status.busy": "2023-08-21T23:03:32.564128Z",
     "iopub.status.idle": "2023-08-21T23:03:32.625452Z",
     "shell.execute_reply": "2023-08-21T23:03:32.619226Z"
    },
    "papermill": {
     "duration": 0.085327,
     "end_time": "2023-08-21T23:03:32.630915",
     "exception": false,
     "start_time": "2023-08-21T23:03:32.545588",
     "status": "completed"
    },
    "tags": []
   },
   "outputs": [
    {
     "data": {
      "text/plain": [
       "\n",
       "Call:\n",
       "glm(formula = Attrition ~ ., family = \"binomial\", data = train_under)\n",
       "\n",
       "Deviance Residuals: \n",
       "    Min       1Q   Median       3Q      Max  \n",
       "-2.3718  -0.9953   0.3308   0.9829   2.0369  \n",
       "\n",
       "Coefficients: (1 not defined because of singularities)\n",
       "                                  Estimate Std. Error z value Pr(>|z|)    \n",
       "(Intercept)                      1.237e+00  6.477e-01   1.910 0.056145 .  \n",
       "Age                             -2.375e-02  1.092e-02  -2.174 0.029687 *  \n",
       "BusinessTravelTravel_Frequently  1.656e+00  3.243e-01   5.108 3.26e-07 ***\n",
       "BusinessTravelTravel_Rarely      9.519e-01  2.999e-01   3.174 0.001504 ** \n",
       "DistanceFromHome                 8.908e-03  9.252e-03   0.963 0.335629    \n",
       "Education2                       3.919e-01  2.688e-01   1.458 0.144946    \n",
       "Education3                      -1.425e-01  2.390e-01  -0.596 0.550965    \n",
       "Education4                       1.348e-01  2.496e-01   0.540 0.589014    \n",
       "Education5                      -6.805e-01  4.890e-01  -1.392 0.164061    \n",
       "EmployeeID                       2.100e-05  5.581e-05   0.376 0.706682    \n",
       "GenderMale                      -1.412e-02  1.485e-01  -0.095 0.924254    \n",
       "JobLevel2                        6.717e-02  1.676e-01   0.401 0.688667    \n",
       "JobLevel3                       -2.927e-02  2.341e-01  -0.125 0.900506    \n",
       "JobLevel4                        8.365e-01  3.302e-01   2.533 0.011294 *  \n",
       "JobLevel5                       -8.911e-01  3.909e-01  -2.280 0.022627 *  \n",
       "MaritalStatusMarried             4.580e-01  2.032e-01   2.254 0.024206 *  \n",
       "MaritalStatusSingle              1.111e+00  2.064e-01   5.385 7.24e-08 ***\n",
       "Income                          -2.178e-06  1.560e-06  -1.396 0.162774    \n",
       "NumCompaniesWorked               1.113e-01  3.143e-02   3.542 0.000397 ***\n",
       "StandardHours                           NA         NA      NA       NA    \n",
       "TotalWorkingYears               -6.063e-02  1.880e-02  -3.225 0.001258 ** \n",
       "TrainingTimesLastYear           -1.749e-01  6.069e-02  -2.882 0.003958 ** \n",
       "YearsAtCompany                   8.543e-02  2.363e-02   3.615 0.000300 ***\n",
       "YearsWithCurrManager            -1.876e-01  3.444e-02  -5.447 5.13e-08 ***\n",
       "EnvironmentSatisfaction2        -7.717e-01  2.144e-01  -3.599 0.000320 ***\n",
       "EnvironmentSatisfaction3        -7.410e-01  2.071e-01  -3.578 0.000346 ***\n",
       "EnvironmentSatisfaction4        -6.015e-01  2.070e-01  -2.906 0.003662 ** \n",
       "EnvironmentSatisfactionNA        4.339e-01  9.557e-01   0.454 0.649818    \n",
       "JobSatisfaction                 -2.611e-01  6.624e-02  -3.942 8.08e-05 ***\n",
       "---\n",
       "Signif. codes:  0 ‘***’ 0.001 ‘**’ 0.01 ‘*’ 0.05 ‘.’ 0.1 ‘ ’ 1\n",
       "\n",
       "(Dispersion parameter for binomial family taken to be 1)\n",
       "\n",
       "    Null deviance: 1364.0  on 983  degrees of freedom\n",
       "Residual deviance: 1150.8  on 956  degrees of freedom\n",
       "AIC: 1206.8\n",
       "\n",
       "Number of Fisher Scoring iterations: 4\n"
      ]
     },
     "metadata": {},
     "output_type": "display_data"
    }
   ],
   "source": [
    "#With a balanced sample using undersampling, we run a logistic regression to test improvement\n",
    "\n",
    "model_1 = glm(Attrition ~., family= \"binomial\", data = train_under)\n",
    "summary(model_1)\n",
    "#The new model has far lower residuals at 1162 with an AIC of 1212.5  versus the former model of 2315.8 \n",
    "#and AIC of 2365.8. Both were below null which si good. Since down sampling has lower AIC, we proceed with it."
   ]
  },
  {
   "cell_type": "code",
   "execution_count": 14,
   "id": "07b773fa",
   "metadata": {
    "execution": {
     "iopub.execute_input": "2023-08-21T23:03:32.707049Z",
     "iopub.status.busy": "2023-08-21T23:03:32.702768Z",
     "iopub.status.idle": "2023-08-21T23:03:34.495649Z",
     "shell.execute_reply": "2023-08-21T23:03:34.491548Z"
    },
    "papermill": {
     "duration": 1.835274,
     "end_time": "2023-08-21T23:03:34.500282",
     "exception": false,
     "start_time": "2023-08-21T23:03:32.665008",
     "status": "completed"
    },
    "tags": []
   },
   "outputs": [
    {
     "name": "stdout",
     "output_type": "stream",
     "text": [
      "Start:  AIC=1206.85\n",
      "Attrition ~ Age + BusinessTravel + DistanceFromHome + Education + \n",
      "    EmployeeID + Gender + JobLevel + MaritalStatus + Income + \n",
      "    NumCompaniesWorked + StandardHours + TotalWorkingYears + \n",
      "    TrainingTimesLastYear + YearsAtCompany + YearsWithCurrManager + \n",
      "    EnvironmentSatisfaction + JobSatisfaction\n",
      "\n",
      "\n",
      "Step:  AIC=1206.85\n",
      "Attrition ~ Age + BusinessTravel + DistanceFromHome + Education + \n",
      "    EmployeeID + Gender + JobLevel + MaritalStatus + Income + \n",
      "    NumCompaniesWorked + TotalWorkingYears + TrainingTimesLastYear + \n",
      "    YearsAtCompany + YearsWithCurrManager + EnvironmentSatisfaction + \n",
      "    JobSatisfaction\n",
      "\n",
      "                          Df Deviance    AIC\n",
      "- Gender                   1   1150.9 1204.9\n",
      "- EmployeeID               1   1151.0 1205.0\n",
      "- DistanceFromHome         1   1151.8 1205.8\n",
      "- Income                   1   1152.8 1206.8\n",
      "<none>                         1150.8 1206.8\n",
      "- Education                4   1160.8 1208.8\n",
      "- Age                      1   1155.6 1209.6\n",
      "- JobLevel                 4   1164.6 1212.6\n",
      "- TrainingTimesLastYear    1   1159.3 1213.3\n",
      "- TotalWorkingYears        1   1161.7 1215.7\n",
      "- EnvironmentSatisfaction  4   1169.6 1217.6\n",
      "- NumCompaniesWorked       1   1163.7 1217.7\n",
      "- YearsAtCompany           1   1164.0 1218.0\n",
      "- JobSatisfaction          1   1166.7 1220.7\n",
      "- YearsWithCurrManager     1   1181.2 1235.2\n",
      "- BusinessTravel           2   1183.5 1235.5\n",
      "- MaritalStatus            2   1184.6 1236.6\n",
      "\n",
      "Step:  AIC=1204.86\n",
      "Attrition ~ Age + BusinessTravel + DistanceFromHome + Education + \n",
      "    EmployeeID + JobLevel + MaritalStatus + Income + NumCompaniesWorked + \n",
      "    TotalWorkingYears + TrainingTimesLastYear + YearsAtCompany + \n",
      "    YearsWithCurrManager + EnvironmentSatisfaction + JobSatisfaction\n",
      "\n",
      "                          Df Deviance    AIC\n",
      "- EmployeeID               1   1151.0 1203.0\n",
      "- DistanceFromHome         1   1151.8 1203.8\n",
      "- Income                   1   1152.8 1204.8\n",
      "<none>                         1150.9 1204.9\n",
      "- Education                4   1160.8 1206.8\n",
      "+ Gender                   1   1150.8 1206.8\n",
      "- Age                      1   1155.6 1207.6\n",
      "- JobLevel                 4   1164.6 1210.6\n",
      "- TrainingTimesLastYear    1   1159.3 1211.3\n",
      "- TotalWorkingYears        1   1161.7 1213.7\n",
      "- EnvironmentSatisfaction  4   1169.6 1215.6\n",
      "- NumCompaniesWorked       1   1163.9 1215.9\n",
      "- YearsAtCompany           1   1164.0 1216.0\n",
      "- JobSatisfaction          1   1166.7 1218.7\n",
      "- YearsWithCurrManager     1   1181.2 1233.2\n",
      "- BusinessTravel           2   1183.5 1233.5\n",
      "- MaritalStatus            2   1184.6 1234.6\n",
      "\n",
      "Step:  AIC=1203\n",
      "Attrition ~ Age + BusinessTravel + DistanceFromHome + Education + \n",
      "    JobLevel + MaritalStatus + Income + NumCompaniesWorked + \n",
      "    TotalWorkingYears + TrainingTimesLastYear + YearsAtCompany + \n",
      "    YearsWithCurrManager + EnvironmentSatisfaction + JobSatisfaction\n",
      "\n",
      "                          Df Deviance    AIC\n",
      "- DistanceFromHome         1   1151.9 1201.9\n",
      "- Income                   1   1152.9 1202.9\n",
      "<none>                         1151.0 1203.0\n",
      "+ EmployeeID               1   1150.9 1204.9\n",
      "+ Gender                   1   1151.0 1205.0\n",
      "- Education                4   1161.0 1205.0\n",
      "- Age                      1   1155.7 1205.7\n",
      "- JobLevel                 4   1164.6 1208.6\n",
      "- TrainingTimesLastYear    1   1159.5 1209.5\n",
      "- TotalWorkingYears        1   1162.0 1212.0\n",
      "- EnvironmentSatisfaction  4   1169.9 1213.9\n",
      "- NumCompaniesWorked       1   1164.0 1214.0\n",
      "- YearsAtCompany           1   1164.2 1214.2\n",
      "- JobSatisfaction          1   1167.0 1217.0\n",
      "- YearsWithCurrManager     1   1181.4 1231.4\n",
      "- BusinessTravel           2   1183.8 1231.8\n",
      "- MaritalStatus            2   1184.8 1232.8\n",
      "\n",
      "Step:  AIC=1201.93\n",
      "Attrition ~ Age + BusinessTravel + Education + JobLevel + MaritalStatus + \n",
      "    Income + NumCompaniesWorked + TotalWorkingYears + TrainingTimesLastYear + \n",
      "    YearsAtCompany + YearsWithCurrManager + EnvironmentSatisfaction + \n",
      "    JobSatisfaction\n",
      "\n",
      "                          Df Deviance    AIC\n",
      "<none>                         1151.9 1201.9\n",
      "- Income                   1   1154.0 1202.0\n",
      "+ DistanceFromHome         1   1151.0 1203.0\n",
      "+ EmployeeID               1   1151.8 1203.8\n",
      "+ Gender                   1   1151.9 1203.9\n",
      "- Education                4   1162.2 1204.2\n",
      "- Age                      1   1156.4 1204.4\n",
      "- JobLevel                 4   1165.5 1207.5\n",
      "- TrainingTimesLastYear    1   1160.6 1208.6\n",
      "- TotalWorkingYears        1   1163.1 1211.1\n",
      "- NumCompaniesWorked       1   1164.8 1212.8\n",
      "- EnvironmentSatisfaction  4   1170.8 1212.8\n",
      "- YearsAtCompany           1   1165.3 1213.3\n",
      "- JobSatisfaction          1   1168.6 1216.6\n",
      "- YearsWithCurrManager     1   1182.0 1230.0\n",
      "- BusinessTravel           2   1184.1 1230.1\n",
      "- MaritalStatus            2   1185.2 1231.2\n"
     ]
    },
    {
     "data": {
      "text/plain": [
       "Attrition ~ Age + BusinessTravel + Education + JobLevel + MaritalStatus + \n",
       "    Income + NumCompaniesWorked + TotalWorkingYears + TrainingTimesLastYear + \n",
       "    YearsAtCompany + YearsWithCurrManager + EnvironmentSatisfaction + \n",
       "    JobSatisfaction"
      ]
     },
     "metadata": {},
     "output_type": "display_data"
    },
    {
     "data": {
      "text/plain": [
       "\n",
       "Call:\n",
       "glm(formula = Attrition ~ Age + BusinessTravel + Education + \n",
       "    JobLevel + MaritalStatus + Income + NumCompaniesWorked + \n",
       "    TotalWorkingYears + TrainingTimesLastYear + YearsAtCompany + \n",
       "    YearsWithCurrManager + EnvironmentSatisfaction + JobSatisfaction, \n",
       "    family = \"binomial\", data = train_under)\n",
       "\n",
       "Deviance Residuals: \n",
       "    Min       1Q   Median       3Q      Max  \n",
       "-2.3941  -0.9982   0.3402   0.9856   1.9994  \n",
       "\n",
       "Coefficients:\n",
       "                                  Estimate Std. Error z value Pr(>|z|)    \n",
       "(Intercept)                      1.377e+00  6.144e-01   2.241 0.025007 *  \n",
       "Age                             -2.305e-02  1.089e-02  -2.117 0.034283 *  \n",
       "BusinessTravelTravel_Frequently  1.637e+00  3.218e-01   5.086 3.66e-07 ***\n",
       "BusinessTravelTravel_Rarely      9.388e-01  2.977e-01   3.154 0.001613 ** \n",
       "Education2                       3.901e-01  2.685e-01   1.453 0.146278    \n",
       "Education3                      -1.489e-01  2.384e-01  -0.625 0.532262    \n",
       "Education4                       1.455e-01  2.486e-01   0.586 0.558181    \n",
       "Education5                      -6.885e-01  4.877e-01  -1.412 0.158063    \n",
       "JobLevel2                        7.111e-02  1.673e-01   0.425 0.670892    \n",
       "JobLevel3                       -4.410e-02  2.323e-01  -0.190 0.849409    \n",
       "JobLevel4                        8.155e-01  3.288e-01   2.480 0.013122 *  \n",
       "JobLevel5                       -8.981e-01  3.901e-01  -2.302 0.021342 *  \n",
       "MaritalStatusMarried             4.590e-01  2.028e-01   2.263 0.023618 *  \n",
       "MaritalStatusSingle              1.104e+00  2.059e-01   5.360 8.33e-08 ***\n",
       "Income                          -2.219e-06  1.552e-06  -1.429 0.152904    \n",
       "NumCompaniesWorked               1.108e-01  3.126e-02   3.543 0.000395 ***\n",
       "TotalWorkingYears               -6.139e-02  1.875e-02  -3.274 0.001060 ** \n",
       "TrainingTimesLastYear           -1.767e-01  6.054e-02  -2.920 0.003505 ** \n",
       "YearsAtCompany                   8.584e-02  2.356e-02   3.643 0.000270 ***\n",
       "YearsWithCurrManager            -1.863e-01  3.434e-02  -5.426 5.77e-08 ***\n",
       "EnvironmentSatisfaction2        -7.767e-01  2.138e-01  -3.634 0.000279 ***\n",
       "EnvironmentSatisfaction3        -7.424e-01  2.068e-01  -3.590 0.000331 ***\n",
       "EnvironmentSatisfaction4        -5.980e-01  2.067e-01  -2.894 0.003809 ** \n",
       "EnvironmentSatisfactionNA        4.033e-01  9.555e-01   0.422 0.672995    \n",
       "JobSatisfaction                 -2.666e-01  6.595e-02  -4.043 5.28e-05 ***\n",
       "---\n",
       "Signif. codes:  0 ‘***’ 0.001 ‘**’ 0.01 ‘*’ 0.05 ‘.’ 0.1 ‘ ’ 1\n",
       "\n",
       "(Dispersion parameter for binomial family taken to be 1)\n",
       "\n",
       "    Null deviance: 1364.0  on 983  degrees of freedom\n",
       "Residual deviance: 1151.9  on 959  degrees of freedom\n",
       "AIC: 1201.9\n",
       "\n",
       "Number of Fisher Scoring iterations: 4\n"
      ]
     },
     "metadata": {},
     "output_type": "display_data"
    }
   ],
   "source": [
    "#Having completed the cleaning process, we now use stepwise to remove insignificant variables \n",
    "\n",
    "step_model1 = step(model_1, direction = \"both\")\n",
    "formula(step_model1) \n",
    "#Attrition ~ Age + BusinessTravel + JobLevel + MaritalStatus + Income + NumCompaniesWorked + TotalWorkingYears + TrainingTimesLastYear + YearsAtCompany + YearsWithCurrManager + EnvironmentSatisfaction + JobSatisfaction\n",
    "\n",
    "#The Model removed the following variables as insignificant: Distance from home, Education, Employee ID, Gender, Job Level, Income, Standard Hours\n",
    "\n",
    "summary(step_model1)\n",
    "#Most influential over the data: Businesses Travel, Number of Companies Worked For, Years at company, Years with current manager, Job Satisfaction"
   ]
  },
  {
   "cell_type": "code",
   "execution_count": 15,
   "id": "c914f08c",
   "metadata": {
    "execution": {
     "iopub.execute_input": "2023-08-21T23:03:34.579808Z",
     "iopub.status.busy": "2023-08-21T23:03:34.576131Z",
     "iopub.status.idle": "2023-08-21T23:03:34.598635Z",
     "shell.execute_reply": "2023-08-21T23:03:34.596822Z"
    },
    "papermill": {
     "duration": 0.065557,
     "end_time": "2023-08-21T23:03:34.601973",
     "exception": false,
     "start_time": "2023-08-21T23:03:34.536416",
     "status": "completed"
    },
    "tags": []
   },
   "outputs": [],
   "source": [
    "#Check for multicollinearity\n",
    "\n",
    "#vif(step_model1)\n",
    "#none above 10, suggesting no multicollinearity"
   ]
  },
  {
   "cell_type": "code",
   "execution_count": 16,
   "id": "07d4e8d5",
   "metadata": {
    "execution": {
     "iopub.execute_input": "2023-08-21T23:03:34.640272Z",
     "iopub.status.busy": "2023-08-21T23:03:34.638660Z",
     "iopub.status.idle": "2023-08-21T23:03:34.660318Z",
     "shell.execute_reply": "2023-08-21T23:03:34.658489Z"
    },
    "papermill": {
     "duration": 0.043607,
     "end_time": "2023-08-21T23:03:34.662980",
     "exception": false,
     "start_time": "2023-08-21T23:03:34.619373",
     "status": "completed"
    },
    "tags": []
   },
   "outputs": [
    {
     "data": {
      "text/html": [
       "<style>\n",
       ".dl-inline {width: auto; margin:0; padding: 0}\n",
       ".dl-inline>dt, .dl-inline>dd {float: none; width: auto; display: inline-block}\n",
       ".dl-inline>dt::after {content: \":\\0020\"; padding-right: .5ex}\n",
       ".dl-inline>dt:not(:first-of-type) {padding-left: .5ex}\n",
       "</style><dl class=dl-inline><dt>(Intercept)</dt><dd>3.96299542364942</dd><dt>Age</dt><dd>0.977212233359945</dd><dt>BusinessTravelTravel_Frequently</dt><dd>5.13841739161606</dd><dt>BusinessTravelTravel_Rarely</dt><dd>2.55685537722122</dd><dt>Education2</dt><dd>1.47705746912791</dd><dt>Education3</dt><dd>0.861653088533479</dd><dt>Education4</dt><dd>1.1566620058294</dd><dt>Education5</dt><dd>0.502351279337174</dd><dt>JobLevel2</dt><dd>1.07369790077248</dd><dt>JobLevel3</dt><dd>0.956856723997382</dd><dt>JobLevel4</dt><dd>2.26039156944197</dd><dt>JobLevel5</dt><dd>0.407351924446207</dd><dt>MaritalStatusMarried</dt><dd>1.58251969570824</dd><dt>MaritalStatusSingle</dt><dd>3.01525370943233</dd><dt>Income</dt><dd>0.99999778131579</dd><dt>NumCompaniesWorked</dt><dd>1.11712842357448</dd><dt>TotalWorkingYears</dt><dd>0.940455075517984</dd><dt>TrainingTimesLastYear</dt><dd>0.837993634129118</dd><dt>YearsAtCompany</dt><dd>1.08962658130225</dd><dt>YearsWithCurrManager</dt><dd>0.8300285570953</dd><dt>EnvironmentSatisfaction2</dt><dd>0.459901865704813</dd><dt>EnvironmentSatisfaction3</dt><dd>0.475988356223797</dd><dt>EnvironmentSatisfaction4</dt><dd>0.549935407000146</dd><dt>EnvironmentSatisfactionNA</dt><dd>1.49669055857829</dd><dt>JobSatisfaction</dt><dd>0.765948320331534</dd></dl>\n"
      ],
      "text/latex": [
       "\\begin{description*}\n",
       "\\item[(Intercept)] 3.96299542364942\n",
       "\\item[Age] 0.977212233359945\n",
       "\\item[BusinessTravelTravel\\textbackslash{}\\_Frequently] 5.13841739161606\n",
       "\\item[BusinessTravelTravel\\textbackslash{}\\_Rarely] 2.55685537722122\n",
       "\\item[Education2] 1.47705746912791\n",
       "\\item[Education3] 0.861653088533479\n",
       "\\item[Education4] 1.1566620058294\n",
       "\\item[Education5] 0.502351279337174\n",
       "\\item[JobLevel2] 1.07369790077248\n",
       "\\item[JobLevel3] 0.956856723997382\n",
       "\\item[JobLevel4] 2.26039156944197\n",
       "\\item[JobLevel5] 0.407351924446207\n",
       "\\item[MaritalStatusMarried] 1.58251969570824\n",
       "\\item[MaritalStatusSingle] 3.01525370943233\n",
       "\\item[Income] 0.99999778131579\n",
       "\\item[NumCompaniesWorked] 1.11712842357448\n",
       "\\item[TotalWorkingYears] 0.940455075517984\n",
       "\\item[TrainingTimesLastYear] 0.837993634129118\n",
       "\\item[YearsAtCompany] 1.08962658130225\n",
       "\\item[YearsWithCurrManager] 0.8300285570953\n",
       "\\item[EnvironmentSatisfaction2] 0.459901865704813\n",
       "\\item[EnvironmentSatisfaction3] 0.475988356223797\n",
       "\\item[EnvironmentSatisfaction4] 0.549935407000146\n",
       "\\item[EnvironmentSatisfactionNA] 1.49669055857829\n",
       "\\item[JobSatisfaction] 0.765948320331534\n",
       "\\end{description*}\n"
      ],
      "text/markdown": [
       "(Intercept)\n",
       ":   3.96299542364942Age\n",
       ":   0.977212233359945BusinessTravelTravel_Frequently\n",
       ":   5.13841739161606BusinessTravelTravel_Rarely\n",
       ":   2.55685537722122Education2\n",
       ":   1.47705746912791Education3\n",
       ":   0.861653088533479Education4\n",
       ":   1.1566620058294Education5\n",
       ":   0.502351279337174JobLevel2\n",
       ":   1.07369790077248JobLevel3\n",
       ":   0.956856723997382JobLevel4\n",
       ":   2.26039156944197JobLevel5\n",
       ":   0.407351924446207MaritalStatusMarried\n",
       ":   1.58251969570824MaritalStatusSingle\n",
       ":   3.01525370943233Income\n",
       ":   0.99999778131579NumCompaniesWorked\n",
       ":   1.11712842357448TotalWorkingYears\n",
       ":   0.940455075517984TrainingTimesLastYear\n",
       ":   0.837993634129118YearsAtCompany\n",
       ":   1.08962658130225YearsWithCurrManager\n",
       ":   0.8300285570953EnvironmentSatisfaction2\n",
       ":   0.459901865704813EnvironmentSatisfaction3\n",
       ":   0.475988356223797EnvironmentSatisfaction4\n",
       ":   0.549935407000146EnvironmentSatisfactionNA\n",
       ":   1.49669055857829JobSatisfaction\n",
       ":   0.765948320331534\n",
       "\n"
      ],
      "text/plain": [
       "                    (Intercept)                             Age \n",
       "                      3.9629954                       0.9772122 \n",
       "BusinessTravelTravel_Frequently     BusinessTravelTravel_Rarely \n",
       "                      5.1384174                       2.5568554 \n",
       "                     Education2                      Education3 \n",
       "                      1.4770575                       0.8616531 \n",
       "                     Education4                      Education5 \n",
       "                      1.1566620                       0.5023513 \n",
       "                      JobLevel2                       JobLevel3 \n",
       "                      1.0736979                       0.9568567 \n",
       "                      JobLevel4                       JobLevel5 \n",
       "                      2.2603916                       0.4073519 \n",
       "           MaritalStatusMarried             MaritalStatusSingle \n",
       "                      1.5825197                       3.0152537 \n",
       "                         Income              NumCompaniesWorked \n",
       "                      0.9999978                       1.1171284 \n",
       "              TotalWorkingYears           TrainingTimesLastYear \n",
       "                      0.9404551                       0.8379936 \n",
       "                 YearsAtCompany            YearsWithCurrManager \n",
       "                      1.0896266                       0.8300286 \n",
       "       EnvironmentSatisfaction2        EnvironmentSatisfaction3 \n",
       "                      0.4599019                       0.4759884 \n",
       "       EnvironmentSatisfaction4       EnvironmentSatisfactionNA \n",
       "                      0.5499354                       1.4966906 \n",
       "                JobSatisfaction \n",
       "                      0.7659483 "
      ]
     },
     "metadata": {},
     "output_type": "display_data"
    }
   ],
   "source": [
    "#Evaluate coefficients to get Odds Ratio\n",
    "\n",
    "exp(coef(step_model1))\n",
    "\n",
    "#Business Travel = with an increase in work travel, the odds of attrition 100*(4.64-1) = 364% increase likelihood of attrition\n",
    "#Employees who have worked at a greater number of companies work for another: 100*(1.11-1) = 11% increase in attrition\n",
    "#Years at company: 100*(1.083 - 1) = 8.3% increase in attrition\n",
    "#years with current manager: (0.833 - 1)*100 = -16.7% decrease in attrition\n",
    "#Job Satisfaction: a 1 point increase in job satisfaction leads to a 21.8% decrease in attrition"
   ]
  },
  {
   "cell_type": "code",
   "execution_count": 17,
   "id": "6e9095de",
   "metadata": {
    "execution": {
     "iopub.execute_input": "2023-08-21T23:03:34.702994Z",
     "iopub.status.busy": "2023-08-21T23:03:34.701370Z",
     "iopub.status.idle": "2023-08-21T23:03:34.856901Z",
     "shell.execute_reply": "2023-08-21T23:03:34.852810Z"
    },
    "papermill": {
     "duration": 0.180554,
     "end_time": "2023-08-21T23:03:34.861553",
     "exception": false,
     "start_time": "2023-08-21T23:03:34.680999",
     "status": "completed"
    },
    "tags": []
   },
   "outputs": [
    {
     "data": {
      "text/html": [
       "<table class=\"dataframe\">\n",
       "<caption>A anova: 14 × 5</caption>\n",
       "<thead>\n",
       "\t<tr><th></th><th scope=col>Df</th><th scope=col>Deviance</th><th scope=col>Resid. Df</th><th scope=col>Resid. Dev</th><th scope=col>Pr(&gt;Chi)</th></tr>\n",
       "\t<tr><th></th><th scope=col>&lt;int&gt;</th><th scope=col>&lt;dbl&gt;</th><th scope=col>&lt;int&gt;</th><th scope=col>&lt;dbl&gt;</th><th scope=col>&lt;dbl&gt;</th></tr>\n",
       "</thead>\n",
       "<tbody>\n",
       "\t<tr><th scope=row>NULL</th><td>NA</td><td>         NA</td><td>983</td><td>1364.049</td><td>          NA</td></tr>\n",
       "\t<tr><th scope=row>Age</th><td> 1</td><td>29.40355585</td><td>982</td><td>1334.645</td><td>5.876971e-08</td></tr>\n",
       "\t<tr><th scope=row>BusinessTravel</th><td> 2</td><td>26.12803608</td><td>980</td><td>1308.517</td><td>2.120162e-06</td></tr>\n",
       "\t<tr><th scope=row>Education</th><td> 4</td><td>10.46484442</td><td>976</td><td>1298.052</td><td>3.328471e-02</td></tr>\n",
       "\t<tr><th scope=row>JobLevel</th><td> 4</td><td> 8.22383786</td><td>972</td><td>1289.828</td><td>8.371442e-02</td></tr>\n",
       "\t<tr><th scope=row>MaritalStatus</th><td> 2</td><td>34.07692653</td><td>970</td><td>1255.751</td><td>3.983726e-08</td></tr>\n",
       "\t<tr><th scope=row>Income</th><td> 1</td><td> 3.52203286</td><td>969</td><td>1252.229</td><td>6.055813e-02</td></tr>\n",
       "\t<tr><th scope=row>NumCompaniesWorked</th><td> 1</td><td>16.66251165</td><td>968</td><td>1235.567</td><td>4.465480e-05</td></tr>\n",
       "\t<tr><th scope=row>TotalWorkingYears</th><td> 1</td><td>15.95236760</td><td>967</td><td>1219.614</td><td>6.495648e-05</td></tr>\n",
       "\t<tr><th scope=row>TrainingTimesLastYear</th><td> 1</td><td> 6.80919055</td><td>966</td><td>1212.805</td><td>9.068987e-03</td></tr>\n",
       "\t<tr><th scope=row>YearsAtCompany</th><td> 1</td><td> 0.09890444</td><td>965</td><td>1212.706</td><td>7.531483e-01</td></tr>\n",
       "\t<tr><th scope=row>YearsWithCurrManager</th><td> 1</td><td>25.56355407</td><td>964</td><td>1187.143</td><td>4.280486e-07</td></tr>\n",
       "\t<tr><th scope=row>EnvironmentSatisfaction</th><td> 4</td><td>18.51997993</td><td>960</td><td>1168.623</td><td>9.763025e-04</td></tr>\n",
       "\t<tr><th scope=row>JobSatisfaction</th><td> 1</td><td>16.69471055</td><td>959</td><td>1151.928</td><td>4.390324e-05</td></tr>\n",
       "</tbody>\n",
       "</table>\n"
      ],
      "text/latex": [
       "A anova: 14 × 5\n",
       "\\begin{tabular}{r|lllll}\n",
       "  & Df & Deviance & Resid. Df & Resid. Dev & Pr(>Chi)\\\\\n",
       "  & <int> & <dbl> & <int> & <dbl> & <dbl>\\\\\n",
       "\\hline\n",
       "\tNULL & NA &          NA & 983 & 1364.049 &           NA\\\\\n",
       "\tAge &  1 & 29.40355585 & 982 & 1334.645 & 5.876971e-08\\\\\n",
       "\tBusinessTravel &  2 & 26.12803608 & 980 & 1308.517 & 2.120162e-06\\\\\n",
       "\tEducation &  4 & 10.46484442 & 976 & 1298.052 & 3.328471e-02\\\\\n",
       "\tJobLevel &  4 &  8.22383786 & 972 & 1289.828 & 8.371442e-02\\\\\n",
       "\tMaritalStatus &  2 & 34.07692653 & 970 & 1255.751 & 3.983726e-08\\\\\n",
       "\tIncome &  1 &  3.52203286 & 969 & 1252.229 & 6.055813e-02\\\\\n",
       "\tNumCompaniesWorked &  1 & 16.66251165 & 968 & 1235.567 & 4.465480e-05\\\\\n",
       "\tTotalWorkingYears &  1 & 15.95236760 & 967 & 1219.614 & 6.495648e-05\\\\\n",
       "\tTrainingTimesLastYear &  1 &  6.80919055 & 966 & 1212.805 & 9.068987e-03\\\\\n",
       "\tYearsAtCompany &  1 &  0.09890444 & 965 & 1212.706 & 7.531483e-01\\\\\n",
       "\tYearsWithCurrManager &  1 & 25.56355407 & 964 & 1187.143 & 4.280486e-07\\\\\n",
       "\tEnvironmentSatisfaction &  4 & 18.51997993 & 960 & 1168.623 & 9.763025e-04\\\\\n",
       "\tJobSatisfaction &  1 & 16.69471055 & 959 & 1151.928 & 4.390324e-05\\\\\n",
       "\\end{tabular}\n"
      ],
      "text/markdown": [
       "\n",
       "A anova: 14 × 5\n",
       "\n",
       "| <!--/--> | Df &lt;int&gt; | Deviance &lt;dbl&gt; | Resid. Df &lt;int&gt; | Resid. Dev &lt;dbl&gt; | Pr(&gt;Chi) &lt;dbl&gt; |\n",
       "|---|---|---|---|---|---|\n",
       "| NULL | NA |          NA | 983 | 1364.049 |           NA |\n",
       "| Age |  1 | 29.40355585 | 982 | 1334.645 | 5.876971e-08 |\n",
       "| BusinessTravel |  2 | 26.12803608 | 980 | 1308.517 | 2.120162e-06 |\n",
       "| Education |  4 | 10.46484442 | 976 | 1298.052 | 3.328471e-02 |\n",
       "| JobLevel |  4 |  8.22383786 | 972 | 1289.828 | 8.371442e-02 |\n",
       "| MaritalStatus |  2 | 34.07692653 | 970 | 1255.751 | 3.983726e-08 |\n",
       "| Income |  1 |  3.52203286 | 969 | 1252.229 | 6.055813e-02 |\n",
       "| NumCompaniesWorked |  1 | 16.66251165 | 968 | 1235.567 | 4.465480e-05 |\n",
       "| TotalWorkingYears |  1 | 15.95236760 | 967 | 1219.614 | 6.495648e-05 |\n",
       "| TrainingTimesLastYear |  1 |  6.80919055 | 966 | 1212.805 | 9.068987e-03 |\n",
       "| YearsAtCompany |  1 |  0.09890444 | 965 | 1212.706 | 7.531483e-01 |\n",
       "| YearsWithCurrManager |  1 | 25.56355407 | 964 | 1187.143 | 4.280486e-07 |\n",
       "| EnvironmentSatisfaction |  4 | 18.51997993 | 960 | 1168.623 | 9.763025e-04 |\n",
       "| JobSatisfaction |  1 | 16.69471055 | 959 | 1151.928 | 4.390324e-05 |\n",
       "\n"
      ],
      "text/plain": [
       "                        Df Deviance    Resid. Df Resid. Dev Pr(>Chi)    \n",
       "NULL                    NA          NA 983       1364.049             NA\n",
       "Age                      1 29.40355585 982       1334.645   5.876971e-08\n",
       "BusinessTravel           2 26.12803608 980       1308.517   2.120162e-06\n",
       "Education                4 10.46484442 976       1298.052   3.328471e-02\n",
       "JobLevel                 4  8.22383786 972       1289.828   8.371442e-02\n",
       "MaritalStatus            2 34.07692653 970       1255.751   3.983726e-08\n",
       "Income                   1  3.52203286 969       1252.229   6.055813e-02\n",
       "NumCompaniesWorked       1 16.66251165 968       1235.567   4.465480e-05\n",
       "TotalWorkingYears        1 15.95236760 967       1219.614   6.495648e-05\n",
       "TrainingTimesLastYear    1  6.80919055 966       1212.805   9.068987e-03\n",
       "YearsAtCompany           1  0.09890444 965       1212.706   7.531483e-01\n",
       "YearsWithCurrManager     1 25.56355407 964       1187.143   4.280486e-07\n",
       "EnvironmentSatisfaction  4 18.51997993 960       1168.623   9.763025e-04\n",
       "JobSatisfaction          1 16.69471055 959       1151.928   4.390324e-05"
      ]
     },
     "metadata": {},
     "output_type": "display_data"
    }
   ],
   "source": [
    "#Run ANOVA test for step_model1 to confirm\n",
    "\n",
    "anova(step_model1,test=\"Chisq\")\n",
    "#there is significance but we could try one additional model using Age, BusinessTravel, MaritalStatus,NumCOmpaniesWorkedfor,TotalWorkingyears, YearswithcurrentManager, and Jobsatisfaction"
   ]
  },
  {
   "cell_type": "code",
   "execution_count": 18,
   "id": "5c37c3c5",
   "metadata": {
    "execution": {
     "iopub.execute_input": "2023-08-21T23:03:34.932305Z",
     "iopub.status.busy": "2023-08-21T23:03:34.930557Z",
     "iopub.status.idle": "2023-08-21T23:03:35.269094Z",
     "shell.execute_reply": "2023-08-21T23:03:35.266591Z"
    },
    "papermill": {
     "duration": 0.372674,
     "end_time": "2023-08-21T23:03:35.272400",
     "exception": false,
     "start_time": "2023-08-21T23:03:34.899726",
     "status": "completed"
    },
    "tags": []
   },
   "outputs": [
    {
     "data": {
      "text/plain": [
       "\n",
       "Call:\n",
       "glm(formula = Attrition ~ JobSatisfaction + TotalWorkingYears + \n",
       "    YearsAtCompany, family = \"binomial\", data = train_under)\n",
       "\n",
       "Deviance Residuals: \n",
       "    Min       1Q   Median       3Q      Max  \n",
       "-1.5796  -1.1447   0.8228   1.0732   2.2541  \n",
       "\n",
       "Coefficients:\n",
       "                  Estimate Std. Error z value Pr(>|z|)    \n",
       "(Intercept)        1.19614    0.19638   6.091 1.12e-09 ***\n",
       "JobSatisfaction   -0.21740    0.05909  -3.679 0.000234 ***\n",
       "TotalWorkingYears -0.05093    0.01300  -3.919 8.88e-05 ***\n",
       "YearsAtCompany    -0.01869    0.01602  -1.167 0.243140    \n",
       "---\n",
       "Signif. codes:  0 ‘***’ 0.001 ‘**’ 0.01 ‘*’ 0.05 ‘.’ 0.1 ‘ ’ 1\n",
       "\n",
       "(Dispersion parameter for binomial family taken to be 1)\n",
       "\n",
       "    Null deviance: 1364.0  on 983  degrees of freedom\n",
       "Residual deviance: 1305.9  on 980  degrees of freedom\n",
       "AIC: 1313.9\n",
       "\n",
       "Number of Fisher Scoring iterations: 4\n"
      ]
     },
     "metadata": {},
     "output_type": "display_data"
    },
    {
     "data": {
      "text/plain": [
       "\n",
       "Call:\n",
       "glm(formula = Attrition ~ JobSatisfaction + TotalWorkingYears, \n",
       "    family = \"binomial\", data = train_under)\n",
       "\n",
       "Deviance Residuals: \n",
       "    Min       1Q   Median       3Q      Max  \n",
       "-1.5796  -1.1421   0.8229   1.0847   2.1220  \n",
       "\n",
       "Coefficients:\n",
       "                   Estimate Std. Error z value Pr(>|z|)    \n",
       "(Intercept)        1.191174   0.196135   6.073 1.25e-09 ***\n",
       "JobSatisfaction   -0.221059   0.059006  -3.746 0.000179 ***\n",
       "TotalWorkingYears -0.061177   0.009755  -6.271 3.58e-10 ***\n",
       "---\n",
       "Signif. codes:  0 ‘***’ 0.001 ‘**’ 0.01 ‘*’ 0.05 ‘.’ 0.1 ‘ ’ 1\n",
       "\n",
       "(Dispersion parameter for binomial family taken to be 1)\n",
       "\n",
       "    Null deviance: 1364.0  on 983  degrees of freedom\n",
       "Residual deviance: 1307.3  on 981  degrees of freedom\n",
       "AIC: 1313.3\n",
       "\n",
       "Number of Fisher Scoring iterations: 4\n"
      ]
     },
     "metadata": {},
     "output_type": "display_data"
    },
    {
     "data": {
      "text/html": [
       "<table class=\"dataframe\">\n",
       "<caption>A anova: 3 × 5</caption>\n",
       "<thead>\n",
       "\t<tr><th></th><th scope=col>Df</th><th scope=col>Deviance</th><th scope=col>Resid. Df</th><th scope=col>Resid. Dev</th><th scope=col>Pr(&gt;Chi)</th></tr>\n",
       "\t<tr><th></th><th scope=col>&lt;int&gt;</th><th scope=col>&lt;dbl&gt;</th><th scope=col>&lt;int&gt;</th><th scope=col>&lt;dbl&gt;</th><th scope=col>&lt;dbl&gt;</th></tr>\n",
       "</thead>\n",
       "<tbody>\n",
       "\t<tr><th scope=row>NULL</th><td>NA</td><td>      NA</td><td>983</td><td>1364.049</td><td>          NA</td></tr>\n",
       "\t<tr><th scope=row>JobSatisfaction</th><td> 1</td><td>13.08485</td><td>982</td><td>1350.964</td><td>2.976944e-04</td></tr>\n",
       "\t<tr><th scope=row>TotalWorkingYears</th><td> 1</td><td>43.68900</td><td>981</td><td>1307.275</td><td>3.849286e-11</td></tr>\n",
       "</tbody>\n",
       "</table>\n"
      ],
      "text/latex": [
       "A anova: 3 × 5\n",
       "\\begin{tabular}{r|lllll}\n",
       "  & Df & Deviance & Resid. Df & Resid. Dev & Pr(>Chi)\\\\\n",
       "  & <int> & <dbl> & <int> & <dbl> & <dbl>\\\\\n",
       "\\hline\n",
       "\tNULL & NA &       NA & 983 & 1364.049 &           NA\\\\\n",
       "\tJobSatisfaction &  1 & 13.08485 & 982 & 1350.964 & 2.976944e-04\\\\\n",
       "\tTotalWorkingYears &  1 & 43.68900 & 981 & 1307.275 & 3.849286e-11\\\\\n",
       "\\end{tabular}\n"
      ],
      "text/markdown": [
       "\n",
       "A anova: 3 × 5\n",
       "\n",
       "| <!--/--> | Df &lt;int&gt; | Deviance &lt;dbl&gt; | Resid. Df &lt;int&gt; | Resid. Dev &lt;dbl&gt; | Pr(&gt;Chi) &lt;dbl&gt; |\n",
       "|---|---|---|---|---|---|\n",
       "| NULL | NA |       NA | 983 | 1364.049 |           NA |\n",
       "| JobSatisfaction |  1 | 13.08485 | 982 | 1350.964 | 2.976944e-04 |\n",
       "| TotalWorkingYears |  1 | 43.68900 | 981 | 1307.275 | 3.849286e-11 |\n",
       "\n"
      ],
      "text/plain": [
       "                  Df Deviance Resid. Df Resid. Dev Pr(>Chi)    \n",
       "NULL              NA       NA 983       1364.049             NA\n",
       "JobSatisfaction    1 13.08485 982       1350.964   2.976944e-04\n",
       "TotalWorkingYears  1 43.68900 981       1307.275   3.849286e-11"
      ]
     },
     "metadata": {},
     "output_type": "display_data"
    }
   ],
   "source": [
    "#Knowing our models odds, run a second version with management's assumptions for prediction. \n",
    "#Run a stepwise to clean up for potential. \n",
    "\n",
    "model_Mgmt = glm(Attrition ~ JobSatisfaction + TotalWorkingYears + YearsAtCompany, family = \"binomial\", data = train_under)\n",
    "summary(model_Mgmt)\n",
    "#residuals are only slightly below null and AIC 1314\n",
    "##we find that years at company is not significant but total working years and job satisfaction are. YearsAtCompany had a p-value of 0.24\n",
    "\n",
    "model_Mgmt2 = glm(Attrition ~ JobSatisfaction + TotalWorkingYears, family = \"binomial\", data = train_under)\n",
    "summary(model_Mgmt2)\n",
    "#residuals are very close to null and AIC increased to 1313.4\n",
    "\n",
    "anova(model_Mgmt2,test=\"Chisq\") #significant"
   ]
  },
  {
   "cell_type": "code",
   "execution_count": 19,
   "id": "a6221c92",
   "metadata": {
    "execution": {
     "iopub.execute_input": "2023-08-21T23:03:35.313971Z",
     "iopub.status.busy": "2023-08-21T23:03:35.312345Z",
     "iopub.status.idle": "2023-08-21T23:03:35.577512Z",
     "shell.execute_reply": "2023-08-21T23:03:35.575700Z"
    },
    "papermill": {
     "duration": 0.288709,
     "end_time": "2023-08-21T23:03:35.580038",
     "exception": false,
     "start_time": "2023-08-21T23:03:35.291329",
     "status": "completed"
    },
    "tags": []
   },
   "outputs": [
    {
     "data": {
      "text/plain": [
       "\n",
       "Call:\n",
       "glm(formula = Attrition ~ Gender + Education + Age + MaritalStatus + \n",
       "    Income, family = \"binomial\", data = train_under)\n",
       "\n",
       "Deviance Residuals: \n",
       "   Min      1Q  Median      3Q     Max  \n",
       "-1.654  -1.096   0.670   1.109   1.781  \n",
       "\n",
       "Coefficients:\n",
       "                       Estimate Std. Error z value Pr(>|z|)    \n",
       "(Intercept)           8.121e-01  3.849e-01   2.110   0.0349 *  \n",
       "GenderMale           -1.542e-02  1.357e-01  -0.114   0.9095    \n",
       "Education2            4.733e-01  2.433e-01   1.945   0.0518 .  \n",
       "Education3            8.325e-02  2.150e-01   0.387   0.6986    \n",
       "Education4            1.199e-01  2.283e-01   0.525   0.5993    \n",
       "Education5           -4.946e-01  4.407e-01  -1.122   0.2617    \n",
       "Age                  -3.430e-02  7.440e-03  -4.610 4.03e-06 ***\n",
       "MaritalStatusMarried  2.976e-01  1.871e-01   1.590   0.1118    \n",
       "MaritalStatusSingle   9.223e-01  1.902e-01   4.848 1.25e-06 ***\n",
       "Income               -3.015e-06  1.415e-06  -2.131   0.0331 *  \n",
       "---\n",
       "Signif. codes:  0 ‘***’ 0.001 ‘**’ 0.01 ‘*’ 0.05 ‘.’ 0.1 ‘ ’ 1\n",
       "\n",
       "(Dispersion parameter for binomial family taken to be 1)\n",
       "\n",
       "    Null deviance: 1364.0  on 983  degrees of freedom\n",
       "Residual deviance: 1289.7  on 974  degrees of freedom\n",
       "AIC: 1309.7\n",
       "\n",
       "Number of Fisher Scoring iterations: 4\n"
      ]
     },
     "metadata": {},
     "output_type": "display_data"
    },
    {
     "name": "stdout",
     "output_type": "stream",
     "text": [
      "Start:  AIC=1309.65\n",
      "Attrition ~ Gender + Education + Age + MaritalStatus + Income\n",
      "\n",
      "                Df Deviance    AIC\n",
      "- Gender         1   1289.7 1307.7\n",
      "<none>               1289.7 1309.7\n",
      "- Education      4   1297.8 1309.8\n",
      "- Income         1   1294.2 1312.2\n",
      "- Age            1   1311.5 1329.5\n",
      "- MaritalStatus  2   1319.6 1335.6\n",
      "\n",
      "Step:  AIC=1307.66\n",
      "Attrition ~ Education + Age + MaritalStatus + Income\n",
      "\n",
      "                Df Deviance    AIC\n",
      "<none>               1289.7 1307.7\n",
      "- Education      4   1297.9 1307.9\n",
      "+ Gender         1   1289.7 1309.7\n",
      "- Income         1   1294.2 1310.2\n",
      "- Age            1   1311.5 1327.5\n",
      "- MaritalStatus  2   1319.6 1333.6\n"
     ]
    },
    {
     "data": {
      "text/plain": [
       "Attrition ~ Education + Age + MaritalStatus + Income"
      ]
     },
     "metadata": {},
     "output_type": "display_data"
    },
    {
     "data": {
      "text/plain": [
       "\n",
       "Call:\n",
       "glm(formula = Attrition ~ Education + Age + MaritalStatus + Income, \n",
       "    family = \"binomial\", data = train_under)\n",
       "\n",
       "Deviance Residuals: \n",
       "    Min       1Q   Median       3Q      Max  \n",
       "-1.6570  -1.0937   0.6683   1.1066   1.7785  \n",
       "\n",
       "Coefficients:\n",
       "                       Estimate Std. Error z value Pr(>|z|)    \n",
       "(Intercept)           8.016e-01  3.736e-01   2.145   0.0319 *  \n",
       "Education2            4.735e-01  2.433e-01   1.946   0.0516 .  \n",
       "Education3            8.252e-02  2.149e-01   0.384   0.7010    \n",
       "Education4            1.207e-01  2.282e-01   0.529   0.5967    \n",
       "Education5           -4.951e-01  4.407e-01  -1.123   0.2613    \n",
       "Age                  -3.426e-02  7.433e-03  -4.610 4.03e-06 ***\n",
       "MaritalStatusMarried  2.977e-01  1.871e-01   1.591   0.1116    \n",
       "MaritalStatusSingle   9.223e-01  1.902e-01   4.848 1.25e-06 ***\n",
       "Income               -3.014e-06  1.415e-06  -2.130   0.0332 *  \n",
       "---\n",
       "Signif. codes:  0 ‘***’ 0.001 ‘**’ 0.01 ‘*’ 0.05 ‘.’ 0.1 ‘ ’ 1\n",
       "\n",
       "(Dispersion parameter for binomial family taken to be 1)\n",
       "\n",
       "    Null deviance: 1364.0  on 983  degrees of freedom\n",
       "Residual deviance: 1289.7  on 975  degrees of freedom\n",
       "AIC: 1307.7\n",
       "\n",
       "Number of Fisher Scoring iterations: 4\n"
      ]
     },
     "metadata": {},
     "output_type": "display_data"
    },
    {
     "data": {
      "text/html": [
       "<table class=\"dataframe\">\n",
       "<caption>A anova: 5 × 5</caption>\n",
       "<thead>\n",
       "\t<tr><th></th><th scope=col>Df</th><th scope=col>Deviance</th><th scope=col>Resid. Df</th><th scope=col>Resid. Dev</th><th scope=col>Pr(&gt;Chi)</th></tr>\n",
       "\t<tr><th></th><th scope=col>&lt;int&gt;</th><th scope=col>&lt;dbl&gt;</th><th scope=col>&lt;int&gt;</th><th scope=col>&lt;dbl&gt;</th><th scope=col>&lt;dbl&gt;</th></tr>\n",
       "</thead>\n",
       "<tbody>\n",
       "\t<tr><th scope=row>NULL</th><td>NA</td><td>       NA</td><td>983</td><td>1364.049</td><td>          NA</td></tr>\n",
       "\t<tr><th scope=row>Education</th><td> 4</td><td> 7.829851</td><td>979</td><td>1356.219</td><td>9.801362e-02</td></tr>\n",
       "\t<tr><th scope=row>Age</th><td> 1</td><td>30.373332</td><td>978</td><td>1325.845</td><td>3.563942e-08</td></tr>\n",
       "\t<tr><th scope=row>MaritalStatus</th><td> 2</td><td>31.595520</td><td>976</td><td>1294.250</td><td>1.377590e-07</td></tr>\n",
       "\t<tr><th scope=row>Income</th><td> 1</td><td> 4.586927</td><td>975</td><td>1289.663</td><td>3.221673e-02</td></tr>\n",
       "</tbody>\n",
       "</table>\n"
      ],
      "text/latex": [
       "A anova: 5 × 5\n",
       "\\begin{tabular}{r|lllll}\n",
       "  & Df & Deviance & Resid. Df & Resid. Dev & Pr(>Chi)\\\\\n",
       "  & <int> & <dbl> & <int> & <dbl> & <dbl>\\\\\n",
       "\\hline\n",
       "\tNULL & NA &        NA & 983 & 1364.049 &           NA\\\\\n",
       "\tEducation &  4 &  7.829851 & 979 & 1356.219 & 9.801362e-02\\\\\n",
       "\tAge &  1 & 30.373332 & 978 & 1325.845 & 3.563942e-08\\\\\n",
       "\tMaritalStatus &  2 & 31.595520 & 976 & 1294.250 & 1.377590e-07\\\\\n",
       "\tIncome &  1 &  4.586927 & 975 & 1289.663 & 3.221673e-02\\\\\n",
       "\\end{tabular}\n"
      ],
      "text/markdown": [
       "\n",
       "A anova: 5 × 5\n",
       "\n",
       "| <!--/--> | Df &lt;int&gt; | Deviance &lt;dbl&gt; | Resid. Df &lt;int&gt; | Resid. Dev &lt;dbl&gt; | Pr(&gt;Chi) &lt;dbl&gt; |\n",
       "|---|---|---|---|---|---|\n",
       "| NULL | NA |        NA | 983 | 1364.049 |           NA |\n",
       "| Education |  4 |  7.829851 | 979 | 1356.219 | 9.801362e-02 |\n",
       "| Age |  1 | 30.373332 | 978 | 1325.845 | 3.563942e-08 |\n",
       "| MaritalStatus |  2 | 31.595520 | 976 | 1294.250 | 1.377590e-07 |\n",
       "| Income |  1 |  4.586927 | 975 | 1289.663 | 3.221673e-02 |\n",
       "\n"
      ],
      "text/plain": [
       "              Df Deviance  Resid. Df Resid. Dev Pr(>Chi)    \n",
       "NULL          NA        NA 983       1364.049             NA\n",
       "Education      4  7.829851 979       1356.219   9.801362e-02\n",
       "Age            1 30.373332 978       1325.845   3.563942e-08\n",
       "MaritalStatus  2 31.595520 976       1294.250   1.377590e-07\n",
       "Income         1  4.586927 975       1289.663   3.221673e-02"
      ]
     },
     "metadata": {},
     "output_type": "display_data"
    }
   ],
   "source": [
    "#Next, run the marketing model to see what we learn. See if stepwise can improve the model\n",
    "\n",
    "model_Mktg = glm(Attrition~Gender+Education+Age+MaritalStatus+Income, family = \"binomial\", data = train_under)\n",
    "summary(model_Mktg)\n",
    "\n",
    "#Age and Marital Status seem most important, potentially with income \n",
    "#Residuals only slightly below the null and AIC of 1310\n",
    "\n",
    "step_Mktg2 = step(model_Mktg, direction = \"both\")\n",
    "formula(step_Mktg2) \n",
    "\n",
    "#Model recommends keeping Age and Marital Status only \n",
    "\n",
    "summary(step_Mktg2)\n",
    "#Only marginal improvement using stepwise function \n",
    "\n",
    "anova(step_Mktg2,test = \"Chisq\") #our deviance is significant since Age and Marital status are significant"
   ]
  },
  {
   "cell_type": "code",
   "execution_count": 20,
   "id": "0e660523",
   "metadata": {
    "execution": {
     "iopub.execute_input": "2023-08-21T23:03:35.622761Z",
     "iopub.status.busy": "2023-08-21T23:03:35.620985Z",
     "iopub.status.idle": "2023-08-21T23:03:35.790814Z",
     "shell.execute_reply": "2023-08-21T23:03:35.788928Z"
    },
    "papermill": {
     "duration": 0.193666,
     "end_time": "2023-08-21T23:03:35.793177",
     "exception": false,
     "start_time": "2023-08-21T23:03:35.599511",
     "status": "completed"
    },
    "tags": []
   },
   "outputs": [
    {
     "data": {
      "text/html": [
       "<style>\n",
       ".dl-inline {width: auto; margin:0; padding: 0}\n",
       ".dl-inline>dt, .dl-inline>dd {float: none; width: auto; display: inline-block}\n",
       ".dl-inline>dt::after {content: \":\\0020\"; padding-right: .5ex}\n",
       ".dl-inline>dt:not(:first-of-type) {padding-left: .5ex}\n",
       "</style><dl class=dl-inline><dt>1</dt><dd>0.405235754419763</dd><dt>2</dt><dd>0.6113366023506</dd><dt>3</dt><dd>0.571305515049071</dd><dt>4</dt><dd>0.280768760911214</dd><dt>5</dt><dd>0.267053840270088</dd><dt>6</dt><dd>0.778117241541623</dd></dl>\n"
      ],
      "text/latex": [
       "\\begin{description*}\n",
       "\\item[1] 0.405235754419763\n",
       "\\item[2] 0.6113366023506\n",
       "\\item[3] 0.571305515049071\n",
       "\\item[4] 0.280768760911214\n",
       "\\item[5] 0.267053840270088\n",
       "\\item[6] 0.778117241541623\n",
       "\\end{description*}\n"
      ],
      "text/markdown": [
       "1\n",
       ":   0.4052357544197632\n",
       ":   0.61133660235063\n",
       ":   0.5713055150490714\n",
       ":   0.2807687609112145\n",
       ":   0.2670538402700886\n",
       ":   0.778117241541623\n",
       "\n"
      ],
      "text/plain": [
       "        1         2         3         4         5         6 \n",
       "0.4052358 0.6113366 0.5713055 0.2807688 0.2670538 0.7781172 "
      ]
     },
     "metadata": {},
     "output_type": "display_data"
    },
    {
     "data": {
      "text/plain": [
       "   Min. 1st Qu.  Median    Mean 3rd Qu.    Max. \n",
       "0.04371 0.31008 0.49817 0.50026 0.68123 0.96624 "
      ]
     },
     "metadata": {},
     "output_type": "display_data"
    },
    {
     "data": {
      "text/html": [
       "<style>\n",
       ".list-inline {list-style: none; margin:0; padding: 0}\n",
       ".list-inline>li {display: inline-block}\n",
       ".list-inline>li:not(:last-child)::after {content: \"\\00b7\"; padding: 0 .5ex}\n",
       "</style>\n",
       "<ol class=list-inline><li>0</li><li>1</li><li>1</li><li>0</li><li>0</li><li>1</li></ol>\n"
      ],
      "text/latex": [
       "\\begin{enumerate*}\n",
       "\\item 0\n",
       "\\item 1\n",
       "\\item 1\n",
       "\\item 0\n",
       "\\item 0\n",
       "\\item 1\n",
       "\\end{enumerate*}\n"
      ],
      "text/markdown": [
       "1. 0\n",
       "2. 1\n",
       "3. 1\n",
       "4. 0\n",
       "5. 0\n",
       "6. 1\n",
       "\n",
       "\n"
      ],
      "text/plain": [
       "[1] 0 1 1 0 0 1"
      ]
     },
     "metadata": {},
     "output_type": "display_data"
    },
    {
     "data": {
      "text/plain": [
       "\n",
       "  0   1 \n",
       "210 207 "
      ]
     },
     "metadata": {},
     "output_type": "display_data"
    },
    {
     "data": {
      "text/plain": [
       "Confusion Matrix and Statistics\n",
       "\n",
       "          Reference\n",
       "Prediction   0   1\n",
       "         0 131  79\n",
       "         1  71 136\n",
       "                                          \n",
       "               Accuracy : 0.6403          \n",
       "                 95% CI : (0.5922, 0.6864)\n",
       "    No Information Rate : 0.5156          \n",
       "    P-Value [Acc > NIR] : 1.842e-07       \n",
       "                                          \n",
       "                  Kappa : 0.2807          \n",
       "                                          \n",
       " Mcnemar's Test P-Value : 0.5676          \n",
       "                                          \n",
       "            Sensitivity : 0.6326          \n",
       "            Specificity : 0.6485          \n",
       "         Pos Pred Value : 0.6570          \n",
       "         Neg Pred Value : 0.6238          \n",
       "             Prevalence : 0.5156          \n",
       "         Detection Rate : 0.3261          \n",
       "   Detection Prevalence : 0.4964          \n",
       "      Balanced Accuracy : 0.6405          \n",
       "                                          \n",
       "       'Positive' Class : 1               \n",
       "                                          "
      ]
     },
     "metadata": {},
     "output_type": "display_data"
    },
    {
     "data": {
      "text/html": [
       "417"
      ],
      "text/latex": [
       "417"
      ],
      "text/markdown": [
       "417"
      ],
      "text/plain": [
       "[1] 417"
      ]
     },
     "metadata": {},
     "output_type": "display_data"
    },
    {
     "data": {
      "text/html": [
       "417"
      ],
      "text/latex": [
       "417"
      ],
      "text/markdown": [
       "417"
      ],
      "text/plain": [
       "[1] 417"
      ]
     },
     "metadata": {},
     "output_type": "display_data"
    },
    {
     "data": {
      "text/html": [
       "417"
      ],
      "text/latex": [
       "417"
      ],
      "text/markdown": [
       "417"
      ],
      "text/plain": [
       "[1] 417"
      ]
     },
     "metadata": {},
     "output_type": "display_data"
    }
   ],
   "source": [
    "#Now we proceed to predict with the test set in our base model and build confusion matrix\n",
    "\n",
    "#adding predictions to test data and then going to check for accuracy with confusion matrix\n",
    "Attrition_Predict = predict(object = step_model1, newdata = test_under, type = \"response\")\n",
    "head(Attrition_Predict)\n",
    "summary(Attrition_Predict)\n",
    "\n",
    "test_under$predicted = ifelse(Attrition_Predict>=0.5,1,0)\n",
    "head(test_under$predicted) \n",
    "\n",
    "levels(test_under$Attrition) <- c(0,1) #add levels to work confusion matrix\n",
    "\n",
    "##CONFUSION MATRIX\n",
    "table(test_under$predicted)\n",
    "confusionMatrix(data=as.factor(test_under$predicted),\n",
    "                reference = as.factor(test_under$Attrition),\n",
    "                positive = \"1\")\n",
    "#Model accuracy is 63.79%, kappa is 0.2754, sensitivity is 0.6419 and specificity 0.6337\n",
    "\n",
    "length(Attrition_Predict)\n",
    "length(test_under$Attrition)  # same length\n",
    "\n",
    "length(test_under$predicted) #same length"
   ]
  },
  {
   "cell_type": "code",
   "execution_count": 21,
   "id": "b8dcaa80",
   "metadata": {
    "execution": {
     "iopub.execute_input": "2023-08-21T23:03:35.839262Z",
     "iopub.status.busy": "2023-08-21T23:03:35.837691Z",
     "iopub.status.idle": "2023-08-21T23:03:35.931151Z",
     "shell.execute_reply": "2023-08-21T23:03:35.929424Z"
    },
    "papermill": {
     "duration": 0.118954,
     "end_time": "2023-08-21T23:03:35.933552",
     "exception": false,
     "start_time": "2023-08-21T23:03:35.814598",
     "status": "completed"
    },
    "tags": []
   },
   "outputs": [
    {
     "data": {
      "text/html": [
       "<style>\n",
       ".dl-inline {width: auto; margin:0; padding: 0}\n",
       ".dl-inline>dt, .dl-inline>dd {float: none; width: auto; display: inline-block}\n",
       ".dl-inline>dt::after {content: \":\\0020\"; padding-right: .5ex}\n",
       ".dl-inline>dt:not(:first-of-type) {padding-left: .5ex}\n",
       "</style><dl class=dl-inline><dt>1</dt><dd>0.494350063337362</dd><dt>2</dt><dd>0.515551856592415</dd><dt>3</dt><dd>0.394796960412815</dd><dt>4</dt><dd>0.332798907196867</dd><dt>5</dt><dd>0.617912030185334</dd><dt>6</dt><dd>0.57035182361115</dd></dl>\n"
      ],
      "text/latex": [
       "\\begin{description*}\n",
       "\\item[1] 0.494350063337362\n",
       "\\item[2] 0.515551856592415\n",
       "\\item[3] 0.394796960412815\n",
       "\\item[4] 0.332798907196867\n",
       "\\item[5] 0.617912030185334\n",
       "\\item[6] 0.57035182361115\n",
       "\\end{description*}\n"
      ],
      "text/markdown": [
       "1\n",
       ":   0.4943500633373622\n",
       ":   0.5155518565924153\n",
       ":   0.3947969604128154\n",
       ":   0.3327989071968675\n",
       ":   0.6179120301853346\n",
       ":   0.57035182361115\n",
       "\n"
      ],
      "text/plain": [
       "        1         2         3         4         5         6 \n",
       "0.4943501 0.5155519 0.3947970 0.3327989 0.6179120 0.5703518 "
      ]
     },
     "metadata": {},
     "output_type": "display_data"
    },
    {
     "data": {
      "text/plain": [
       "   Min. 1st Qu.  Median    Mean 3rd Qu.    Max. \n",
       " 0.1238  0.4244  0.5249  0.5000  0.5886  0.7128 "
      ]
     },
     "metadata": {},
     "output_type": "display_data"
    },
    {
     "data": {
      "text/html": [
       "<style>\n",
       ".list-inline {list-style: none; margin:0; padding: 0}\n",
       ".list-inline>li {display: inline-block}\n",
       ".list-inline>li:not(:last-child)::after {content: \"\\00b7\"; padding: 0 .5ex}\n",
       "</style>\n",
       "<ol class=list-inline><li>0</li><li>1</li><li>0</li><li>0</li><li>1</li><li>1</li></ol>\n"
      ],
      "text/latex": [
       "\\begin{enumerate*}\n",
       "\\item 0\n",
       "\\item 1\n",
       "\\item 0\n",
       "\\item 0\n",
       "\\item 1\n",
       "\\item 1\n",
       "\\end{enumerate*}\n"
      ],
      "text/markdown": [
       "1. 0\n",
       "2. 1\n",
       "3. 0\n",
       "4. 0\n",
       "5. 1\n",
       "6. 1\n",
       "\n",
       "\n"
      ],
      "text/plain": [
       "[1] 0 1 0 0 1 1"
      ]
     },
     "metadata": {},
     "output_type": "display_data"
    },
    {
     "data": {
      "text/plain": [
       "\n",
       "  0   1 \n",
       "175 242 "
      ]
     },
     "metadata": {},
     "output_type": "display_data"
    },
    {
     "data": {
      "text/plain": [
       "Confusion Matrix and Statistics\n",
       "\n",
       "          Reference\n",
       "Prediction   0   1\n",
       "         0 115  60\n",
       "         1  87 155\n",
       "                                          \n",
       "               Accuracy : 0.6475          \n",
       "                 95% CI : (0.5995, 0.6933)\n",
       "    No Information Rate : 0.5156          \n",
       "    P-Value [Acc > NIR] : 3.62e-08        \n",
       "                                          \n",
       "                  Kappa : 0.2914          \n",
       "                                          \n",
       " Mcnemar's Test P-Value : 0.032           \n",
       "                                          \n",
       "            Sensitivity : 0.7209          \n",
       "            Specificity : 0.5693          \n",
       "         Pos Pred Value : 0.6405          \n",
       "         Neg Pred Value : 0.6571          \n",
       "             Prevalence : 0.5156          \n",
       "         Detection Rate : 0.3717          \n",
       "   Detection Prevalence : 0.5803          \n",
       "      Balanced Accuracy : 0.6451          \n",
       "                                          \n",
       "       'Positive' Class : 1               \n",
       "                                          "
      ]
     },
     "metadata": {},
     "output_type": "display_data"
    },
    {
     "data": {
      "text/html": [
       "<style>\n",
       ".dl-inline {width: auto; margin:0; padding: 0}\n",
       ".dl-inline>dt, .dl-inline>dd {float: none; width: auto; display: inline-block}\n",
       ".dl-inline>dt::after {content: \":\\0020\"; padding-right: .5ex}\n",
       ".dl-inline>dt:not(:first-of-type) {padding-left: .5ex}\n",
       "</style><dl class=dl-inline><dt>1</dt><dd>0.405761201368835</dd><dt>2</dt><dd>0.607422563231861</dd><dt>3</dt><dd>0.680352916976281</dd><dt>4</dt><dd>0.341290761044359</dd><dt>5</dt><dd>0.348645670399669</dd><dt>6</dt><dd>0.651878082800815</dd></dl>\n"
      ],
      "text/latex": [
       "\\begin{description*}\n",
       "\\item[1] 0.405761201368835\n",
       "\\item[2] 0.607422563231861\n",
       "\\item[3] 0.680352916976281\n",
       "\\item[4] 0.341290761044359\n",
       "\\item[5] 0.348645670399669\n",
       "\\item[6] 0.651878082800815\n",
       "\\end{description*}\n"
      ],
      "text/markdown": [
       "1\n",
       ":   0.4057612013688352\n",
       ":   0.6074225632318613\n",
       ":   0.6803529169762814\n",
       ":   0.3412907610443595\n",
       ":   0.3486456703996696\n",
       ":   0.651878082800815\n",
       "\n"
      ],
      "text/plain": [
       "        1         2         3         4         5         6 \n",
       "0.4057612 0.6074226 0.6803529 0.3412908 0.3486457 0.6518781 "
      ]
     },
     "metadata": {},
     "output_type": "display_data"
    },
    {
     "data": {
      "text/plain": [
       "   Min. 1st Qu.  Median    Mean 3rd Qu.    Max. \n",
       " 0.2245  0.3994  0.5196  0.5140  0.6287  0.8054 "
      ]
     },
     "metadata": {},
     "output_type": "display_data"
    },
    {
     "data": {
      "text/html": [
       "<style>\n",
       ".list-inline {list-style: none; margin:0; padding: 0}\n",
       ".list-inline>li {display: inline-block}\n",
       ".list-inline>li:not(:last-child)::after {content: \"\\00b7\"; padding: 0 .5ex}\n",
       "</style>\n",
       "<ol class=list-inline><li>0</li><li>1</li><li>1</li><li>0</li><li>0</li><li>1</li></ol>\n"
      ],
      "text/latex": [
       "\\begin{enumerate*}\n",
       "\\item 0\n",
       "\\item 1\n",
       "\\item 1\n",
       "\\item 0\n",
       "\\item 0\n",
       "\\item 1\n",
       "\\end{enumerate*}\n"
      ],
      "text/markdown": [
       "1. 0\n",
       "2. 1\n",
       "3. 1\n",
       "4. 0\n",
       "5. 0\n",
       "6. 1\n",
       "\n",
       "\n"
      ],
      "text/plain": [
       "[1] 0 1 1 0 0 1"
      ]
     },
     "metadata": {},
     "output_type": "display_data"
    },
    {
     "data": {
      "text/plain": [
       "\n",
       "  0   1 \n",
       "192 225 "
      ]
     },
     "metadata": {},
     "output_type": "display_data"
    },
    {
     "data": {
      "text/plain": [
       "Confusion Matrix and Statistics\n",
       "\n",
       "          Reference\n",
       "Prediction   0   1\n",
       "         0 118  74\n",
       "         1  84 141\n",
       "                                          \n",
       "               Accuracy : 0.6211          \n",
       "                 95% CI : (0.5726, 0.6679)\n",
       "    No Information Rate : 0.5156          \n",
       "    P-Value [Acc > NIR] : 9.082e-06       \n",
       "                                          \n",
       "                  Kappa : 0.2403          \n",
       "                                          \n",
       " Mcnemar's Test P-Value : 0.474           \n",
       "                                          \n",
       "            Sensitivity : 0.6558          \n",
       "            Specificity : 0.5842          \n",
       "         Pos Pred Value : 0.6267          \n",
       "         Neg Pred Value : 0.6146          \n",
       "             Prevalence : 0.5156          \n",
       "         Detection Rate : 0.3381          \n",
       "   Detection Prevalence : 0.5396          \n",
       "      Balanced Accuracy : 0.6200          \n",
       "                                          \n",
       "       'Positive' Class : 1               \n",
       "                                          "
      ]
     },
     "metadata": {},
     "output_type": "display_data"
    }
   ],
   "source": [
    "#Next we run a confusion matrixes for the other two models to see if either are more optimal\n",
    "\n",
    "#start with Management model -> #model_mgmt2\n",
    "#adding predictions to test data and then going to check for accuracy with confusion matrix\n",
    "Attrition_Predict_Mgmt = predict(object = model_Mgmt2, newdata = test_under, type = \"response\")\n",
    "head(Attrition_Predict_Mgmt)\n",
    "summary(Attrition_Predict_Mgmt)\n",
    "\n",
    "test_under$predicted_MGMT = ifelse(Attrition_Predict_Mgmt>=0.5,1,0)\n",
    "head(test_under$predicted_MGMT) \n",
    "\n",
    "levels(test_under$Attrition) <- c(0,1) #add levels to work confusion matrix\n",
    "\n",
    "##CONFUSION MATRIX - Management Model\n",
    "table(test_under$predicted_MGMT)\n",
    "confusionMatrix(data=as.factor(test_under$predicted_MGMT),\n",
    "                reference = as.factor(test_under$Attrition),\n",
    "                positive = \"1\")\n",
    "#Model accuracy is 0.6475%, kappa is 0.29, sensitivity is 0.7209  and specificity 0.5693\n",
    "\n",
    "####################################################################RUN MARKETING#######################################\n",
    "#start with Management model -> #step_Mktg2\n",
    "#adding predictions to test data and then going to check for accuracy with confusion matrix\n",
    "Attrition_Predict_MKTG = predict(object = step_Mktg2, newdata = test_under, type = \"response\")\n",
    "head(Attrition_Predict_MKTG)\n",
    "summary(Attrition_Predict_MKTG)\n",
    "\n",
    "test_under$predicted_MKTG = ifelse(Attrition_Predict_MKTG>=0.5,1,0)\n",
    "head(test_under$predicted_MKTG) \n",
    "\n",
    "levels(test_under$Attrition) <- c(0,1) #add levels to work confusion matrix\n",
    "\n",
    "##CONFUSION MATRIX - Marketing Model\n",
    "table(test_under$predicted_MKTG)\n",
    "confusionMatrix(data=as.factor(test_under$predicted_MKTG),\n",
    "                reference = as.factor(test_under$Attrition),\n",
    "                positive = \"1\")\n",
    "#Model accuracy is 0.6211%, kappa is 0.2403, sensitivity is 0.6558  and specificity 0.5842"
   ]
  },
  {
   "cell_type": "code",
   "execution_count": 22,
   "id": "1c9e195f",
   "metadata": {
    "execution": {
     "iopub.execute_input": "2023-08-21T23:03:35.981713Z",
     "iopub.status.busy": "2023-08-21T23:03:35.980124Z",
     "iopub.status.idle": "2023-08-21T23:03:36.194171Z",
     "shell.execute_reply": "2023-08-21T23:03:36.190125Z"
    },
    "papermill": {
     "duration": 0.24337,
     "end_time": "2023-08-21T23:03:36.199245",
     "exception": false,
     "start_time": "2023-08-21T23:03:35.955875",
     "status": "completed"
    },
    "tags": []
   },
   "outputs": [
    {
     "name": "stdout",
     "output_type": "stream",
     "text": [
      "Start:  AIC=1201.93\n",
      "Attrition ~ Age + BusinessTravel + Education + JobLevel + MaritalStatus + \n",
      "    Income + NumCompaniesWorked + TotalWorkingYears + TrainingTimesLastYear + \n",
      "    YearsAtCompany + YearsWithCurrManager + EnvironmentSatisfaction + \n",
      "    JobSatisfaction\n",
      "\n",
      "                          Df Deviance    AIC\n",
      "<none>                         1151.9 1201.9\n",
      "- Income                   1   1154.0 1202.0\n",
      "- Education                4   1162.2 1204.2\n",
      "- Age                      1   1156.4 1204.4\n",
      "- JobLevel                 4   1165.5 1207.5\n",
      "- TrainingTimesLastYear    1   1160.6 1208.6\n",
      "- TotalWorkingYears        1   1163.1 1211.1\n",
      "- NumCompaniesWorked       1   1164.8 1212.8\n",
      "- EnvironmentSatisfaction  4   1170.8 1212.8\n",
      "- YearsAtCompany           1   1165.3 1213.3\n",
      "- JobSatisfaction          1   1168.6 1216.6\n",
      "- YearsWithCurrManager     1   1182.0 1230.0\n",
      "- BusinessTravel           2   1184.1 1230.1\n",
      "- MaritalStatus            2   1185.2 1231.2\n"
     ]
    },
    {
     "data": {
      "text/plain": [
       "Attrition ~ Age + BusinessTravel + Education + JobLevel + MaritalStatus + \n",
       "    Income + NumCompaniesWorked + TotalWorkingYears + TrainingTimesLastYear + \n",
       "    YearsAtCompany + YearsWithCurrManager + EnvironmentSatisfaction + \n",
       "    JobSatisfaction"
      ]
     },
     "metadata": {},
     "output_type": "display_data"
    }
   ],
   "source": [
    "#Run additional stepwise to try and optimize our model\n",
    "\n",
    "step_model2 = step(step_model1, direction = \"both\")\n",
    "formula(step_model2) \n",
    "#rerunning stepwise model had no impact"
   ]
  },
  {
   "cell_type": "code",
   "execution_count": 23,
   "id": "6a8621eb",
   "metadata": {
    "execution": {
     "iopub.execute_input": "2023-08-21T23:03:36.295158Z",
     "iopub.status.busy": "2023-08-21T23:03:36.293597Z",
     "iopub.status.idle": "2023-08-21T23:03:36.321004Z",
     "shell.execute_reply": "2023-08-21T23:03:36.319186Z"
    },
    "papermill": {
     "duration": 0.074262,
     "end_time": "2023-08-21T23:03:36.323459",
     "exception": false,
     "start_time": "2023-08-21T23:03:36.249197",
     "status": "completed"
    },
    "tags": []
   },
   "outputs": [
    {
     "data": {
      "text/plain": [
       "\n",
       "Call:\n",
       "glm(formula = Attrition ~ JobSatisfaction + TotalWorkingYears + \n",
       "    Age + MaritalStatus, family = \"binomial\", data = train_under)\n",
       "\n",
       "Deviance Residuals: \n",
       "   Min      1Q  Median      3Q     Max  \n",
       "-1.749  -1.096   0.685   1.084   2.107  \n",
       "\n",
       "Coefficients:\n",
       "                      Estimate Std. Error z value Pr(>|z|)    \n",
       "(Intercept)           0.812670   0.360990   2.251 0.024371 *  \n",
       "JobSatisfaction      -0.213241   0.060059  -3.551 0.000384 ***\n",
       "TotalWorkingYears    -0.048821   0.012644  -3.861 0.000113 ***\n",
       "Age                  -0.008098   0.009634  -0.841 0.400595    \n",
       "MaritalStatusMarried  0.358308   0.187716   1.909 0.056290 .  \n",
       "MaritalStatusSingle   0.945599   0.190943   4.952 7.34e-07 ***\n",
       "---\n",
       "Signif. codes:  0 ‘***’ 0.001 ‘**’ 0.01 ‘*’ 0.05 ‘.’ 0.1 ‘ ’ 1\n",
       "\n",
       "(Dispersion parameter for binomial family taken to be 1)\n",
       "\n",
       "    Null deviance: 1364.0  on 983  degrees of freedom\n",
       "Residual deviance: 1275.8  on 978  degrees of freedom\n",
       "AIC: 1287.8\n",
       "\n",
       "Number of Fisher Scoring iterations: 4\n"
      ]
     },
     "metadata": {},
     "output_type": "display_data"
    }
   ],
   "source": [
    "#Run combined marketing and mgmt model significant variables \n",
    "\n",
    "#Management Model recommends keeping Job Satisfaction and TotalWorkingYears Status only \n",
    "#Marketing Model recommends keeping Age and Marital Status only \n",
    "Model_COMBO = glm(Attrition ~ JobSatisfaction + TotalWorkingYears + Age + MaritalStatus, family = \"binomial\", data = train_under)\n",
    "summary(Model_COMBO)\n",
    "#AIC is 1287.9, residuals 100 below null so some predictability "
   ]
  },
  {
   "cell_type": "code",
   "execution_count": 24,
   "id": "aaef31fd",
   "metadata": {
    "execution": {
     "iopub.execute_input": "2023-08-21T23:03:36.373876Z",
     "iopub.status.busy": "2023-08-21T23:03:36.372287Z",
     "iopub.status.idle": "2023-08-21T23:03:36.822875Z",
     "shell.execute_reply": "2023-08-21T23:03:36.821028Z"
    },
    "papermill": {
     "duration": 0.479286,
     "end_time": "2023-08-21T23:03:36.826223",
     "exception": false,
     "start_time": "2023-08-21T23:03:36.346937",
     "status": "completed"
    },
    "tags": []
   },
   "outputs": [
    {
     "data": {
      "text/plain": [
       "Area under the curve (AUC): 0.641"
      ]
     },
     "metadata": {},
     "output_type": "display_data"
    },
    {
     "data": {
      "image/png": "[encoded data removed]"
     },
     "metadata": {
      "image/png": {
       "height": 420,
       "width": 420
      }
     },
     "output_type": "display_data"
    },
    {
     "data": {
      "text/html": [
       "0.741399953948883"
      ],
      "text/latex": [
       "0.741399953948883"
      ],
      "text/markdown": [
       "0.741399953948883"
      ],
      "text/plain": [
       "[1] 0.7414"
      ]
     },
     "metadata": {},
     "output_type": "display_data"
    },
    {
     "data": {
      "image/png": "[encoded data removed]"
     },
     "metadata": {
      "image/png": {
       "height": 420,
       "width": 420
      }
     },
     "output_type": "display_data"
    }
   ],
   "source": [
    "#Run ROC Curve \n",
    "\n",
    "#going to use my model prediction to run ROC\n",
    "roc.curve(test_under$Attrition,test_under$predicted)\n",
    "\n",
    "roc_pred = prediction(predictions = Attrition_Predict, labels = test_under$Attrition)\n",
    "roc_perf = performance(roc_pred, \"tpr\" , \"fpr\")\n",
    "plot(roc_perf,\n",
    "     colorize = TRUE,\n",
    "     print.cutoffs.at = seq(0,1,0.05),\n",
    "     text.adj=c(-0.2,1.7))\n",
    "\n",
    "as.numeric(performance(roc_pred,\"auc\")@y.values)\n",
    "#AUC is 0.7334 which means the mode has a 73.3% chance to distinguish between a 0 and a 1"
   ]
  },
  {
   "cell_type": "code",
   "execution_count": 25,
   "id": "57d572cd",
   "metadata": {
    "execution": {
     "iopub.execute_input": "2023-08-21T23:03:36.883891Z",
     "iopub.status.busy": "2023-08-21T23:03:36.882215Z",
     "iopub.status.idle": "2023-08-21T23:03:36.980096Z",
     "shell.execute_reply": "2023-08-21T23:03:36.975862Z"
    },
    "papermill": {
     "duration": 0.132399,
     "end_time": "2023-08-21T23:03:36.984731",
     "exception": false,
     "start_time": "2023-08-21T23:03:36.852332",
     "status": "completed"
    },
    "tags": []
   },
   "outputs": [
    {
     "data": {
      "text/html": [
       "<style>\n",
       ".dl-inline {width: auto; margin:0; padding: 0}\n",
       ".dl-inline>dt, .dl-inline>dd {float: none; width: auto; display: inline-block}\n",
       ".dl-inline>dt::after {content: \":\\0020\"; padding-right: .5ex}\n",
       ".dl-inline>dt:not(:first-of-type) {padding-left: .5ex}\n",
       "</style><dl class=dl-inline><dt>1</dt><dd>0.405235754419763</dd><dt>2</dt><dd>0.6113366023506</dd><dt>3</dt><dd>0.571305515049071</dd><dt>4</dt><dd>0.280768760911214</dd><dt>5</dt><dd>0.267053840270088</dd><dt>6</dt><dd>0.778117241541623</dd></dl>\n"
      ],
      "text/latex": [
       "\\begin{description*}\n",
       "\\item[1] 0.405235754419763\n",
       "\\item[2] 0.6113366023506\n",
       "\\item[3] 0.571305515049071\n",
       "\\item[4] 0.280768760911214\n",
       "\\item[5] 0.267053840270088\n",
       "\\item[6] 0.778117241541623\n",
       "\\end{description*}\n"
      ],
      "text/markdown": [
       "1\n",
       ":   0.4052357544197632\n",
       ":   0.61133660235063\n",
       ":   0.5713055150490714\n",
       ":   0.2807687609112145\n",
       ":   0.2670538402700886\n",
       ":   0.778117241541623\n",
       "\n"
      ],
      "text/plain": [
       "        1         2         3         4         5         6 \n",
       "0.4052358 0.6113366 0.5713055 0.2807688 0.2670538 0.7781172 "
      ]
     },
     "metadata": {},
     "output_type": "display_data"
    },
    {
     "data": {
      "text/plain": [
       "   Min. 1st Qu.  Median    Mean 3rd Qu.    Max. \n",
       "0.04371 0.31008 0.49817 0.50026 0.68123 0.96624 "
      ]
     },
     "metadata": {},
     "output_type": "display_data"
    },
    {
     "data": {
      "text/html": [
       "<style>\n",
       ".list-inline {list-style: none; margin:0; padding: 0}\n",
       ".list-inline>li {display: inline-block}\n",
       ".list-inline>li:not(:last-child)::after {content: \"\\00b7\"; padding: 0 .5ex}\n",
       "</style>\n",
       "<ol class=list-inline><li>0</li><li>1</li><li>1</li><li>0</li><li>0</li><li>1</li></ol>\n"
      ],
      "text/latex": [
       "\\begin{enumerate*}\n",
       "\\item 0\n",
       "\\item 1\n",
       "\\item 1\n",
       "\\item 0\n",
       "\\item 0\n",
       "\\item 1\n",
       "\\end{enumerate*}\n"
      ],
      "text/markdown": [
       "1. 0\n",
       "2. 1\n",
       "3. 1\n",
       "4. 0\n",
       "5. 0\n",
       "6. 1\n",
       "\n",
       "\n"
      ],
      "text/plain": [
       "[1] 0 1 1 0 0 1"
      ]
     },
     "metadata": {},
     "output_type": "display_data"
    },
    {
     "data": {
      "text/plain": [
       "\n",
       "  0   1 \n",
       "183 234 "
      ]
     },
     "metadata": {},
     "output_type": "display_data"
    },
    {
     "data": {
      "text/plain": [
       "Confusion Matrix and Statistics\n",
       "\n",
       "          Reference\n",
       "Prediction   0   1\n",
       "         0 122  61\n",
       "         1  80 154\n",
       "                                          \n",
       "               Accuracy : 0.6619          \n",
       "                 95% CI : (0.6142, 0.7072)\n",
       "    No Information Rate : 0.5156          \n",
       "    P-Value [Acc > NIR] : 1.06e-09        \n",
       "                                          \n",
       "                  Kappa : 0.3212          \n",
       "                                          \n",
       " Mcnemar's Test P-Value : 0.1296          \n",
       "                                          \n",
       "            Sensitivity : 0.7163          \n",
       "            Specificity : 0.6040          \n",
       "         Pos Pred Value : 0.6581          \n",
       "         Neg Pred Value : 0.6667          \n",
       "             Prevalence : 0.5156          \n",
       "         Detection Rate : 0.3693          \n",
       "   Detection Prevalence : 0.5612          \n",
       "      Balanced Accuracy : 0.6601          \n",
       "                                          \n",
       "       'Positive' Class : 1               \n",
       "                                          "
      ]
     },
     "metadata": {},
     "output_type": "display_data"
    }
   ],
   "source": [
    "#Adjust threshold to predictor to see if that makes any impact on either model AND CHI SQUARE\n",
    "\n",
    "Attrition_Predict2 = predict(object = step_model1, newdata = test_under, type = \"response\")\n",
    "head(Attrition_Predict2)\n",
    "summary(Attrition_Predict2)\n",
    "\n",
    "test_under$predicted2 = ifelse(Attrition_Predict2>=0.45,1,0)\n",
    "head(test_under$predicted2) \n",
    "\n",
    "levels(test_under$Attrition) <- c(0,1) #add levels to work confusion matrix\n",
    "\n",
    "##CONFUSION MATRIX\n",
    "table(test_under$predicted2)\n",
    "confusionMatrix(data=as.factor(test_under$predicted2),\n",
    "                reference = as.factor(test_under$Attrition),\n",
    "                positive = \"1\")\n",
    "#Model accuracy is 65.95%, kappa is 0.3131, sensitivity is 0.7860 and specificity 0.5248 ##MAY NOT BE GOOD"
   ]
  },
  {
   "cell_type": "code",
   "execution_count": 26,
   "id": "6c71604d",
   "metadata": {
    "execution": {
     "iopub.execute_input": "2023-08-21T23:03:37.065520Z",
     "iopub.status.busy": "2023-08-21T23:03:37.063612Z",
     "iopub.status.idle": "2023-08-21T23:03:37.449017Z",
     "shell.execute_reply": "2023-08-21T23:03:37.447205Z"
    },
    "papermill": {
     "duration": 0.418885,
     "end_time": "2023-08-21T23:03:37.452114",
     "exception": false,
     "start_time": "2023-08-21T23:03:37.033229",
     "status": "completed"
    },
    "tags": []
   },
   "outputs": [
    {
     "data": {
      "text/plain": [
       "\n",
       "Call:\n",
       "glm(formula = Attrition ~ BusinessTravel + MaritalStatus + NumCompaniesWorked + \n",
       "    TotalWorkingYears + YearsWithCurrManager + JobSatisfaction, \n",
       "    family = \"binomial\", data = train_under)\n",
       "\n",
       "Deviance Residuals: \n",
       "    Min       1Q   Median       3Q      Max  \n",
       "-1.9613  -1.0572   0.5241   0.9950   2.1888  \n",
       "\n",
       "Coefficients:\n",
       "                                Estimate Std. Error z value Pr(>|z|)    \n",
       "(Intercept)                     -0.51646    0.37047  -1.394 0.163294    \n",
       "BusinessTravelTravel_Frequently  1.57095    0.30933   5.078 3.80e-07 ***\n",
       "BusinessTravelTravel_Rarely      0.93380    0.28473   3.280 0.001040 ** \n",
       "MaritalStatusMarried             0.48075    0.19453   2.471 0.013460 *  \n",
       "MaritalStatusSingle              1.07549    0.19758   5.443 5.23e-08 ***\n",
       "NumCompaniesWorked               0.08117    0.02809   2.889 0.003863 ** \n",
       "TotalWorkingYears               -0.04264    0.01202  -3.546 0.000391 ***\n",
       "YearsWithCurrManager            -0.09239    0.02521  -3.665 0.000247 ***\n",
       "JobSatisfaction                 -0.22913    0.06196  -3.698 0.000218 ***\n",
       "---\n",
       "Signif. codes:  0 ‘***’ 0.001 ‘**’ 0.01 ‘*’ 0.05 ‘.’ 0.1 ‘ ’ 1\n",
       "\n",
       "(Dispersion parameter for binomial family taken to be 1)\n",
       "\n",
       "    Null deviance: 1364.0  on 983  degrees of freedom\n",
       "Residual deviance: 1218.1  on 975  degrees of freedom\n",
       "AIC: 1236.1\n",
       "\n",
       "Number of Fisher Scoring iterations: 4\n"
      ]
     },
     "metadata": {},
     "output_type": "display_data"
    },
    {
     "data": {
      "text/html": [
       "<style>\n",
       ".dl-inline {width: auto; margin:0; padding: 0}\n",
       ".dl-inline>dt, .dl-inline>dd {float: none; width: auto; display: inline-block}\n",
       ".dl-inline>dt::after {content: \":\\0020\"; padding-right: .5ex}\n",
       ".dl-inline>dt:not(:first-of-type) {padding-left: .5ex}\n",
       "</style><dl class=dl-inline><dt>(Intercept)</dt><dd>0.596629164827213</dd><dt>BusinessTravelTravel_Frequently</dt><dd>4.81120154414502</dd><dt>BusinessTravelTravel_Rarely</dt><dd>2.54415169432394</dd><dt>MaritalStatusMarried</dt><dd>1.61728178548813</dd><dt>MaritalStatusSingle</dt><dd>2.93143696960074</dd><dt>NumCompaniesWorked</dt><dd>1.08455330287004</dd><dt>TotalWorkingYears</dt><dd>0.958252993872427</dd><dt>YearsWithCurrManager</dt><dd>0.911749298408179</dd><dt>JobSatisfaction</dt><dd>0.795228429894586</dd></dl>\n"
      ],
      "text/latex": [
       "\\begin{description*}\n",
       "\\item[(Intercept)] 0.596629164827213\n",
       "\\item[BusinessTravelTravel\\textbackslash{}\\_Frequently] 4.81120154414502\n",
       "\\item[BusinessTravelTravel\\textbackslash{}\\_Rarely] 2.54415169432394\n",
       "\\item[MaritalStatusMarried] 1.61728178548813\n",
       "\\item[MaritalStatusSingle] 2.93143696960074\n",
       "\\item[NumCompaniesWorked] 1.08455330287004\n",
       "\\item[TotalWorkingYears] 0.958252993872427\n",
       "\\item[YearsWithCurrManager] 0.911749298408179\n",
       "\\item[JobSatisfaction] 0.795228429894586\n",
       "\\end{description*}\n"
      ],
      "text/markdown": [
       "(Intercept)\n",
       ":   0.596629164827213BusinessTravelTravel_Frequently\n",
       ":   4.81120154414502BusinessTravelTravel_Rarely\n",
       ":   2.54415169432394MaritalStatusMarried\n",
       ":   1.61728178548813MaritalStatusSingle\n",
       ":   2.93143696960074NumCompaniesWorked\n",
       ":   1.08455330287004TotalWorkingYears\n",
       ":   0.958252993872427YearsWithCurrManager\n",
       ":   0.911749298408179JobSatisfaction\n",
       ":   0.795228429894586\n",
       "\n"
      ],
      "text/plain": [
       "                    (Intercept) BusinessTravelTravel_Frequently \n",
       "                      0.5966292                       4.8112015 \n",
       "    BusinessTravelTravel_Rarely            MaritalStatusMarried \n",
       "                      2.5441517                       1.6172818 \n",
       "            MaritalStatusSingle              NumCompaniesWorked \n",
       "                      2.9314370                       1.0845533 \n",
       "              TotalWorkingYears            YearsWithCurrManager \n",
       "                      0.9582530                       0.9117493 \n",
       "                JobSatisfaction \n",
       "                      0.7952284 "
      ]
     },
     "metadata": {},
     "output_type": "display_data"
    },
    {
     "data": {
      "text/html": [
       "<table class=\"dataframe\">\n",
       "<caption>A anova: 7 × 5</caption>\n",
       "<thead>\n",
       "\t<tr><th></th><th scope=col>Df</th><th scope=col>Deviance</th><th scope=col>Resid. Df</th><th scope=col>Resid. Dev</th><th scope=col>Pr(&gt;Chi)</th></tr>\n",
       "\t<tr><th></th><th scope=col>&lt;int&gt;</th><th scope=col>&lt;dbl&gt;</th><th scope=col>&lt;int&gt;</th><th scope=col>&lt;dbl&gt;</th><th scope=col>&lt;dbl&gt;</th></tr>\n",
       "</thead>\n",
       "<tbody>\n",
       "\t<tr><th scope=row>NULL</th><td>NA</td><td>      NA</td><td>983</td><td>1364.049</td><td>          NA</td></tr>\n",
       "\t<tr><th scope=row>BusinessTravel</th><td> 2</td><td>28.05663</td><td>981</td><td>1335.992</td><td>8.083145e-07</td></tr>\n",
       "\t<tr><th scope=row>MaritalStatus</th><td> 2</td><td>40.15125</td><td>979</td><td>1295.841</td><td>1.911028e-09</td></tr>\n",
       "\t<tr><th scope=row>NumCompaniesWorked</th><td> 1</td><td> 8.46525</td><td>978</td><td>1287.375</td><td>3.619956e-03</td></tr>\n",
       "\t<tr><th scope=row>TotalWorkingYears</th><td> 1</td><td>42.86185</td><td>977</td><td>1244.514</td><td>5.874510e-11</td></tr>\n",
       "\t<tr><th scope=row>YearsWithCurrManager</th><td> 1</td><td>12.54669</td><td>976</td><td>1231.967</td><td>3.969093e-04</td></tr>\n",
       "\t<tr><th scope=row>JobSatisfaction</th><td> 1</td><td>13.86321</td><td>975</td><td>1218.104</td><td>1.966099e-04</td></tr>\n",
       "</tbody>\n",
       "</table>\n"
      ],
      "text/latex": [
       "A anova: 7 × 5\n",
       "\\begin{tabular}{r|lllll}\n",
       "  & Df & Deviance & Resid. Df & Resid. Dev & Pr(>Chi)\\\\\n",
       "  & <int> & <dbl> & <int> & <dbl> & <dbl>\\\\\n",
       "\\hline\n",
       "\tNULL & NA &       NA & 983 & 1364.049 &           NA\\\\\n",
       "\tBusinessTravel &  2 & 28.05663 & 981 & 1335.992 & 8.083145e-07\\\\\n",
       "\tMaritalStatus &  2 & 40.15125 & 979 & 1295.841 & 1.911028e-09\\\\\n",
       "\tNumCompaniesWorked &  1 &  8.46525 & 978 & 1287.375 & 3.619956e-03\\\\\n",
       "\tTotalWorkingYears &  1 & 42.86185 & 977 & 1244.514 & 5.874510e-11\\\\\n",
       "\tYearsWithCurrManager &  1 & 12.54669 & 976 & 1231.967 & 3.969093e-04\\\\\n",
       "\tJobSatisfaction &  1 & 13.86321 & 975 & 1218.104 & 1.966099e-04\\\\\n",
       "\\end{tabular}\n"
      ],
      "text/markdown": [
       "\n",
       "A anova: 7 × 5\n",
       "\n",
       "| <!--/--> | Df &lt;int&gt; | Deviance &lt;dbl&gt; | Resid. Df &lt;int&gt; | Resid. Dev &lt;dbl&gt; | Pr(&gt;Chi) &lt;dbl&gt; |\n",
       "|---|---|---|---|---|---|\n",
       "| NULL | NA |       NA | 983 | 1364.049 |           NA |\n",
       "| BusinessTravel |  2 | 28.05663 | 981 | 1335.992 | 8.083145e-07 |\n",
       "| MaritalStatus |  2 | 40.15125 | 979 | 1295.841 | 1.911028e-09 |\n",
       "| NumCompaniesWorked |  1 |  8.46525 | 978 | 1287.375 | 3.619956e-03 |\n",
       "| TotalWorkingYears |  1 | 42.86185 | 977 | 1244.514 | 5.874510e-11 |\n",
       "| YearsWithCurrManager |  1 | 12.54669 | 976 | 1231.967 | 3.969093e-04 |\n",
       "| JobSatisfaction |  1 | 13.86321 | 975 | 1218.104 | 1.966099e-04 |\n",
       "\n"
      ],
      "text/plain": [
       "                     Df Deviance Resid. Df Resid. Dev Pr(>Chi)    \n",
       "NULL                 NA       NA 983       1364.049             NA\n",
       "BusinessTravel        2 28.05663 981       1335.992   8.083145e-07\n",
       "MaritalStatus         2 40.15125 979       1295.841   1.911028e-09\n",
       "NumCompaniesWorked    1  8.46525 978       1287.375   3.619956e-03\n",
       "TotalWorkingYears     1 42.86185 977       1244.514   5.874510e-11\n",
       "YearsWithCurrManager  1 12.54669 976       1231.967   3.969093e-04\n",
       "JobSatisfaction       1 13.86321 975       1218.104   1.966099e-04"
      ]
     },
     "metadata": {},
     "output_type": "display_data"
    },
    {
     "data": {
      "text/html": [
       "<style>\n",
       ".dl-inline {width: auto; margin:0; padding: 0}\n",
       ".dl-inline>dt, .dl-inline>dd {float: none; width: auto; display: inline-block}\n",
       ".dl-inline>dt::after {content: \":\\0020\"; padding-right: .5ex}\n",
       ".dl-inline>dt:not(:first-of-type) {padding-left: .5ex}\n",
       "</style><dl class=dl-inline><dt>1</dt><dd>0.339605453555343</dd><dt>2</dt><dd>0.656843188579099</dd><dt>3</dt><dd>0.533995430256147</dd><dt>4</dt><dd>0.33970567878852</dd><dt>5</dt><dd>0.327723586064014</dd><dt>6</dt><dd>0.463901099576945</dd></dl>\n"
      ],
      "text/latex": [
       "\\begin{description*}\n",
       "\\item[1] 0.339605453555343\n",
       "\\item[2] 0.656843188579099\n",
       "\\item[3] 0.533995430256147\n",
       "\\item[4] 0.33970567878852\n",
       "\\item[5] 0.327723586064014\n",
       "\\item[6] 0.463901099576945\n",
       "\\end{description*}\n"
      ],
      "text/markdown": [
       "1\n",
       ":   0.3396054535553432\n",
       ":   0.6568431885790993\n",
       ":   0.5339954302561474\n",
       ":   0.339705678788525\n",
       ":   0.3277235860640146\n",
       ":   0.463901099576945\n",
       "\n"
      ],
      "text/plain": [
       "        1         2         3         4         5         6 \n",
       "0.3396055 0.6568432 0.5339954 0.3397057 0.3277236 0.4639011 "
      ]
     },
     "metadata": {},
     "output_type": "display_data"
    },
    {
     "data": {
      "text/plain": [
       "   Min. 1st Qu.  Median    Mean 3rd Qu.    Max. \n",
       "0.08759 0.36032 0.50503 0.49775 0.64523 0.87428 "
      ]
     },
     "metadata": {},
     "output_type": "display_data"
    },
    {
     "data": {
      "text/html": [
       "<style>\n",
       ".list-inline {list-style: none; margin:0; padding: 0}\n",
       ".list-inline>li {display: inline-block}\n",
       ".list-inline>li:not(:last-child)::after {content: \"\\00b7\"; padding: 0 .5ex}\n",
       "</style>\n",
       "<ol class=list-inline><li>0</li><li>1</li><li>1</li><li>0</li><li>0</li><li>0</li></ol>\n"
      ],
      "text/latex": [
       "\\begin{enumerate*}\n",
       "\\item 0\n",
       "\\item 1\n",
       "\\item 1\n",
       "\\item 0\n",
       "\\item 0\n",
       "\\item 0\n",
       "\\end{enumerate*}\n"
      ],
      "text/markdown": [
       "1. 0\n",
       "2. 1\n",
       "3. 1\n",
       "4. 0\n",
       "5. 0\n",
       "6. 0\n",
       "\n",
       "\n"
      ],
      "text/plain": [
       "[1] 0 1 1 0 0 0"
      ]
     },
     "metadata": {},
     "output_type": "display_data"
    },
    {
     "data": {
      "text/plain": [
       "\n",
       "  0   1 \n",
       "207 210 "
      ]
     },
     "metadata": {},
     "output_type": "display_data"
    },
    {
     "data": {
      "text/plain": [
       "Confusion Matrix and Statistics\n",
       "\n",
       "          Reference\n",
       "Prediction   0   1\n",
       "         0 136  71\n",
       "         1  66 144\n",
       "                                          \n",
       "               Accuracy : 0.6715          \n",
       "                 95% CI : (0.6241, 0.7164)\n",
       "    No Information Rate : 0.5156          \n",
       "    P-Value [Acc > NIR] : 8.171e-11       \n",
       "                                          \n",
       "                  Kappa : 0.3428          \n",
       "                                          \n",
       " Mcnemar's Test P-Value : 0.7325          \n",
       "                                          \n",
       "            Sensitivity : 0.6698          \n",
       "            Specificity : 0.6733          \n",
       "         Pos Pred Value : 0.6857          \n",
       "         Neg Pred Value : 0.6570          \n",
       "             Prevalence : 0.5156          \n",
       "         Detection Rate : 0.3453          \n",
       "   Detection Prevalence : 0.5036          \n",
       "      Balanced Accuracy : 0.6715          \n",
       "                                          \n",
       "       'Positive' Class : 1               \n",
       "                                          "
      ]
     },
     "metadata": {},
     "output_type": "display_data"
    },
    {
     "data": {
      "text/plain": [
       "Area under the curve (AUC): 0.672"
      ]
     },
     "metadata": {},
     "output_type": "display_data"
    },
    {
     "data": {
      "image/png": "[encoded data removed]"
     },
     "metadata": {
      "image/png": {
       "height": 420,
       "width": 420
      }
     },
     "output_type": "display_data"
    },
    {
     "data": {
      "text/html": [
       "0.741434492286438"
      ],
      "text/latex": [
       "0.741434492286438"
      ],
      "text/markdown": [
       "0.741434492286438"
      ],
      "text/plain": [
       "[1] 0.7414345"
      ]
     },
     "metadata": {},
     "output_type": "display_data"
    },
    {
     "data": {
      "image/png": "[encoded data removed]"
     },
     "metadata": {
      "image/png": {
       "height": 420,
       "width": 420
      }
     },
     "output_type": "display_data"
    }
   ],
   "source": [
    "#Try one last revised model:\n",
    "\n",
    "#there is significance but we could try one additional model using Age, BusinessTravel, MaritalStatus,NumCOmpaniesWorkedfor,TotalWorkingyears, YearswithcurrentManager, and Jobsatisfaction\n",
    "model2_ANOVA = glm(Attrition~BusinessTravel + MaritalStatus + NumCompaniesWorked + TotalWorkingYears + YearsWithCurrManager + JobSatisfaction, family= \"binomial\", data = train_under)\n",
    "summary(model2_ANOVA)\n",
    "\n",
    "#maybe a better model? \n",
    "\n",
    "#vif(model2_ANOVA)\n",
    "\n",
    "exp(coef(model2_ANOVA))\n",
    "\n",
    "anova(model2_ANOVA, test = \"Chisq\")\n",
    "\n",
    "\n",
    "Attrition_Predict3 = predict(object = model2_ANOVA, newdata = test_under, type = \"response\")\n",
    "head(Attrition_Predict3)\n",
    "summary(Attrition_Predict3)\n",
    "\n",
    "test_under$predicted3 = ifelse(Attrition_Predict3>=0.5,1,0)\n",
    "head(test_under$predicted3) \n",
    "\n",
    "levels(test_under$Attrition) <- c(0,1) #add levels to work confusion matrix\n",
    "\n",
    "##CONFUSION MATRIX\n",
    "table(test_under$predicted3)\n",
    "confusionMatrix(data=as.factor(test_under$predicted3),\n",
    "                reference = as.factor(test_under$Attrition),\n",
    "                positive = \"1\")\n",
    "\n",
    "#ROC Curve\n",
    "roc.curve(test_under$Attrition,test_under$predicted3)\n",
    "\n",
    "roc_pred2 = prediction(predictions = Attrition_Predict3, labels = test_under$Attrition)\n",
    "roc_perf2 = performance(roc_pred, \"tpr\" , \"fpr\")\n",
    "plot(roc_perf2,\n",
    "     colorize = TRUE,\n",
    "     print.cutoffs.at = seq(0,1,0.05),\n",
    "     text.adj=c(-0.2,1.7))\n",
    "\n",
    "as.numeric(performance(roc_pred2,\"auc\")@y.values)\n",
    "#AUC is 0.7414 which means the mode has a 73.4% chance to distinguish between a 0 and a 1"
   ]
  },
  {
   "cell_type": "code",
   "execution_count": 27,
   "id": "ffab4916",
   "metadata": {
    "execution": {
     "iopub.execute_input": "2023-08-21T23:03:37.518756Z",
     "iopub.status.busy": "2023-08-21T23:03:37.517159Z",
     "iopub.status.idle": "2023-08-21T23:03:37.573271Z",
     "shell.execute_reply": "2023-08-21T23:03:37.571362Z"
    },
    "papermill": {
     "duration": 0.091765,
     "end_time": "2023-08-21T23:03:37.575932",
     "exception": false,
     "start_time": "2023-08-21T23:03:37.484167",
     "status": "completed"
    },
    "tags": []
   },
   "outputs": [],
   "source": [
    "library(ipred)\n",
    "library(caret)\n",
    "library(ipred)\n",
    "library(rpart)\n",
    "library(rpart.plot)\n",
    "library(lattice)"
   ]
  },
  {
   "cell_type": "code",
   "execution_count": 28,
   "id": "ff76d5e7",
   "metadata": {
    "execution": {
     "iopub.execute_input": "2023-08-21T23:03:37.642793Z",
     "iopub.status.busy": "2023-08-21T23:03:37.641169Z",
     "iopub.status.idle": "2023-08-21T23:03:37.838404Z",
     "shell.execute_reply": "2023-08-21T23:03:37.836489Z"
    },
    "papermill": {
     "duration": 0.233385,
     "end_time": "2023-08-21T23:03:37.840871",
     "exception": false,
     "start_time": "2023-08-21T23:03:37.607486",
     "status": "completed"
    },
    "tags": []
   },
   "outputs": [
    {
     "name": "stderr",
     "output_type": "stream",
     "text": [
      "Warning message:\n",
      "“\u001b[1m\u001b[22mThere was 1 warning in `mutate()`.\n",
      "\u001b[1m\u001b[22m\u001b[36mℹ\u001b[39m In argument: `EnvironmentSatisfaction = as.numeric(EnvironmentSatisfaction)`.\n",
      "Caused by warning:\n",
      "\u001b[33m!\u001b[39m NAs introduced by coercion”\n"
     ]
    },
    {
     "data": {
      "text/html": [
       "<style>\n",
       ".dl-inline {width: auto; margin:0; padding: 0}\n",
       ".dl-inline>dt, .dl-inline>dd {float: none; width: auto; display: inline-block}\n",
       ".dl-inline>dt::after {content: \":\\0020\"; padding-right: .5ex}\n",
       ".dl-inline>dt:not(:first-of-type) {padding-left: .5ex}\n",
       "</style><dl class=dl-inline><dt>Age</dt><dd>0</dd><dt>Attrition</dt><dd>0</dd><dt>BusinessTravel</dt><dd>0</dd><dt>DistanceFromHome</dt><dd>0</dd><dt>Education</dt><dd>0</dd><dt>EmployeeID</dt><dd>0</dd><dt>Gender</dt><dd>0</dd><dt>JobLevel</dt><dd>0</dd><dt>MaritalStatus</dt><dd>0</dd><dt>Income</dt><dd>0</dd><dt>NumCompaniesWorked</dt><dd>0</dd><dt>StandardHours</dt><dd>0</dd><dt>TotalWorkingYears</dt><dd>0</dd><dt>TrainingTimesLastYear</dt><dd>0</dd><dt>YearsAtCompany</dt><dd>0</dd><dt>YearsWithCurrManager</dt><dd>0</dd><dt>EnvironmentSatisfaction</dt><dd>0</dd><dt>JobSatisfaction</dt><dd>0</dd></dl>\n"
      ],
      "text/latex": [
       "\\begin{description*}\n",
       "\\item[Age] 0\n",
       "\\item[Attrition] 0\n",
       "\\item[BusinessTravel] 0\n",
       "\\item[DistanceFromHome] 0\n",
       "\\item[Education] 0\n",
       "\\item[EmployeeID] 0\n",
       "\\item[Gender] 0\n",
       "\\item[JobLevel] 0\n",
       "\\item[MaritalStatus] 0\n",
       "\\item[Income] 0\n",
       "\\item[NumCompaniesWorked] 0\n",
       "\\item[StandardHours] 0\n",
       "\\item[TotalWorkingYears] 0\n",
       "\\item[TrainingTimesLastYear] 0\n",
       "\\item[YearsAtCompany] 0\n",
       "\\item[YearsWithCurrManager] 0\n",
       "\\item[EnvironmentSatisfaction] 0\n",
       "\\item[JobSatisfaction] 0\n",
       "\\end{description*}\n"
      ],
      "text/markdown": [
       "Age\n",
       ":   0Attrition\n",
       ":   0BusinessTravel\n",
       ":   0DistanceFromHome\n",
       ":   0Education\n",
       ":   0EmployeeID\n",
       ":   0Gender\n",
       ":   0JobLevel\n",
       ":   0MaritalStatus\n",
       ":   0Income\n",
       ":   0NumCompaniesWorked\n",
       ":   0StandardHours\n",
       ":   0TotalWorkingYears\n",
       ":   0TrainingTimesLastYear\n",
       ":   0YearsAtCompany\n",
       ":   0YearsWithCurrManager\n",
       ":   0EnvironmentSatisfaction\n",
       ":   0JobSatisfaction\n",
       ":   0\n",
       "\n"
      ],
      "text/plain": [
       "                    Age               Attrition          BusinessTravel \n",
       "                      0                       0                       0 \n",
       "       DistanceFromHome               Education              EmployeeID \n",
       "                      0                       0                       0 \n",
       "                 Gender                JobLevel           MaritalStatus \n",
       "                      0                       0                       0 \n",
       "                 Income      NumCompaniesWorked           StandardHours \n",
       "                      0                       0                       0 \n",
       "      TotalWorkingYears   TrainingTimesLastYear          YearsAtCompany \n",
       "                      0                       0                       0 \n",
       "   YearsWithCurrManager EnvironmentSatisfaction         JobSatisfaction \n",
       "                      0                       0                       0 "
      ]
     },
     "metadata": {},
     "output_type": "display_data"
    },
    {
     "name": "stderr",
     "output_type": "stream",
     "text": [
      "Warning message:\n",
      "“\u001b[1m\u001b[22mThere was 1 warning in `mutate()`.\n",
      "\u001b[1m\u001b[22m\u001b[36mℹ\u001b[39m In argument: `EnvironmentSatisfaction = as.numeric(EnvironmentSatisfaction)`.\n",
      "Caused by warning:\n",
      "\u001b[33m!\u001b[39m NAs introduced by coercion”\n"
     ]
    },
    {
     "data": {
      "text/html": [
       "<style>\n",
       ".dl-inline {width: auto; margin:0; padding: 0}\n",
       ".dl-inline>dt, .dl-inline>dd {float: none; width: auto; display: inline-block}\n",
       ".dl-inline>dt::after {content: \":\\0020\"; padding-right: .5ex}\n",
       ".dl-inline>dt:not(:first-of-type) {padding-left: .5ex}\n",
       "</style><dl class=dl-inline><dt>Age</dt><dd>0</dd><dt>Attrition</dt><dd>0</dd><dt>BusinessTravel</dt><dd>0</dd><dt>DistanceFromHome</dt><dd>0</dd><dt>Education</dt><dd>0</dd><dt>EmployeeID</dt><dd>0</dd><dt>Gender</dt><dd>0</dd><dt>JobLevel</dt><dd>0</dd><dt>MaritalStatus</dt><dd>0</dd><dt>Income</dt><dd>0</dd><dt>NumCompaniesWorked</dt><dd>0</dd><dt>StandardHours</dt><dd>0</dd><dt>TotalWorkingYears</dt><dd>0</dd><dt>TrainingTimesLastYear</dt><dd>0</dd><dt>YearsAtCompany</dt><dd>0</dd><dt>YearsWithCurrManager</dt><dd>0</dd><dt>EnvironmentSatisfaction</dt><dd>0</dd><dt>JobSatisfaction</dt><dd>0</dd></dl>\n"
      ],
      "text/latex": [
       "\\begin{description*}\n",
       "\\item[Age] 0\n",
       "\\item[Attrition] 0\n",
       "\\item[BusinessTravel] 0\n",
       "\\item[DistanceFromHome] 0\n",
       "\\item[Education] 0\n",
       "\\item[EmployeeID] 0\n",
       "\\item[Gender] 0\n",
       "\\item[JobLevel] 0\n",
       "\\item[MaritalStatus] 0\n",
       "\\item[Income] 0\n",
       "\\item[NumCompaniesWorked] 0\n",
       "\\item[StandardHours] 0\n",
       "\\item[TotalWorkingYears] 0\n",
       "\\item[TrainingTimesLastYear] 0\n",
       "\\item[YearsAtCompany] 0\n",
       "\\item[YearsWithCurrManager] 0\n",
       "\\item[EnvironmentSatisfaction] 0\n",
       "\\item[JobSatisfaction] 0\n",
       "\\end{description*}\n"
      ],
      "text/markdown": [
       "Age\n",
       ":   0Attrition\n",
       ":   0BusinessTravel\n",
       ":   0DistanceFromHome\n",
       ":   0Education\n",
       ":   0EmployeeID\n",
       ":   0Gender\n",
       ":   0JobLevel\n",
       ":   0MaritalStatus\n",
       ":   0Income\n",
       ":   0NumCompaniesWorked\n",
       ":   0StandardHours\n",
       ":   0TotalWorkingYears\n",
       ":   0TrainingTimesLastYear\n",
       ":   0YearsAtCompany\n",
       ":   0YearsWithCurrManager\n",
       ":   0EnvironmentSatisfaction\n",
       ":   0JobSatisfaction\n",
       ":   0\n",
       "\n"
      ],
      "text/plain": [
       "                    Age               Attrition          BusinessTravel \n",
       "                      0                       0                       0 \n",
       "       DistanceFromHome               Education              EmployeeID \n",
       "                      0                       0                       0 \n",
       "                 Gender                JobLevel           MaritalStatus \n",
       "                      0                       0                       0 \n",
       "                 Income      NumCompaniesWorked           StandardHours \n",
       "                      0                       0                       0 \n",
       "      TotalWorkingYears   TrainingTimesLastYear          YearsAtCompany \n",
       "                      0                       0                       0 \n",
       "   YearsWithCurrManager EnvironmentSatisfaction         JobSatisfaction \n",
       "                      0                       0                       0 "
      ]
     },
     "metadata": {},
     "output_type": "display_data"
    }
   ],
   "source": [
    "#I HAD TO DO THIS IN ORDER TO MAKE THE PRED2 AND RMSE BELOW THIS CHUNK TO WORK#\n",
    "\n",
    "train = train %>%\n",
    "  mutate(TotalWorkingYears = as.numeric(TotalWorkingYears),\n",
    "         JobSatisfaction = as.numeric(JobSatisfaction),\n",
    "         NumCompaniesWorked = as.numeric(NumCompaniesWorked),\n",
    "         EnvironmentSatisfaction = as.numeric(EnvironmentSatisfaction),\n",
    "         Attrition = as.numeric(Attrition)) %>%\n",
    "  mutate(BusinessTravel = as.factor(BusinessTravel),\n",
    "         JobLevel = as.factor(JobLevel),\n",
    "         MaritalStatus = as.factor(MaritalStatus),\n",
    "         Gender = as.factor(Gender),\n",
    "         Education = as.factor(Education))\n",
    "\n",
    "train$NumCompaniesWorked[is.na(train$NumCompaniesWorked)] = median(train$NumCompaniesWorked, na.rm = TRUE)\n",
    "train$TotalWorkingYears[is.na(train$TotalWorkingYears)] = median(train$TotalWorkingYears, na.rm = TRUE)\n",
    "train$EnvironmentSatisfaction[is.na(train$EnvironmentSatisfaction)] = median(train$EnvironmentSatisfaction, na.rm = TRUE)\n",
    "train$JobSatisfaction[is.na(train$JobSatisfaction)] = mean(train$JobSatisfaction, na.rm = TRUE)\n",
    "\n",
    "sapply(train, function(x)sum(is.na(x)))\n",
    "\n",
    "test = test %>%\n",
    "  mutate(TotalWorkingYears = as.numeric(TotalWorkingYears),\n",
    "         JobSatisfaction = as.numeric(JobSatisfaction),\n",
    "         NumCompaniesWorked = as.numeric(NumCompaniesWorked),\n",
    "         EnvironmentSatisfaction = as.numeric(EnvironmentSatisfaction),\n",
    "         Attrition = as.numeric(Attrition)) %>%\n",
    "  mutate(BusinessTravel = as.factor(BusinessTravel),\n",
    "         JobLevel = as.factor(JobLevel),\n",
    "         MaritalStatus = as.factor(MaritalStatus),\n",
    "         Gender = as.factor(Gender),\n",
    "         Education = as.factor(Education))\n",
    "\n",
    "test$NumCompaniesWorked[is.na(test$NumCompaniesWorked)] = median(test$NumCompaniesWorked, na.rm = TRUE)\n",
    "test$TotalWorkingYears[is.na(test$TotalWorkingYears)] = median(test$TotalWorkingYears, na.rm = TRUE)\n",
    "test$EnvironmentSatisfaction[is.na(test$EnvironmentSatisfaction)] = mean(test$EnvironmentSatisfaction, na.rm = TRUE)\n",
    "test$JobSatisfaction[is.na(test$JobSatisfaction)] = median(test$JobSatisfaction, na.rm = TRUE)\n",
    "\n",
    "sapply(test, function(x)sum(is.na(x)))\n",
    "\n",
    "\n",
    "train =train %>% \n",
    "  mutate_at(vars(JobSatisfaction), ~ifelse(is.na(.), mean(., na.rm = TRUE), .))\n",
    "\n",
    "test = test %>% \n",
    "  mutate_at(vars(JobSatisfaction), ~ifelse(is.na(.), mean(., na.rm = TRUE), .))"
   ]
  },
  {
   "cell_type": "code",
   "execution_count": 29,
   "id": "42298970",
   "metadata": {
    "execution": {
     "iopub.execute_input": "2023-08-21T23:03:37.909454Z",
     "iopub.status.busy": "2023-08-21T23:03:37.907768Z",
     "iopub.status.idle": "2023-08-21T23:03:52.935736Z",
     "shell.execute_reply": "2023-08-21T23:03:52.932744Z"
    },
    "papermill": {
     "duration": 15.06601,
     "end_time": "2023-08-21T23:03:52.939693",
     "exception": false,
     "start_time": "2023-08-21T23:03:37.873683",
     "status": "completed"
    },
    "tags": []
   },
   "outputs": [
    {
     "data": {
      "text/plain": [
       "Bagged CART \n",
       "\n",
       "984 samples\n",
       " 17 predictor\n",
       "  2 classes: 'No', 'Yes' \n",
       "\n",
       "No pre-processing\n",
       "Resampling: Cross-Validated (10 fold) \n",
       "Summary of sample sizes: 886, 885, 886, 886, 885, 885, ... \n",
       "Resampling results:\n",
       "\n",
       "  Accuracy   Kappa    \n",
       "  0.8617708  0.7231852\n"
      ]
     },
     "metadata": {},
     "output_type": "display_data"
    },
    {
     "data": {
      "text/plain": [
       "Cross-Validated (10 fold) Confusion Matrix \n",
       "\n",
       "(entries are percentual average cell counts across resamples)\n",
       " \n",
       "          Reference\n",
       "Prediction   No  Yes\n",
       "       No  39.8  4.1\n",
       "       Yes  9.8 46.3\n",
       "                            \n",
       " Accuracy (average) : 0.8618\n"
      ]
     },
     "metadata": {},
     "output_type": "display_data"
    },
    {
     "data": {
      "image/png": "[encoded data removed]"
     },
     "metadata": {
      "image/png": {
       "height": 420,
       "width": 420
      }
     },
     "output_type": "display_data"
    },
    {
     "data": {
      "text/html": [
       "0.883133778494129"
      ],
      "text/latex": [
       "0.883133778494129"
      ],
      "text/markdown": [
       "0.883133778494129"
      ],
      "text/plain": [
       "[1] 0.8831338"
      ]
     },
     "metadata": {},
     "output_type": "display_data"
    },
    {
     "data": {
      "image/png": "[encoded data removed]"
     },
     "metadata": {
      "image/png": {
       "height": 420,
       "width": 420
      }
     },
     "output_type": "display_data"
    }
   ],
   "source": [
    "# CV bagged model\n",
    "\n",
    "#specify 10-fikd criss vakudatuib\n",
    "ctrl = trainControl(method = \"cv\", number = 10)\n",
    "\n",
    "bagged_cv = train(\n",
    "  Attrition ~ ., \n",
    "  data = train_under,\n",
    "  method = \"treebag\",\n",
    "  trControl = ctrl, \n",
    "  importance = TRUE\n",
    ")\n",
    "\n",
    "# assess results\n",
    "bagged_cv\n",
    "\n",
    "#Plot most important variables \n",
    "plot(varImp(bagged_cv), 10) \n",
    "\n",
    "#Accuracy - 0.837  #KAPPA 0.67\n",
    "\n",
    "#CONFUSION MATRIX\n",
    "confusionMatrix(bagged_cv)\n",
    "\n",
    "\n",
    "#Prediction on Training Data \n",
    "#Performance on Training Data \n",
    "#Performance on the Test Data\n",
    "\n",
    "pred_bag <- predict(bagged_cv, train_under)\n",
    "\n",
    "\n",
    "#Performance on Test Data \n",
    "pred_bag_test = predict(bagged_cv, test_under)\n",
    "\n",
    "\n",
    "\n",
    "### Looks better\n",
    "\n",
    "#ROC Curve and AUC \n",
    "#convert them to numeric from factor for ROC curve \n",
    "pred_bag_test = as.numeric(pred_bag_test)\n",
    "\n",
    "test_under$Attrition = as.numeric(test_under$Attrition)\n",
    "\n",
    "roc_rpart = prediction(pred_bag_test, test_under$Attrition)\n",
    "\n",
    "rpart_perform = performance(roc_rpart, measure = \"tpr\", x.measure = \"fpr\")\n",
    "\n",
    "plot(rpart_perform)\n",
    "\n",
    "\n",
    "### AUC \n",
    "auc_rpart = performance(roc_rpart, measure = \"auc\")\n",
    "auc_rpart = auc_rpart@y.values[[1]]\n",
    "auc_rpart"
   ]
  },
  {
   "cell_type": "code",
   "execution_count": 30,
   "id": "1c26783b",
   "metadata": {
    "execution": {
     "iopub.execute_input": "2023-08-21T23:03:53.015119Z",
     "iopub.status.busy": "2023-08-21T23:03:53.013309Z",
     "iopub.status.idle": "2023-08-21T23:03:55.578862Z",
     "shell.execute_reply": "2023-08-21T23:03:55.575842Z"
    },
    "papermill": {
     "duration": 2.607335,
     "end_time": "2023-08-21T23:03:55.583094",
     "exception": false,
     "start_time": "2023-08-21T23:03:52.975759",
     "status": "completed"
    },
    "tags": []
   },
   "outputs": [
    {
     "name": "stderr",
     "output_type": "stream",
     "text": [
      "randomForest 4.6-14\n",
      "\n",
      "Type rfNews() to see new features/changes/bug fixes.\n",
      "\n",
      "\n",
      "Attaching package: ‘randomForest’\n",
      "\n",
      "\n",
      "The following object is masked from ‘package:dplyr’:\n",
      "\n",
      "    combine\n",
      "\n",
      "\n",
      "The following object is masked from ‘package:ggplot2’:\n",
      "\n",
      "    margin\n",
      "\n",
      "\n"
     ]
    },
    {
     "data": {
      "text/plain": [
       "\n",
       "Call:\n",
       " randomForest(formula = Attrition ~ ., data = train_under, ntree = 500) \n",
       "               Type of random forest: classification\n",
       "                     Number of trees: 500\n",
       "No. of variables tried at each split: 4\n",
       "\n",
       "        OOB estimate of  error rate: 9.76%\n",
       "Confusion matrix:\n",
       "     No Yes class.error\n",
       "No  420  68  0.13934426\n",
       "Yes  28 468  0.05645161"
      ]
     },
     "metadata": {},
     "output_type": "display_data"
    },
    {
     "data": {
      "text/plain": [
       "\n",
       "Call:\n",
       " randomForest(formula = Attrition ~ ., data = train_under, ntree = ntrees) \n",
       "               Type of random forest: classification\n",
       "                     Number of trees: 326\n",
       "No. of variables tried at each split: 4\n",
       "\n",
       "        OOB estimate of  error rate: 10.37%\n",
       "Confusion matrix:\n",
       "     No Yes class.error\n",
       "No  414  74  0.15163934\n",
       "Yes  28 468  0.05645161"
      ]
     },
     "metadata": {},
     "output_type": "display_data"
    },
    {
     "name": "stdout",
     "output_type": "stream",
     "text": [
      "'data.frame':\t984 obs. of  18 variables:\n",
      " $ Age                    : num  37 24 29 49 25 31 43 34 46 38 ...\n",
      " $ Attrition              : Factor w/ 2 levels \"No\",\"Yes\": 1 1 1 1 1 1 1 1 1 1 ...\n",
      " $ BusinessTravel         : Factor w/ 3 levels \"Non-Travel\",\"Travel_Frequently\",..: 2 3 3 2 3 3 2 3 3 2 ...\n",
      " $ DistanceFromHome       : num  2 2 16 6 2 21 5 2 2 25 ...\n",
      " $ Education              : Factor w/ 5 levels \"1\",\"2\",\"3\",\"4\",..: 4 1 3 1 4 3 3 3 1 3 ...\n",
      " $ EmployeeID             : num  1435 2796 4007 1211 4116 ...\n",
      " $ Gender                 : Factor w/ 2 levels \"Female\",\"Male\": 2 2 1 2 1 2 1 2 1 2 ...\n",
      " $ JobLevel               : Factor w/ 5 levels \"1\",\"2\",\"3\",\"4\",..: 2 2 1 3 2 2 2 2 3 2 ...\n",
      " $ MaritalStatus          : Factor w/ 3 levels \"Divorced\",\"Married\",..: 1 2 1 2 1 2 2 2 1 3 ...\n",
      " $ Income                 : num  52380 34070 22100 29960 27850 ...\n",
      " $ NumCompaniesWorked     : num  1 0 8 2 0 1 8 1 9 1 ...\n",
      " $ StandardHours          : num  8 8 8 8 8 8 8 8 8 8 ...\n",
      " $ TotalWorkingYears      : num  10 6 11 17 6 6 18 10 23 10 ...\n",
      " $ TrainingTimesLastYear  : num  5 4 4 2 2 1 3 2 2 2 ...\n",
      " $ YearsAtCompany         : num  10 5 7 9 5 6 8 10 2 10 ...\n",
      " $ YearsWithCurrManager   : num  7 2 6 8 4 1 1 6 2 9 ...\n",
      " $ EnvironmentSatisfaction: chr  \"2\" \"2\" \"4\" \"4\" ...\n",
      " $ JobSatisfaction        : num  4 3 3 2 3 1 1 3 4 4 ...\n",
      "'data.frame':\t417 obs. of  23 variables:\n",
      " $ Age                    : num  34 37 30 49 38 24 34 38 36 49 ...\n",
      " $ Attrition              : num  1 1 1 1 1 1 1 1 1 1 ...\n",
      " $ BusinessTravel         : Factor w/ 3 levels \"Non-Travel\",\"Travel_Frequently\",..: 3 3 2 3 3 3 3 3 3 2 ...\n",
      " $ DistanceFromHome       : num  19 16 1 7 8 6 12 6 2 1 ...\n",
      " $ Education              : Factor w/ 5 levels \"1\",\"2\",\"3\",\"4\",..: 3 3 4 3 3 2 2 3 2 4 ...\n",
      " $ EmployeeID             : num  4068 265 4197 3727 1490 ...\n",
      " $ Gender                 : Factor w/ 2 levels \"Female\",\"Male\": 1 2 2 2 1 2 2 2 2 1 ...\n",
      " $ JobLevel               : Factor w/ 5 levels \"1\",\"2\",\"3\",\"4\",..: 1 3 1 3 1 2 2 2 3 2 ...\n",
      " $ MaritalStatus          : Factor w/ 3 levels \"Divorced\",\"Married\",..: 1 3 3 2 1 2 1 2 2 2 ...\n",
      " $ Income                 : num  33390 33880 20330 53240 68700 ...\n",
      " $ NumCompaniesWorked     : num  1 3 1 2 1 0 1 1 6 1 ...\n",
      " $ StandardHours          : num  8 8 8 8 8 8 8 8 8 8 ...\n",
      " $ TotalWorkingYears      : num  9 4 12 20 8 4 1 15 10 10 ...\n",
      " $ TrainingTimesLastYear  : num  2 2 3 2 5 1 0 4 2 2 ...\n",
      " $ YearsAtCompany         : num  8 1 12 3 8 3 1 15 3 10 ...\n",
      " $ YearsWithCurrManager   : num  1 0 7 2 7 2 0 11 2 7 ...\n",
      " $ EnvironmentSatisfaction: chr  \"4\" \"4\" \"3\" \"1\" ...\n",
      " $ JobSatisfaction        : num  3 4 4 3 1 3 2 1 3 2 ...\n",
      " $ predicted              : num  0 1 1 0 0 1 1 0 1 0 ...\n",
      " $ predicted_MGMT         : num  0 1 0 0 1 1 1 1 0 1 ...\n",
      " $ predicted_MKTG         : num  0 1 1 0 0 1 0 0 0 0 ...\n",
      " $ predicted2             : num  0 1 1 0 0 1 1 0 1 1 ...\n",
      " $ predicted3             : num  0 1 1 0 0 0 0 0 1 1 ...\n"
     ]
    },
    {
     "data": {
      "image/png": "[encoded data removed]"
     },
     "metadata": {
      "image/png": {
       "height": 420,
       "width": 420
      }
     },
     "output_type": "display_data"
    },
    {
     "data": {
      "text/plain": [
       "A performance instance\n",
       "  'Area under the ROC curve'"
      ]
     },
     "metadata": {},
     "output_type": "display_data"
    },
    {
     "data": {
      "text/html": [
       "0.950034538337555"
      ],
      "text/latex": [
       "0.950034538337555"
      ],
      "text/markdown": [
       "0.950034538337555"
      ],
      "text/plain": [
       "[1] 0.9500345"
      ]
     },
     "metadata": {},
     "output_type": "display_data"
    },
    {
     "data": {
      "text/html": [
       "<table class=\"dataframe\">\n",
       "<caption>A data.frame: 17 × 1</caption>\n",
       "<thead>\n",
       "\t<tr><th></th><th scope=col>Overall</th></tr>\n",
       "\t<tr><th></th><th scope=col>&lt;dbl&gt;</th></tr>\n",
       "</thead>\n",
       "<tbody>\n",
       "\t<tr><th scope=row>Age</th><td>53.528845</td></tr>\n",
       "\t<tr><th scope=row>BusinessTravel</th><td>15.106161</td></tr>\n",
       "\t<tr><th scope=row>DistanceFromHome</th><td>39.530624</td></tr>\n",
       "\t<tr><th scope=row>Education</th><td>25.225126</td></tr>\n",
       "\t<tr><th scope=row>EmployeeID</th><td>30.982905</td></tr>\n",
       "\t<tr><th scope=row>Gender</th><td> 7.169701</td></tr>\n",
       "\t<tr><th scope=row>JobLevel</th><td>24.634578</td></tr>\n",
       "\t<tr><th scope=row>MaritalStatus</th><td>20.450246</td></tr>\n",
       "\t<tr><th scope=row>Income</th><td>55.260818</td></tr>\n",
       "\t<tr><th scope=row>NumCompaniesWorked</th><td>31.027847</td></tr>\n",
       "\t<tr><th scope=row>StandardHours</th><td> 0.000000</td></tr>\n",
       "\t<tr><th scope=row>TotalWorkingYears</th><td>47.743607</td></tr>\n",
       "\t<tr><th scope=row>TrainingTimesLastYear</th><td>24.962231</td></tr>\n",
       "\t<tr><th scope=row>YearsAtCompany</th><td>39.693735</td></tr>\n",
       "\t<tr><th scope=row>YearsWithCurrManager</th><td>33.120781</td></tr>\n",
       "\t<tr><th scope=row>EnvironmentSatisfaction</th><td>22.066891</td></tr>\n",
       "\t<tr><th scope=row>JobSatisfaction</th><td>20.414145</td></tr>\n",
       "</tbody>\n",
       "</table>\n"
      ],
      "text/latex": [
       "A data.frame: 17 × 1\n",
       "\\begin{tabular}{r|l}\n",
       "  & Overall\\\\\n",
       "  & <dbl>\\\\\n",
       "\\hline\n",
       "\tAge & 53.528845\\\\\n",
       "\tBusinessTravel & 15.106161\\\\\n",
       "\tDistanceFromHome & 39.530624\\\\\n",
       "\tEducation & 25.225126\\\\\n",
       "\tEmployeeID & 30.982905\\\\\n",
       "\tGender &  7.169701\\\\\n",
       "\tJobLevel & 24.634578\\\\\n",
       "\tMaritalStatus & 20.450246\\\\\n",
       "\tIncome & 55.260818\\\\\n",
       "\tNumCompaniesWorked & 31.027847\\\\\n",
       "\tStandardHours &  0.000000\\\\\n",
       "\tTotalWorkingYears & 47.743607\\\\\n",
       "\tTrainingTimesLastYear & 24.962231\\\\\n",
       "\tYearsAtCompany & 39.693735\\\\\n",
       "\tYearsWithCurrManager & 33.120781\\\\\n",
       "\tEnvironmentSatisfaction & 22.066891\\\\\n",
       "\tJobSatisfaction & 20.414145\\\\\n",
       "\\end{tabular}\n"
      ],
      "text/markdown": [
       "\n",
       "A data.frame: 17 × 1\n",
       "\n",
       "| <!--/--> | Overall &lt;dbl&gt; |\n",
       "|---|---|\n",
       "| Age | 53.528845 |\n",
       "| BusinessTravel | 15.106161 |\n",
       "| DistanceFromHome | 39.530624 |\n",
       "| Education | 25.225126 |\n",
       "| EmployeeID | 30.982905 |\n",
       "| Gender |  7.169701 |\n",
       "| JobLevel | 24.634578 |\n",
       "| MaritalStatus | 20.450246 |\n",
       "| Income | 55.260818 |\n",
       "| NumCompaniesWorked | 31.027847 |\n",
       "| StandardHours |  0.000000 |\n",
       "| TotalWorkingYears | 47.743607 |\n",
       "| TrainingTimesLastYear | 24.962231 |\n",
       "| YearsAtCompany | 39.693735 |\n",
       "| YearsWithCurrManager | 33.120781 |\n",
       "| EnvironmentSatisfaction | 22.066891 |\n",
       "| JobSatisfaction | 20.414145 |\n",
       "\n"
      ],
      "text/plain": [
       "                        Overall  \n",
       "Age                     53.528845\n",
       "BusinessTravel          15.106161\n",
       "DistanceFromHome        39.530624\n",
       "Education               25.225126\n",
       "EmployeeID              30.982905\n",
       "Gender                   7.169701\n",
       "JobLevel                24.634578\n",
       "MaritalStatus           20.450246\n",
       "Income                  55.260818\n",
       "NumCompaniesWorked      31.027847\n",
       "StandardHours            0.000000\n",
       "TotalWorkingYears       47.743607\n",
       "TrainingTimesLastYear   24.962231\n",
       "YearsAtCompany          39.693735\n",
       "YearsWithCurrManager    33.120781\n",
       "EnvironmentSatisfaction 22.066891\n",
       "JobSatisfaction         20.414145"
      ]
     },
     "metadata": {},
     "output_type": "display_data"
    },
    {
     "data": {
      "image/png": "[encoded data removed]"
     },
     "metadata": {
      "image/png": {
       "height": 420,
       "width": 420
      }
     },
     "output_type": "display_data"
    },
    {
     "data": {
      "image/png": "[encoded data removed]"
     },
     "metadata": {
      "image/png": {
       "height": 420,
       "width": 420
      }
     },
     "output_type": "display_data"
    }
   ],
   "source": [
    "#RANDOM FOREST\n",
    "\n",
    "library(randomForest)\n",
    "rf.tree.attrition = randomForest(Attrition ~., data=train_under, ntree = 500)\n",
    "rf.tree.attrition\n",
    "\n",
    "plot(rf.tree.attrition)\n",
    "\n",
    "\n",
    "#Model tunning \n",
    "## we will build a model with the number of trees that give us the minimum OOB error \n",
    "ntrees = which.min(rf.tree.attrition$err.rate[,1])\n",
    "\n",
    "rf.tree.attrition1 = randomForest(Attrition ~., data = train_under, ntree = ntrees)\n",
    "rf.tree.attrition1\n",
    "\n",
    "#Prediction and COnfusion Matrix \n",
    "str(train_under)\n",
    "str(test_under)\n",
    "\n",
    "train_under$Attrition = as.factor(train_under$Attrition)\n",
    "\n",
    "test_under$Attrition = as.factor(test_under$Attrition)\n",
    "\n",
    "rf.trees.predict = predict(rf.tree.attrition, newdata = test_under, type=\"class\")\n",
    "\n",
    "\n",
    "#Model Performance  \n",
    "require(ROCR)\n",
    "\n",
    "tree.attrition.predict2 <- predict(rf.tree.attrition, test_under, type=\"prob\")\n",
    "predROC <- prediction(tree.attrition.predict2[,2], test_under$Attrition)\n",
    "perfROC <- performance(predROC, \"tpr\", \"fpr\")\n",
    "plot(perfROC)\n",
    "abline(a=0, b=1)\n",
    "\n",
    "\n",
    "#CALC Area under the curve \n",
    "perfROC = performance(predROC, \"auc\")\n",
    "perfROC\n",
    "perfROC@y.values[[1]]\n",
    "\n",
    "#Variable Importance \n",
    "varImp(rf.tree.attrition)\n",
    "\n",
    "varImpPlot(rf.tree.attrition)"
   ]
  },
  {
   "cell_type": "code",
   "execution_count": 31,
   "id": "f1620633",
   "metadata": {
    "execution": {
     "iopub.execute_input": "2023-08-21T23:03:55.667613Z",
     "iopub.status.busy": "2023-08-21T23:03:55.665959Z",
     "iopub.status.idle": "2023-08-21T23:06:54.969267Z",
     "shell.execute_reply": "2023-08-21T23:06:54.967500Z"
    },
    "papermill": {
     "duration": 179.349121,
     "end_time": "2023-08-21T23:06:54.973136",
     "exception": false,
     "start_time": "2023-08-21T23:03:55.624015",
     "status": "completed"
    },
    "tags": []
   },
   "outputs": [
    {
     "name": "stderr",
     "output_type": "stream",
     "text": [
      "Warning message in randomForest.default(m, y, ...):\n",
      "“The response has five or fewer unique values.  Are you sure you want to do regression?”\n"
     ]
    },
    {
     "data": {
      "text/plain": [
       "\n",
       "Call:\n",
       " randomForest(formula = Attrition ~ ., data = train, na.action = na.roughfix) \n",
       "               Type of random forest: regression\n",
       "                     Number of trees: 500\n",
       "No. of variables tried at each split: 5\n",
       "\n",
       "          Mean of squared residuals: 0.03470071\n",
       "                    % Var explained: 74.27"
      ]
     },
     "metadata": {},
     "output_type": "display_data"
    },
    {
     "data": {
      "text/html": [
       "459"
      ],
      "text/latex": [
       "459"
      ],
      "text/markdown": [
       "459"
      ],
      "text/plain": [
       "[1] 459"
      ]
     },
     "metadata": {},
     "output_type": "display_data"
    },
    {
     "data": {
      "text/html": [
       "0.186058587477434"
      ],
      "text/latex": [
       "0.186058587477434"
      ],
      "text/markdown": [
       "0.186058587477434"
      ],
      "text/plain": [
       "[1] 0.1860586"
      ]
     },
     "metadata": {},
     "output_type": "display_data"
    },
    {
     "name": "stderr",
     "output_type": "stream",
     "text": [
      "Warning message in randomForest.default(x, y, mtry = mtryStart, ntree = ntreeTry, :\n",
      "“The response has five or fewer unique values.  Are you sure you want to do regression?”\n",
      "Warning message in randomForest.default(x, y, mtry = mtryCur, ntree = ntreeTry, :\n",
      "“The response has five or fewer unique values.  Are you sure you want to do regression?”\n"
     ]
    },
    {
     "name": "stdout",
     "output_type": "stream",
     "text": [
      "-0.02984973 0.01 \n"
     ]
    },
    {
     "name": "stderr",
     "output_type": "stream",
     "text": [
      "Warning message in randomForest.default(x, y, mtry = mtryCur, ntree = ntreeTry, :\n",
      "“The response has five or fewer unique values.  Are you sure you want to do regression?”\n"
     ]
    },
    {
     "name": "stdout",
     "output_type": "stream",
     "text": [
      "0.04043683 0.01 \n"
     ]
    },
    {
     "name": "stderr",
     "output_type": "stream",
     "text": [
      "Warning message in randomForest.default(x, y, mtry = mtryCur, ntree = ntreeTry, :\n",
      "“The response has five or fewer unique values.  Are you sure you want to do regression?”\n"
     ]
    },
    {
     "name": "stdout",
     "output_type": "stream",
     "text": [
      "0.03825736 0.01 \n"
     ]
    },
    {
     "name": "stderr",
     "output_type": "stream",
     "text": [
      "Warning message in randomForest.default(x, y, mtry = mtryCur, ntree = ntreeTry, :\n",
      "“The response has five or fewer unique values.  Are you sure you want to do regression?”\n"
     ]
    },
    {
     "name": "stdout",
     "output_type": "stream",
     "text": [
      "0.01331563 0.01 \n"
     ]
    },
    {
     "name": "stderr",
     "output_type": "stream",
     "text": [
      "Warning message in randomForest.default(x, y, mtry = mtryCur, ntree = ntreeTry, :\n",
      "“The response has five or fewer unique values.  Are you sure you want to do regression?”\n"
     ]
    },
    {
     "name": "stdout",
     "output_type": "stream",
     "text": [
      "0.001243682 0.01 \n"
     ]
    },
    {
     "data": {
      "image/png": "[encoded data removed]"
     },
     "metadata": {
      "image/png": {
       "height": 420,
       "width": 420
      }
     },
     "output_type": "display_data"
    },
    {
     "name": "stderr",
     "output_type": "stream",
     "text": [
      "Warning message in randomForest.default(m, y, ...):\n",
      "“The response has five or fewer unique values.  Are you sure you want to do regression?”\n"
     ]
    },
    {
     "data": {
      "text/plain": [
       "   user  system elapsed \n",
       " 13.186   0.120  13.306 "
      ]
     },
     "metadata": {},
     "output_type": "display_data"
    },
    {
     "data": {
      "text/html": [
       "64"
      ],
      "text/latex": [
       "64"
      ],
      "text/markdown": [
       "64"
      ],
      "text/plain": [
       "[1] 64"
      ]
     },
     "metadata": {},
     "output_type": "display_data"
    },
    {
     "data": {
      "image/png": "[encoded data removed]"
     },
     "metadata": {
      "image/png": {
       "height": 420,
       "width": 420
      }
     },
     "output_type": "display_data"
    }
   ],
   "source": [
    "set.seed(123) #For reproducibility\n",
    "\n",
    "#Making another model for Random Forest, na.roughfix was replaced with na.omit because I keep getting errors\n",
    "m1 = randomForest(\n",
    "  formula = Attrition ~ .,\n",
    "  data = train,\n",
    "  na.action = na.roughfix\n",
    ")\n",
    "m1\n",
    "\n",
    "#Plotting the model will illustarte the error rate as we average across more trees\n",
    "plot(m1) #Error rate stabilizes at around 50 trees, error rate is based on the OOB sample\n",
    "\n",
    "#number of trees with lowest MSE\n",
    "which.min(m1$mse) #355  was the answer\n",
    "\n",
    "#RMSE of this optimal random forest\n",
    "sqrt(m1$mse[which.min(m1$mse)]) #0.1857795\n",
    "\n",
    "#I SKIPPED THE OPTIONAL CODE PART OF THE SLIDES AND WENT TO INITIAL TUNING#\n",
    "\n",
    "features = setdiff(names(train), \"Attrition\")\n",
    "\n",
    "set.seed(123)\n",
    "m2 = tuneRF(\n",
    "  x = train[features],\n",
    "  y = train$Attrition,\n",
    "  ntreeTry = 500,\n",
    "  mtryStart = 5,\n",
    "  stepFactor = 1.5,\n",
    "  improve = 0.01, #error should lower by 0.01 or more\n",
    "  trace = FALSE #to not show real time progress\n",
    ")\n",
    "\n",
    "#To perform a larger grid search across several hyperparameters we'll need to create a grid and loop through each hyperparameter combination and evaluate the model\n",
    "#Full grid search with ranger package\n",
    "#randomForest speed\n",
    "\n",
    " system.time(\n",
    "  canterra_randomForest <- randomForest(\n",
    "    formula = Attrition ~ .,\n",
    "    data = train,\n",
    "    ntree = 500,\n",
    "    mtry = floor(length(features) / 3)\n",
    "  )) #Make sure you use the <- symbol for the randomforest name\n",
    "\n",
    "#Using ranger which is supposed to be faster than randomForest which is above but crossed out with hashtags\n",
    "#system.time(\n",
    " # canterra_ranger <- ranger(\n",
    "  #  formula = Attrition ~ .,\n",
    "   # data = train,\n",
    "    #num.trees = 500,\n",
    "    #m#try = floor(length(features)/3)\n",
    " # )) #Make sure you use the <- symbol for the ranger name\n",
    "\n",
    "\n",
    "\n",
    "#To perform grid search we want to construct our grid of hyperparameters,\n",
    "#We will search through various models with varying mtry, minimum node size, and sample size\n",
    "\n",
    "#Hyperparameter grid search\n",
    "hyper_grid = expand.grid(\n",
    "  mtry = seq(4, 10, by = 2),\n",
    "  node_size = seq(3, 9, by = 2), #Minimum no. of samples in the terminal nodes\n",
    "  sampe_size = c(.55, .632, .70, .80), #size of bootstrap samples to train on\n",
    "  OOB_RMSE = 0\n",
    ")\n",
    "\n",
    "#Total number of combinations\n",
    "nrow(hyper_grid)\n",
    "\n",
    "#Looping through each hyperparameter combination and apply 500 trees\n",
    "#the random number seed allows to consistently sample the same observations for each sample size\n",
    "\n",
    "#for(i in 1:nrow(hyper_grid)){\n",
    "  #train model\n",
    "  #model_grid = ranger(\n",
    "    #formula = Attrition ~ .,\n",
    "    #data = train,\n",
    "    #num.trees = 500,\n",
    "    #mtry = hyper_grid$mtry[i],\n",
    "    #min.node.size = hyper_grid$node_size[i],\n",
    "    #sample.fraction = hyper_grid$sampe_size[i],\n",
    "    #seed = 123)\n",
    "  #hyper_grid$OOB_RMSE[i] = sqrt(model_grid$prediction.error) #add OOB error to grid\n",
    "#}\n",
    "\n",
    "\n",
    "#hyper_grid %>%\n",
    "  #arrange(OOB_RMSE) %>%\n",
    "  #head(10)"
   ]
  },
  {
   "cell_type": "code",
   "execution_count": 32,
   "id": "15edf4a7",
   "metadata": {
    "execution": {
     "iopub.execute_input": "2023-08-21T23:06:55.071000Z",
     "iopub.status.busy": "2023-08-21T23:06:55.069278Z",
     "iopub.status.idle": "2023-08-21T23:06:55.126416Z",
     "shell.execute_reply": "2023-08-21T23:06:55.124426Z"
    },
    "papermill": {
     "duration": 0.10644,
     "end_time": "2023-08-21T23:06:55.128904",
     "exception": false,
     "start_time": "2023-08-21T23:06:55.022464",
     "status": "completed"
    },
    "tags": []
   },
   "outputs": [
    {
     "name": "stderr",
     "output_type": "stream",
     "text": [
      "\n",
      "Attaching package: ‘janitor’\n",
      "\n",
      "\n",
      "The following objects are masked from ‘package:stats’:\n",
      "\n",
      "    chisq.test, fisher.test\n",
      "\n",
      "\n"
     ]
    }
   ],
   "source": [
    "library(janitor)"
   ]
  },
  {
   "cell_type": "code",
   "execution_count": 33,
   "id": "9fd2141f",
   "metadata": {
    "execution": {
     "iopub.execute_input": "2023-08-21T23:06:55.219700Z",
     "iopub.status.busy": "2023-08-21T23:06:55.217969Z",
     "iopub.status.idle": "2023-08-21T23:06:55.270802Z",
     "shell.execute_reply": "2023-08-21T23:06:55.268777Z"
    },
    "papermill": {
     "duration": 0.100836,
     "end_time": "2023-08-21T23:06:55.273291",
     "exception": false,
     "start_time": "2023-08-21T23:06:55.172455",
     "status": "completed"
    },
    "tags": []
   },
   "outputs": [],
   "source": [
    "#Although, random forests typically perform quite well with\n",
    "#categorical variables in their original columnar form, it is worth\n",
    "#checking to see if alternative encodings can increase performance.\n",
    "\n",
    "# one-hot encode our categorical variables\n",
    "one_hot = dummyVars(~., train, fullRank = FALSE)\n",
    "train_hot = predict(one_hot, train) %>% as.data.frame()\n",
    "\n",
    "#Make ranger compatibile names\n",
    "names(train_hot) = make.names(names(train_hot), allow_ = FALSE)\n",
    "\n",
    "# hyperparameter grid search --> same as above but with increased mtry values\n",
    "hyper_grid_2 = expand.grid(\n",
    "  mtry = seq(10, 100, by = 20),\n",
    "  node_size = seq(3, 9, by = 2),\n",
    "  sampe_size = c(.55, .632, .70, .80),\n",
    "  OOB_RMSE = 0\n",
    ")\n",
    "\n",
    "#for(i in 1:nrow(hyper_grid_2)){\n",
    "  #model_grid_2 <- ranger(\n",
    "    #formula = Attrition ~ .,\n",
    "    #data = train_hot,\n",
    "    #num.trees = 500,\n",
    "    #mtry = hyper_grid_2$mtry[i],\n",
    "    #min.node.size = hyper_grid_2$node_size[i],\n",
    "    #sample.fraction = hyper_grid_2$sampe_size[i],\n",
    "    #seed = 123)\n",
    "  #hyper_grid_2$OOB_RMSE[i] <- sqrt(model_grid_2$prediction.error) \n",
    "#}"
   ]
  },
  {
   "cell_type": "code",
   "execution_count": 34,
   "id": "8d6f959a",
   "metadata": {
    "execution": {
     "iopub.execute_input": "2023-08-21T23:06:55.363781Z",
     "iopub.status.busy": "2023-08-21T23:06:55.362042Z",
     "iopub.status.idle": "2023-08-21T23:06:55.375733Z",
     "shell.execute_reply": "2023-08-21T23:06:55.373889Z"
    },
    "papermill": {
     "duration": 0.062089,
     "end_time": "2023-08-21T23:06:55.378126",
     "exception": false,
     "start_time": "2023-08-21T23:06:55.316037",
     "status": "completed"
    },
    "tags": []
   },
   "outputs": [],
   "source": [
    "#The best RF model we have found retains categorical variables and uses 10 variables and terminal node size of 7 observations and sample\n",
    "#size 80%; Lets repeat this model to get a better expectation of the error rate\n",
    "\n",
    "#OOB_RMSE = vector(mode = \"numeric\", length = 100)\n",
    "\n",
    "#for(i in seq_along(OOB_RMSE)){\n",
    " # optimal_ranger = ranger(\n",
    "  #formula = Attrition ~.,\n",
    "  #data = train_hot,\n",
    "  #num.trees = 500,\n",
    "  #mtry = 50,\n",
    "  #min.node.size = 7,\n",
    "  #sample.fraction = .8,\n",
    "  #importance = \"impurity\")\n",
    "  #OOB_RMSE[i] = sqrt(optimal_ranger$prediction.error)\n",
    "#}"
   ]
  }
 ],
 "metadata": {
  "kernelspec": {
   "display_name": "R",
   "language": "R",
   "name": "ir"
  },
  "language_info": {
   "codemirror_mode": "r",
   "file_extension": ".r",
   "mimetype": "text/x-r-source",
   "name": "R",
   "pygments_lexer": "r",
   "version": "4.0.5"
  },
  "papermill": {
   "default_parameters": {},
   "duration": 211.532013,
   "end_time": "2023-08-21T23:06:55.543698",
   "environment_variables": {},
   "exception": null,
   "input_path": "__notebook__.ipynb",
   "output_path": "__notebook__.ipynb",
   "parameters": {},
   "start_time": "2023-08-21T23:03:24.011685",
   "version": "2.4.0"
  }
 },
 "nbformat": 4,
 "nbformat_minor": 5
}
